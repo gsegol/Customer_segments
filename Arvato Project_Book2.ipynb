{
 "cells": [
  {
   "cell_type": "markdown",
   "metadata": {},
   "source": [
    "## Capstone Project: Create a Customer Segmentation Report for Arvato Financial Services - Book2\n"
   ]
  },
  {
   "cell_type": "code",
   "execution_count": 328,
   "metadata": {},
   "outputs": [],
   "source": [
    "# import libraries here; add more as necessary\n",
    "import numpy as np\n",
    "import pandas as pd\n",
    "import matplotlib.pyplot as plt\n",
    "import seaborn as sns\n",
    "\n",
    "#from sklearn.preprocessing import Imputer\n",
    "from sklearn.impute import SimpleImputer\n",
    "from sklearn.preprocessing import StandardScaler\n",
    "from sklearn.decomposition import PCA\n",
    "from sklearn.cluster import KMeans\n",
    "from sklearn.ensemble import RandomForestClassifier, AdaBoostClassifier\n",
    "from sklearn.svm import SVC\n",
    "from sklearn.metrics import roc_auc_score, roc_curve, plot_roc_curve, accuracy_score\n",
    "from sklearn.model_selection import train_test_split,  GridSearchCV\n",
    "\n",
    "# magic word for producing visualizations in notebook\n",
    "%matplotlib inline"
   ]
  },
  {
   "cell_type": "markdown",
   "metadata": {},
   "source": [
    "## Part 1: \n",
    "\n",
    "Customer Segmentation Report\n",
    "The main bulk of your analysis will come in this part of the project. Here, you should use unsupervised learning techniques to describe the relationship between the demographics of the company's existing customers and the general population of Germany. By the end of this part, you should be able to describe parts of the general population that are more likely to be part of the mail-order company's main customer base, and which parts of the general population are less so."
   ]
  },
  {
   "cell_type": "code",
   "execution_count": 329,
   "metadata": {},
   "outputs": [
    {
     "data": {
      "text/html": [
       "<div>\n",
       "<style scoped>\n",
       "    .dataframe tbody tr th:only-of-type {\n",
       "        vertical-align: middle;\n",
       "    }\n",
       "\n",
       "    .dataframe tbody tr th {\n",
       "        vertical-align: top;\n",
       "    }\n",
       "\n",
       "    .dataframe thead th {\n",
       "        text-align: right;\n",
       "    }\n",
       "</style>\n",
       "<table border=\"1\" class=\"dataframe\">\n",
       "  <thead>\n",
       "    <tr style=\"text-align: right;\">\n",
       "      <th></th>\n",
       "      <th>AKT_DAT_KL</th>\n",
       "      <th>ALTER_HH</th>\n",
       "      <th>ANZ_HAUSHALTE_AKTIV</th>\n",
       "      <th>ANZ_HH_TITEL</th>\n",
       "      <th>ANZ_KINDER</th>\n",
       "      <th>ANZ_PERSONEN</th>\n",
       "      <th>ANZ_TITEL</th>\n",
       "      <th>ARBEIT</th>\n",
       "      <th>BALLRAUM</th>\n",
       "      <th>CJT_KATALOGNUTZER</th>\n",
       "      <th>...</th>\n",
       "      <th>ZABEOTYP_1</th>\n",
       "      <th>ZABEOTYP_2</th>\n",
       "      <th>ZABEOTYP_3</th>\n",
       "      <th>ZABEOTYP_4</th>\n",
       "      <th>ZABEOTYP_5</th>\n",
       "      <th>ZABEOTYP_6</th>\n",
       "      <th>CAMEO_wealth</th>\n",
       "      <th>CAMEO_life</th>\n",
       "      <th>PR_J_mvt</th>\n",
       "      <th>PR_J_gen</th>\n",
       "    </tr>\n",
       "  </thead>\n",
       "  <tbody>\n",
       "    <tr>\n",
       "      <th>0</th>\n",
       "      <td>9.0</td>\n",
       "      <td>0.0</td>\n",
       "      <td>11.0</td>\n",
       "      <td>0.0</td>\n",
       "      <td>0.0</td>\n",
       "      <td>2.0</td>\n",
       "      <td>0.0</td>\n",
       "      <td>3.0</td>\n",
       "      <td>6.0</td>\n",
       "      <td>1.0</td>\n",
       "      <td>...</td>\n",
       "      <td>0</td>\n",
       "      <td>0</td>\n",
       "      <td>0</td>\n",
       "      <td>0</td>\n",
       "      <td>1</td>\n",
       "      <td>0</td>\n",
       "      <td>51.0</td>\n",
       "      <td>51.0</td>\n",
       "      <td>0</td>\n",
       "      <td>7</td>\n",
       "    </tr>\n",
       "    <tr>\n",
       "      <th>1</th>\n",
       "      <td>9.0</td>\n",
       "      <td>17.0</td>\n",
       "      <td>10.0</td>\n",
       "      <td>0.0</td>\n",
       "      <td>0.0</td>\n",
       "      <td>1.0</td>\n",
       "      <td>0.0</td>\n",
       "      <td>3.0</td>\n",
       "      <td>2.0</td>\n",
       "      <td>2.0</td>\n",
       "      <td>...</td>\n",
       "      <td>0</td>\n",
       "      <td>0</td>\n",
       "      <td>0</td>\n",
       "      <td>0</td>\n",
       "      <td>1</td>\n",
       "      <td>0</td>\n",
       "      <td>24.0</td>\n",
       "      <td>24.0</td>\n",
       "      <td>1</td>\n",
       "      <td>7</td>\n",
       "    </tr>\n",
       "    <tr>\n",
       "      <th>2</th>\n",
       "      <td>1.0</td>\n",
       "      <td>13.0</td>\n",
       "      <td>1.0</td>\n",
       "      <td>0.0</td>\n",
       "      <td>0.0</td>\n",
       "      <td>0.0</td>\n",
       "      <td>0.0</td>\n",
       "      <td>2.0</td>\n",
       "      <td>4.0</td>\n",
       "      <td>3.0</td>\n",
       "      <td>...</td>\n",
       "      <td>0</td>\n",
       "      <td>0</td>\n",
       "      <td>1</td>\n",
       "      <td>0</td>\n",
       "      <td>0</td>\n",
       "      <td>0</td>\n",
       "      <td>12.0</td>\n",
       "      <td>12.0</td>\n",
       "      <td>0</td>\n",
       "      <td>4</td>\n",
       "    </tr>\n",
       "    <tr>\n",
       "      <th>3</th>\n",
       "      <td>1.0</td>\n",
       "      <td>20.0</td>\n",
       "      <td>3.0</td>\n",
       "      <td>0.0</td>\n",
       "      <td>0.0</td>\n",
       "      <td>4.0</td>\n",
       "      <td>0.0</td>\n",
       "      <td>4.0</td>\n",
       "      <td>2.0</td>\n",
       "      <td>3.0</td>\n",
       "      <td>...</td>\n",
       "      <td>0</td>\n",
       "      <td>0</td>\n",
       "      <td>0</td>\n",
       "      <td>1</td>\n",
       "      <td>0</td>\n",
       "      <td>0</td>\n",
       "      <td>43.0</td>\n",
       "      <td>43.0</td>\n",
       "      <td>0</td>\n",
       "      <td>4</td>\n",
       "    </tr>\n",
       "    <tr>\n",
       "      <th>4</th>\n",
       "      <td>1.0</td>\n",
       "      <td>10.0</td>\n",
       "      <td>5.0</td>\n",
       "      <td>0.0</td>\n",
       "      <td>0.0</td>\n",
       "      <td>1.0</td>\n",
       "      <td>0.0</td>\n",
       "      <td>2.0</td>\n",
       "      <td>6.0</td>\n",
       "      <td>5.0</td>\n",
       "      <td>...</td>\n",
       "      <td>0</td>\n",
       "      <td>0</td>\n",
       "      <td>0</td>\n",
       "      <td>1</td>\n",
       "      <td>0</td>\n",
       "      <td>0</td>\n",
       "      <td>54.0</td>\n",
       "      <td>54.0</td>\n",
       "      <td>0</td>\n",
       "      <td>2</td>\n",
       "    </tr>\n",
       "  </tbody>\n",
       "</table>\n",
       "<p>5 rows × 490 columns</p>\n",
       "</div>"
      ],
      "text/plain": [
       "   AKT_DAT_KL  ALTER_HH  ANZ_HAUSHALTE_AKTIV  ANZ_HH_TITEL  ANZ_KINDER  \\\n",
       "0         9.0       0.0                 11.0           0.0         0.0   \n",
       "1         9.0      17.0                 10.0           0.0         0.0   \n",
       "2         1.0      13.0                  1.0           0.0         0.0   \n",
       "3         1.0      20.0                  3.0           0.0         0.0   \n",
       "4         1.0      10.0                  5.0           0.0         0.0   \n",
       "\n",
       "   ANZ_PERSONEN  ANZ_TITEL  ARBEIT  BALLRAUM  CJT_KATALOGNUTZER  ...  \\\n",
       "0           2.0        0.0     3.0       6.0                1.0  ...   \n",
       "1           1.0        0.0     3.0       2.0                2.0  ...   \n",
       "2           0.0        0.0     2.0       4.0                3.0  ...   \n",
       "3           4.0        0.0     4.0       2.0                3.0  ...   \n",
       "4           1.0        0.0     2.0       6.0                5.0  ...   \n",
       "\n",
       "   ZABEOTYP_1  ZABEOTYP_2  ZABEOTYP_3  ZABEOTYP_4  ZABEOTYP_5  ZABEOTYP_6  \\\n",
       "0           0           0           0           0           1           0   \n",
       "1           0           0           0           0           1           0   \n",
       "2           0           0           1           0           0           0   \n",
       "3           0           0           0           1           0           0   \n",
       "4           0           0           0           1           0           0   \n",
       "\n",
       "   CAMEO_wealth  CAMEO_life  PR_J_mvt  PR_J_gen  \n",
       "0          51.0        51.0         0         7  \n",
       "1          24.0        24.0         1         7  \n",
       "2          12.0        12.0         0         4  \n",
       "3          43.0        43.0         0         4  \n",
       "4          54.0        54.0         0         2  \n",
       "\n",
       "[5 rows x 490 columns]"
      ]
     },
     "execution_count": 329,
     "metadata": {},
     "output_type": "execute_result"
    }
   ],
   "source": [
    "# Reading the cleaned datasets \n",
    "azdias_go_ = pd.read_csv('azdias_go.csv', low_memory=False)\n",
    "azdias_go_.drop(['Unnamed: 0'], axis=1, inplace=True)\n",
    "azdias_go_.head()"
   ]
  },
  {
   "cell_type": "code",
   "execution_count": 330,
   "metadata": {},
   "outputs": [
    {
     "data": {
      "text/plain": [
       "(644077, 490)"
      ]
     },
     "execution_count": 330,
     "metadata": {},
     "output_type": "execute_result"
    }
   ],
   "source": [
    "azdias_go_.shape"
   ]
  },
  {
   "cell_type": "code",
   "execution_count": 331,
   "metadata": {},
   "outputs": [
    {
     "data": {
      "text/html": [
       "<div>\n",
       "<style scoped>\n",
       "    .dataframe tbody tr th:only-of-type {\n",
       "        vertical-align: middle;\n",
       "    }\n",
       "\n",
       "    .dataframe tbody tr th {\n",
       "        vertical-align: top;\n",
       "    }\n",
       "\n",
       "    .dataframe thead th {\n",
       "        text-align: right;\n",
       "    }\n",
       "</style>\n",
       "<table border=\"1\" class=\"dataframe\">\n",
       "  <thead>\n",
       "    <tr style=\"text-align: right;\">\n",
       "      <th></th>\n",
       "      <th>AKT_DAT_KL</th>\n",
       "      <th>ALTER_HH</th>\n",
       "      <th>ANZ_HAUSHALTE_AKTIV</th>\n",
       "      <th>ANZ_HH_TITEL</th>\n",
       "      <th>ANZ_KINDER</th>\n",
       "      <th>ANZ_PERSONEN</th>\n",
       "      <th>ANZ_TITEL</th>\n",
       "      <th>ARBEIT</th>\n",
       "      <th>BALLRAUM</th>\n",
       "      <th>CJT_KATALOGNUTZER</th>\n",
       "      <th>...</th>\n",
       "      <th>ZABEOTYP_4</th>\n",
       "      <th>ZABEOTYP_5</th>\n",
       "      <th>ZABEOTYP_6</th>\n",
       "      <th>PRODUCT_GROUP_1</th>\n",
       "      <th>PRODUCT_GROUP_2</th>\n",
       "      <th>PRODUCT_GROUP_3</th>\n",
       "      <th>CAMEO_wealth</th>\n",
       "      <th>CAMEO_life</th>\n",
       "      <th>PR_J_mvt</th>\n",
       "      <th>PR_J_gen</th>\n",
       "    </tr>\n",
       "  </thead>\n",
       "  <tbody>\n",
       "    <tr>\n",
       "      <th>0</th>\n",
       "      <td>1.0</td>\n",
       "      <td>10.0</td>\n",
       "      <td>1.0</td>\n",
       "      <td>0.0</td>\n",
       "      <td>0.0</td>\n",
       "      <td>2.0</td>\n",
       "      <td>0.0</td>\n",
       "      <td>1.0</td>\n",
       "      <td>3.0</td>\n",
       "      <td>4.0</td>\n",
       "      <td>...</td>\n",
       "      <td>0</td>\n",
       "      <td>0</td>\n",
       "      <td>0</td>\n",
       "      <td>0</td>\n",
       "      <td>0</td>\n",
       "      <td>1</td>\n",
       "      <td>13.0</td>\n",
       "      <td>13.0</td>\n",
       "      <td>1</td>\n",
       "      <td>2</td>\n",
       "    </tr>\n",
       "    <tr>\n",
       "      <th>1</th>\n",
       "      <td>9.0</td>\n",
       "      <td>11.0</td>\n",
       "      <td>NaN</td>\n",
       "      <td>NaN</td>\n",
       "      <td>0.0</td>\n",
       "      <td>3.0</td>\n",
       "      <td>0.0</td>\n",
       "      <td>NaN</td>\n",
       "      <td>NaN</td>\n",
       "      <td>NaN</td>\n",
       "      <td>...</td>\n",
       "      <td>0</td>\n",
       "      <td>0</td>\n",
       "      <td>0</td>\n",
       "      <td>0</td>\n",
       "      <td>1</td>\n",
       "      <td>0</td>\n",
       "      <td>NaN</td>\n",
       "      <td>NaN</td>\n",
       "      <td>0</td>\n",
       "      <td>0</td>\n",
       "    </tr>\n",
       "    <tr>\n",
       "      <th>2</th>\n",
       "      <td>1.0</td>\n",
       "      <td>6.0</td>\n",
       "      <td>1.0</td>\n",
       "      <td>0.0</td>\n",
       "      <td>0.0</td>\n",
       "      <td>1.0</td>\n",
       "      <td>0.0</td>\n",
       "      <td>3.0</td>\n",
       "      <td>7.0</td>\n",
       "      <td>5.0</td>\n",
       "      <td>...</td>\n",
       "      <td>0</td>\n",
       "      <td>0</td>\n",
       "      <td>0</td>\n",
       "      <td>0</td>\n",
       "      <td>0</td>\n",
       "      <td>1</td>\n",
       "      <td>34.0</td>\n",
       "      <td>34.0</td>\n",
       "      <td>1</td>\n",
       "      <td>2</td>\n",
       "    </tr>\n",
       "    <tr>\n",
       "      <th>3</th>\n",
       "      <td>1.0</td>\n",
       "      <td>8.0</td>\n",
       "      <td>0.0</td>\n",
       "      <td>NaN</td>\n",
       "      <td>0.0</td>\n",
       "      <td>0.0</td>\n",
       "      <td>0.0</td>\n",
       "      <td>1.0</td>\n",
       "      <td>7.0</td>\n",
       "      <td>5.0</td>\n",
       "      <td>...</td>\n",
       "      <td>0</td>\n",
       "      <td>0</td>\n",
       "      <td>0</td>\n",
       "      <td>1</td>\n",
       "      <td>0</td>\n",
       "      <td>0</td>\n",
       "      <td>24.0</td>\n",
       "      <td>24.0</td>\n",
       "      <td>0</td>\n",
       "      <td>1</td>\n",
       "    </tr>\n",
       "    <tr>\n",
       "      <th>4</th>\n",
       "      <td>1.0</td>\n",
       "      <td>20.0</td>\n",
       "      <td>7.0</td>\n",
       "      <td>0.0</td>\n",
       "      <td>0.0</td>\n",
       "      <td>4.0</td>\n",
       "      <td>0.0</td>\n",
       "      <td>3.0</td>\n",
       "      <td>3.0</td>\n",
       "      <td>4.0</td>\n",
       "      <td>...</td>\n",
       "      <td>0</td>\n",
       "      <td>0</td>\n",
       "      <td>0</td>\n",
       "      <td>0</td>\n",
       "      <td>1</td>\n",
       "      <td>0</td>\n",
       "      <td>41.0</td>\n",
       "      <td>41.0</td>\n",
       "      <td>0</td>\n",
       "      <td>4</td>\n",
       "    </tr>\n",
       "  </tbody>\n",
       "</table>\n",
       "<p>5 rows × 494 columns</p>\n",
       "</div>"
      ],
      "text/plain": [
       "   AKT_DAT_KL  ALTER_HH  ANZ_HAUSHALTE_AKTIV  ANZ_HH_TITEL  ANZ_KINDER  \\\n",
       "0         1.0      10.0                  1.0           0.0         0.0   \n",
       "1         9.0      11.0                  NaN           NaN         0.0   \n",
       "2         1.0       6.0                  1.0           0.0         0.0   \n",
       "3         1.0       8.0                  0.0           NaN         0.0   \n",
       "4         1.0      20.0                  7.0           0.0         0.0   \n",
       "\n",
       "   ANZ_PERSONEN  ANZ_TITEL  ARBEIT  BALLRAUM  CJT_KATALOGNUTZER  ...  \\\n",
       "0           2.0        0.0     1.0       3.0                4.0  ...   \n",
       "1           3.0        0.0     NaN       NaN                NaN  ...   \n",
       "2           1.0        0.0     3.0       7.0                5.0  ...   \n",
       "3           0.0        0.0     1.0       7.0                5.0  ...   \n",
       "4           4.0        0.0     3.0       3.0                4.0  ...   \n",
       "\n",
       "   ZABEOTYP_4  ZABEOTYP_5  ZABEOTYP_6  PRODUCT_GROUP_1  PRODUCT_GROUP_2  \\\n",
       "0           0           0           0                0                0   \n",
       "1           0           0           0                0                1   \n",
       "2           0           0           0                0                0   \n",
       "3           0           0           0                1                0   \n",
       "4           0           0           0                0                1   \n",
       "\n",
       "   PRODUCT_GROUP_3  CAMEO_wealth  CAMEO_life  PR_J_mvt  PR_J_gen  \n",
       "0                1          13.0        13.0         1         2  \n",
       "1                0           NaN         NaN         0         0  \n",
       "2                1          34.0        34.0         1         2  \n",
       "3                0          24.0        24.0         0         1  \n",
       "4                0          41.0        41.0         0         4  \n",
       "\n",
       "[5 rows x 494 columns]"
      ]
     },
     "execution_count": 331,
     "metadata": {},
     "output_type": "execute_result"
    }
   ],
   "source": [
    "customers_go_ = pd.read_csv('customers_go.csv', low_memory=False)\n",
    "customers_go_.drop(['Unnamed: 0'], axis=1, inplace=True)\n",
    "customers_go_.head()"
   ]
  },
  {
   "cell_type": "code",
   "execution_count": 332,
   "metadata": {},
   "outputs": [
    {
     "data": {
      "text/plain": [
       "(191652, 494)"
      ]
     },
     "execution_count": 332,
     "metadata": {},
     "output_type": "execute_result"
    }
   ],
   "source": [
    "customers_go_.shape"
   ]
  },
  {
   "cell_type": "markdown",
   "metadata": {},
   "source": [
    "Find out differences in the columns of `azdias_go_` and `customers_go_`"
   ]
  },
  {
   "cell_type": "code",
   "execution_count": 333,
   "metadata": {},
   "outputs": [],
   "source": [
    "delta1 = np.setdiff1d(list(azdias_go_.columns), list(customers_go_.columns))"
   ]
  },
  {
   "cell_type": "code",
   "execution_count": 334,
   "metadata": {},
   "outputs": [
    {
     "name": "stdout",
     "output_type": "stream",
     "text": [
      "['TITEL_KZ_2.0']\n"
     ]
    }
   ],
   "source": [
    "print(delta1)"
   ]
  },
  {
   "cell_type": "code",
   "execution_count": 335,
   "metadata": {},
   "outputs": [
    {
     "name": "stdout",
     "output_type": "stream",
     "text": [
      "['CUSTOMER_GROUP' 'ONLINE_PURCHASE' 'PRODUCT_GROUP_1' 'PRODUCT_GROUP_2'\n",
      " 'PRODUCT_GROUP_3']\n"
     ]
    }
   ],
   "source": [
    "delta2 = np.setdiff1d(list(customers_go_.columns), list(azdias_go_.columns))\n",
    "print(delta2)"
   ]
  },
  {
   "cell_type": "markdown",
   "metadata": {},
   "source": [
    "The five extra columns in the customers data set come from the three features present in the original customers file and not included in the demographic data.\n",
    "\n",
    "The extra feature in the general population dataset is a dummied column corresponding to a value of TITEL_KZ not present in the customers data.\n",
    "\n",
    "We want the same number of columns in the two datasets for this part of the analysis.  Thus, we remove the columns not shared by the datasets."
   ]
  },
  {
   "cell_type": "code",
   "execution_count": 336,
   "metadata": {},
   "outputs": [
    {
     "name": "stdout",
     "output_type": "stream",
     "text": [
      "(644077, 489)\n",
      "(191652, 489)\n"
     ]
    }
   ],
   "source": [
    "azdias_go = azdias_go_.drop(delta1, axis=1)\n",
    "customers_go = customers_go_.drop(delta2, axis=1)\n",
    "print(azdias_go.shape)\n",
    "print(customers_go.shape)"
   ]
  },
  {
   "cell_type": "code",
   "execution_count": 337,
   "metadata": {},
   "outputs": [
    {
     "data": {
      "image/png": "[encoded data removed]",
      "text/plain": [
       "<Figure size 432x288 with 1 Axes>"
      ]
     },
     "metadata": {
      "needs_background": "light"
     },
     "output_type": "display_data"
    }
   ],
   "source": [
    "# show the distribution of NaNs\n",
    "na_pattern = azdias_go.isna().sum().hist(bins=20)\n",
    "plt.show()"
   ]
  },
  {
   "cell_type": "markdown",
   "metadata": {},
   "source": [
    "We want to use Principal Component Analysis (PCA) for dimensionality reduction"
   ]
  },
  {
   "cell_type": "code",
   "execution_count": 338,
   "metadata": {},
   "outputs": [],
   "source": [
    "# First, use SimpleImputer to remove NaNs.\n",
    "imp = SimpleImputer(strategy='constant', fill_value=0, verbose=3)\n",
    "azdias_imp = imp.fit_transform(azdias_go)"
   ]
  },
  {
   "cell_type": "code",
   "execution_count": 339,
   "metadata": {},
   "outputs": [],
   "source": [
    "# Apply feature scaling to the general population demographics data.\n",
    "scaler = StandardScaler()\n",
    "azdias_scaled = scaler.fit_transform(azdias_imp) "
   ]
  },
  {
   "cell_type": "code",
   "execution_count": 340,
   "metadata": {},
   "outputs": [
    {
     "name": "stdout",
     "output_type": "stream",
     "text": [
      "<class 'pandas.core.frame.DataFrame'>\n",
      "RangeIndex: 644077 entries, 0 to 644076\n",
      "Columns: 489 entries, 0 to 488\n",
      "dtypes: float64(489)\n",
      "memory usage: 2.3 GB\n"
     ]
    }
   ],
   "source": [
    "# create a dataframe from the transformed (imputer/scaler) demographic data\n",
    "df = pd.DataFrame(azdias_scaled)\n",
    "df.info()"
   ]
  },
  {
   "cell_type": "code",
   "execution_count": 341,
   "metadata": {},
   "outputs": [],
   "source": [
    "# Apply PCA to the data.\n",
    "\n",
    "def pca_results(pca):\n",
    "    \n",
    "    # NOTE: This function was obtained from Udacity's course notes/lab work\n",
    "    '''\n",
    "    Create a DataFrame of the PCA results\n",
    "    Includes dimension feature weights and explained variance\n",
    "    Visualizes the results\n",
    "    '''\n",
    "    # Dimension indexing\n",
    "    dimensions = dimensions = ['Dimension {}'.format(i) for i in range(1,len(pca.components_)+1)]\n",
    "\n",
    "    # PCA components\n",
    "    components = pd.DataFrame(np.round(pca.components_, 4), columns = azdias_go.keys())\n",
    "    components.index = dimensions\n",
    "\n",
    "    # PCA explained variance\n",
    "    ratios = pca.explained_variance_ratio_.reshape(len(pca.components_), 1)\n",
    "    variance_ratios = pd.DataFrame(np.round(ratios, 4), columns = ['Explained Variance'])\n",
    "    variance_ratios.index = dimensions\n",
    "       \n",
    "    # Return a concatenated DataFrame\n",
    "    \n",
    "    return pd.concat([variance_ratios, components], axis = 1)"
   ]
  },
  {
   "cell_type": "code",
   "execution_count": 342,
   "metadata": {},
   "outputs": [],
   "source": [
    "# us a scree plot\n",
    "def scree_plot(pca, k):\n",
    "    '''\n",
    "    Creates a scree plot associated with the principal components \n",
    "    \n",
    "    INPUT: \n",
    "    pca - the result of instantiation of PCA in scikit learn\n",
    "    k - the fraction of components to display (e.g., 0.5)\n",
    "            \n",
    "    OUTPUT:\n",
    "            None\n",
    "    '''\n",
    "    num_components=len(pca.explained_variance_ratio_)*k\n",
    "    ind = np.arange(num_components)\n",
    "    vals = pca.explained_variance_ratio_\n",
    "    vals_plot = vals[:len(ind)]\n",
    "   \n",
    " \n",
    "    plt.figure(figsize=(20, 6))\n",
    "    ax = plt.subplot(111)\n",
    "   \n",
    "    cumvals = np.cumsum(vals_plot)\n",
    "    \n",
    "    ax.bar(ind, vals_plot)\n",
    "    ax.plot(ind, cumvals)\n",
    "    for i in range(int(num_components)):\n",
    "    \n",
    "        ax.annotate(r\"%s%%\" % ((str(vals[i]*100)[:4])), (ind[i]+0.2, vals[i]+0.02), va=\"bottom\", ha=\"center\", fontsize=12, rotation=90)\n",
    "    ax.xaxis.set_tick_params(width=0)\n",
    "    ax.yaxis.set_tick_params(width=2, length=12)\n",
    " \n",
    "    ax.set_xlabel(\"Principal Component\")\n",
    "    ax.set_ylabel(\"Variance Explained\")\n",
    "    plt.title('Explained Variance Per Principal Component')"
   ]
  },
  {
   "cell_type": "code",
   "execution_count": 343,
   "metadata": {},
   "outputs": [
    {
     "name": "stdout",
     "output_type": "stream",
     "text": [
      "Using 200 components, we can explain  82.31% of the variability in the original data.\n",
      "Using 210 components, we can explain  83.93% of the variability in the original data.\n",
      "Using 220 components, we can explain  85.55% of the variability in the original data.\n",
      "Using 230 components, we can explain  87.01% of the variability in the original data.\n",
      "Using 240 components, we can explain  88.42% of the variability in the original data.\n",
      "Using 250 components, we can explain  89.76% of the variability in the original data.\n"
     ]
    }
   ],
   "source": [
    "# Try a range of components \n",
    "for n in range(200, 251, 10):\n",
    "    pca = PCA(n)\n",
    "    X_pca = pca.fit_transform(azdias_scaled)\n",
    "    comp_check = pca_results(pca)\n",
    "  \n",
    "    print(\"Using {} components, we can explain {: .2f}% of the variability in the original data.\".format(comp_check.shape[0], comp_check['Explained Variance'].sum()*100)) "
   ]
  },
  {
   "cell_type": "code",
   "execution_count": 344,
   "metadata": {},
   "outputs": [
    {
     "name": "stdout",
     "output_type": "stream",
     "text": [
      "The 220 components used in the following explain  85.550000% of the variability in the original data.\n"
     ]
    }
   ],
   "source": [
    "# go for 220 components (55% reduction in dimensionality)\n",
    "\n",
    "n_components = 220\n",
    "pca = PCA(n_components)\n",
    "X_pca = pca.fit_transform(azdias_scaled)\n",
    "comp_check = pca_results(pca)\n",
    "print(\"The {} components used in the following explain {: 2f}% of the variability in the original data.\".format(comp_check.shape[0], comp_check['Explained Variance'].sum()*100)) "
   ]
  },
  {
   "cell_type": "code",
   "execution_count": 345,
   "metadata": {},
   "outputs": [
    {
     "data": {
      "image/png": "[encoded data removed]",
      "text/plain": [
       "<Figure size 1440x432 with 1 Axes>"
      ]
     },
     "metadata": {
      "needs_background": "light"
     },
     "output_type": "display_data"
    }
   ],
   "source": [
    "scree_plot(pca, 0.3)"
   ]
  },
  {
   "cell_type": "markdown",
   "metadata": {},
   "source": [
    "### Discussion"
   ]
  },
  {
   "cell_type": "markdown",
   "metadata": {},
   "source": [
    "We ran the PCA analysis for 200 to 250 components in increments of 10.  The lower end of the range explained 82.3% of the variability in the original data, and the upper end of the range 89.8%. We settled for 220 components, which reduces the dimensionality by more than half (from 498 tp 220), considering that a gain of 4.2% in accuracy did not seem to justify the lesser dimensionality reduction--and thus the higher complexity--of working with 250 components.\n",
    "With 220 pca components, the first 12 components explain 30% of the total variability, as seen on the chart above."
   ]
  },
  {
   "cell_type": "markdown",
   "metadata": {},
   "source": [
    "### Interpret principal components"
   ]
  },
  {
   "cell_type": "code",
   "execution_count": 346,
   "metadata": {},
   "outputs": [],
   "source": [
    "# Map weights for the first principal component to corresponding feature names\n",
    "\n",
    "def compare_comp(n):\n",
    "    weights_sorted_a = comp_check.iloc[n,1:].sort_values().head(10)\n",
    "    weights_sorted_d = comp_check.iloc[n,1:].sort_values(ascending=False).head(10)\n",
    "    print(f\"\\nWeights for Principal Component {n+1}\")\n",
    "    print(f\"Positive \\n{weights_sorted_d} \\n\")\n",
    "    print(f\"Negative \\n{weights_sorted_a} \\n\")\n",
    "\n",
    "def map_pca(n, pca):\n",
    "    # Dimension indexing\n",
    "    dimensions = dimensions = ['Dimension {}'.format(i) for i in range(1,len(pca.components_)+1)]\n",
    "\n",
    "    # PCA components\n",
    "    components = pd.DataFrame(np.round(pca.components_, 4), columns = azdias_go.keys())\n",
    "    components.index = dimensions\n",
    "    \n",
    "    # Create a bar plot visualization\n",
    "    weights_sorted_a = comp_check.iloc[n,1:].sort_values().head(10)\n",
    "    weights_sorted_d = comp_check.iloc[n,1:].sort_values(ascending=False).head(10)\n",
    "   \n",
    "    df = pd.concat([weights_sorted_d , weights_sorted_a.sort_values(ascending=False)] )\n",
    "    fig, ax = plt.subplots(figsize = (20,8))\n",
    "    df.plot(ax=ax, kind='bar')\n",
    "    ax.set_ylabel(\"Feature Weights\")\n",
    "    ax.set_xticklabels(df.index)\n",
    "    ax.axhline(y=0)\n",
    "    \n",
    "    ax.text(0, ax.get_ylim()[0]/5 +0, \"LARGEST POSITIVE WEIGHTS\", fontsize=16)\n",
    "    ax.text(ax.get_xlim()[1]/2+0.25, ax.get_ylim()[1]/5 + 0, \"LARGEST NEGATIVE WEIGHTS\", fontsize=16)\n",
    "    \n",
    "    print(ax.get_xlim()[0],ax.get_xlim()[1], ax.get_ylim()[0],ax.get_ylim()[1])\n",
    "    "
   ]
  },
  {
   "cell_type": "code",
   "execution_count": 347,
   "metadata": {
    "scrolled": true
   },
   "outputs": [
    {
     "name": "stdout",
     "output_type": "stream",
     "text": [
      "-0.5 19.5 -0.14654499999999998 0.153645\n",
      "\n",
      "Weights for Principal Component 1\n",
      "Positive \n",
      "MOBI_REGIO             0.1400\n",
      "KBA13_ANTG1            0.1334\n",
      "PLZ8_ANTG1             0.1323\n",
      "KBA05_ANTG1            0.1299\n",
      "MOBI_RASTER            0.1277\n",
      "KBA05_GBZ              0.1232\n",
      "LP_STATUS_GROB_4.0     0.1203\n",
      "KBA13_AUTOQUOTE        0.1196\n",
      "FINANZ_MINIMALIST      0.1087\n",
      "LP_LEBENSPHASE_FEIN    0.1085\n",
      "Name: Dimension 1, dtype: float64 \n",
      "\n",
      "Negative \n",
      "PLZ8_ANTG3           -0.1329\n",
      "KBA13_ANTG3          -0.1325\n",
      "KBA13_ANTG4          -0.1288\n",
      "KBA13_BAUMAX         -0.1285\n",
      "PLZ8_ANTG4           -0.1275\n",
      "PLZ8_BAUMAX          -0.1266\n",
      "HH_EINKOMMEN_SCORE   -0.1254\n",
      "LP_STATUS_GROB_1.0   -0.1203\n",
      "EWDICHTE             -0.1087\n",
      "ORTSGR_KLS9          -0.1069\n",
      "Name: Dimension 1, dtype: float64 \n",
      "\n"
     ]
    },
    {
     "data": {
      "image/png": "[encoded data removed]",
      "text/plain": [
       "<Figure size 1440x576 with 1 Axes>"
      ]
     },
     "metadata": {
      "needs_background": "light"
     },
     "output_type": "display_data"
    }
   ],
   "source": [
    "map_pca(0, pca)\n",
    "compare_comp(0)"
   ]
  },
  {
   "cell_type": "code",
   "execution_count": 348,
   "metadata": {},
   "outputs": [
    {
     "name": "stdout",
     "output_type": "stream",
     "text": [
      "-0.5 19.5 -0.07773 0.19573\n",
      "\n",
      "Weights for Principal Component 2\n",
      "Positive \n",
      "KBA05_SEG6        0.1833\n",
      "KBA05_KRSOBER     0.1621\n",
      "KBA05_KRSVAN      0.1583\n",
      "KBA05_KRSZUL      0.1567\n",
      "KBA05_SEG8        0.1509\n",
      "KBA05_KRSKLEIN    0.1458\n",
      "KBA05_SEG7        0.1446\n",
      "KBA05_SEG9        0.1433\n",
      "KBA05_MOTOR       0.1412\n",
      "KBA05_MOD8        0.1408\n",
      "Name: Dimension 2, dtype: float64 \n",
      "\n",
      "Negative \n",
      "PR_J_gen             -0.0653\n",
      "ONLINE_AFFINITAET    -0.0637\n",
      "FINANZ_SPARER        -0.0618\n",
      "FINANZ_ANLEGER       -0.0614\n",
      "CJT_TYP_1            -0.0587\n",
      "CJT_TYP_2            -0.0558\n",
      "D19_GESAMT_ANZ_24    -0.0540\n",
      "D19_GESAMT_ANZ_12    -0.0501\n",
      "D19_VERSAND_ANZ_24   -0.0480\n",
      "SEMIO_PFLICHT        -0.0468\n",
      "Name: Dimension 2, dtype: float64 \n",
      "\n"
     ]
    },
    {
     "data": {
      "image/png": "[encoded data removed]",
      "text/plain": [
       "<Figure size 1440x576 with 1 Axes>"
      ]
     },
     "metadata": {
      "needs_background": "light"
     },
     "output_type": "display_data"
    }
   ],
   "source": [
    "# Map weights for the second principal component to corresponding feature names\n",
    "# and then print the linked values, sorted by weight.\n",
    "\n",
    "map_pca(1, pca)\n",
    "compare_comp(1)"
   ]
  },
  {
   "cell_type": "code",
   "execution_count": 349,
   "metadata": {},
   "outputs": [
    {
     "name": "stdout",
     "output_type": "stream",
     "text": [
      "-0.5 19.5 -0.157965 0.171265\n",
      "\n",
      "Weights for Principal Component 3\n",
      "Positive \n",
      "CJT_TYP_2                0.1563\n",
      "PR_J_gen                 0.1551\n",
      "CJT_TYP_1                0.1533\n",
      "FINANZ_SPARER            0.1525\n",
      "ONLINE_AFFINITAET        0.1403\n",
      "FINANZ_UNAUFFAELLIGER    0.1289\n",
      "SEMIO_PFLICHT            0.1233\n",
      "FINANZ_ANLEGER           0.1212\n",
      "SEMIO_TRADV              0.1201\n",
      "D19_GESAMT_ANZ_24        0.1149\n",
      "Name: Dimension 3, dtype: float64 \n",
      "\n",
      "Negative \n",
      "CJT_TYP_5                 -0.1430\n",
      "FINANZ_VORSORGER          -0.1418\n",
      "CJT_TYP_4                 -0.1392\n",
      "CJT_TYP_3                 -0.1390\n",
      "CJT_TYP_6                 -0.1365\n",
      "KOMBIALTER                -0.1329\n",
      "ALTERSKATEGORIE_GROB      -0.1309\n",
      "ZABEOTYP_3                -0.1206\n",
      "CJT_KATALOGNUTZER         -0.1188\n",
      "D19_GESAMT_ONLINE_DATUM   -0.1125\n",
      "Name: Dimension 3, dtype: float64 \n",
      "\n"
     ]
    },
    {
     "data": {
      "image/png": "[encoded data removed]",
      "text/plain": [
       "<Figure size 1440x576 with 1 Axes>"
      ]
     },
     "metadata": {
      "needs_background": "light"
     },
     "output_type": "display_data"
    }
   ],
   "source": [
    "# Map weights for the third principal component to corresponding feature names\n",
    "# and then print the linked values, sorted by weight.\n",
    "\n",
    "map_pca(2, pca)\n",
    "compare_comp(2)"
   ]
  },
  {
   "cell_type": "markdown",
   "metadata": {},
   "source": [
    "\n",
    "We find it difficult to interpret the components individually, as the same feature might be weighed positively in one component and negatively in another.  See for example FINANZ_ANLEGER which appears among the top positive weights in component 3 and among the top negative weights in component 2.  Rather, we can look at the story they tell as a group.  As such, they emphasize:\n",
    "\n",
    "  * Financial status (FINANZ_, HH_EINKOMMEN_SCORE)\n",
    "  * Residental housing types (PLZ8_)\n",
    "  * Advertising preferences or sensitivity (CJT_)\n",
    "  * Car ownership chacracteristics (KBA05_, KBA13_)\n",
    "  \n",
    "These observations would invite the company to profile existing customers along these dimensions and target new customers accordingly.\n"
   ]
  },
  {
   "cell_type": "markdown",
   "metadata": {},
   "source": [
    "We will now identify clusters for the general population and compare them with clusters for  the customer population"
   ]
  },
  {
   "cell_type": "markdown",
   "metadata": {},
   "source": [
    "## Clustering for the general population"
   ]
  },
  {
   "cell_type": "code",
   "execution_count": 350,
   "metadata": {},
   "outputs": [
    {
     "name": "stdout",
     "output_type": "stream",
     "text": [
      "for 5 clusters, the score = 230957762.34979287\n",
      "for 10 clusters, the score = 219600253.6539975\n",
      "for 15 clusters, the score = 213969752.9154332\n",
      "for 20 clusters, the score = 210422669.87518063\n",
      "for 25 clusters, the score = 207404798.44981736\n"
     ]
    }
   ],
   "source": [
    "# Over a number of different cluster counts...\n",
    "\n",
    "scores = []\n",
    "test_range = np.arange(5, 26, 5)\n",
    "for n in test_range:\n",
    "    n_clusters = n\n",
    "    # run k-means clustering on the data and...\n",
    "    kmean = KMeans(n_clusters)\n",
    "    cluster_labels = kmean.fit_predict(X_pca)\n",
    "\n",
    "    # compute the average within-cluster distances.\n",
    "    score = np.abs(kmean.score(X_pca))\n",
    "    print(f\"for {n_clusters} clusters, the score = {score}\")\n",
    "    scores.append(score)"
   ]
  },
  {
   "cell_type": "code",
   "execution_count": 351,
   "metadata": {},
   "outputs": [
    {
     "data": {
      "image/png": "[encoded data removed]",
      "text/plain": [
       "<Figure size 432x432 with 1 Axes>"
      ]
     },
     "metadata": {
      "needs_background": "light"
     },
     "output_type": "display_data"
    }
   ],
   "source": [
    "# plot the results\n",
    "fig, ax = plt.subplots(figsize=(6,6))\n",
    "\n",
    "line = plt.plot(test_range, scores)\n",
    "plt.setp(line, 'color', 'r', 'linewidth', 2.0, marker='+', ms=15.0)\n",
    "ax.set_ylabel(\"Score\")\n",
    "ax.set_xlabel('Number of Clusters')\n",
    "ax.set_xticks(test_range)\n",
    "plt.show()"
   ]
  },
  {
   "cell_type": "markdown",
   "metadata": {},
   "source": [
    "The above figure shows the change in within-cluster distance as a function of the number of clusters.  We settled for 20 clusters, as the processing time becomes too oerous beyond that point."
   ]
  },
  {
   "cell_type": "code",
   "execution_count": 352,
   "metadata": {},
   "outputs": [
    {
     "name": "stdout",
     "output_type": "stream",
     "text": [
      "for 20 clusters, the score = 210333561.7192371\n"
     ]
    }
   ],
   "source": [
    "# Re-fit the k-means model with the 20 clusters \n",
    "n_clusters = 20\n",
    "\n",
    "kmean = KMeans(n_clusters, random_state=42)\n",
    "cluster_labels = kmean.fit_predict(X_pca)\n",
    "score = np.abs(kmean.score(X_pca))  \n",
    "print(f\"for {n_clusters} clusters, the score = {score}\")"
   ]
  },
  {
   "cell_type": "code",
   "execution_count": 353,
   "metadata": {},
   "outputs": [
    {
     "name": "stdout",
     "output_type": "stream",
     "text": [
      "Data Distribution in clusters\n",
      "\n",
      "[ 0  1  2  3  4  5  6  7  8  9 10 11 12 13 14 15 16 17 18 19]\n",
      "\n",
      "Number of points in each cluster \n",
      "[41333 42611 46170  9069 26122 21049 23866 26306 24878 33838 40031 52427\n",
      " 43844 53788 50606 46488  1609 13177 23317 23548] \n",
      "\n",
      "Relative number of points in each cluster\n",
      " [0.064174   0.06615824 0.07168398 0.01408061 0.04055726 0.03268088\n",
      " 0.03705458 0.04084294 0.03862582 0.0525372  0.06215251 0.08139865\n",
      " 0.06807261 0.08351175 0.07857135 0.07217771 0.00249815 0.02045873\n",
      " 0.03620219 0.03656085] \n"
     ]
    },
    {
     "data": {
      "image/png": "[encoded data removed]",
      "text/plain": [
       "<Figure size 1080x576 with 1 Axes>"
      ]
     },
     "metadata": {
      "needs_background": "light"
     },
     "output_type": "display_data"
    }
   ],
   "source": [
    "#calculate proportion in each cluster\n",
    "import matplotlib.cm as cm\n",
    "\n",
    "unique, cluster_data_count = np.unique(cluster_labels, return_counts=True)\n",
    "cluster_data_ratio = cluster_data_count/X_pca.shape[0]\n",
    "print(\"Data Distribution in clusters\\n\")\n",
    "print(unique)\n",
    "print(f\"\\nNumber of points in each cluster \\n{cluster_data_count} \")\n",
    "print(f\"\\nRelative number of points in each cluster\\n {cluster_data_ratio} \")\n",
    "\n",
    "def cluster_distribution (unique, data, labels, n):\n",
    "    fig, ax = plt.subplots(figsize=(15,8))\n",
    "    colors = cm.nipy_spectral(labels.astype(float) / n)\n",
    "    plt.bar(unique, data, color=colors)\n",
    "    ax.set_ylabel('Relative amount of data in cluster')\n",
    "    ax.set_title('Cluster Distribution')\n",
    "    ax.set_xticks(unique)\n",
    "    plt.show()\n",
    "    \n",
    "cluster_distribution(unique, cluster_data_ratio, cluster_labels, n_clusters)"
   ]
  },
  {
   "cell_type": "code",
   "execution_count": null,
   "metadata": {},
   "outputs": [],
   "source": []
  },
  {
   "cell_type": "markdown",
   "metadata": {},
   "source": [
    "### Follow the same process with customer data"
   ]
  },
  {
   "cell_type": "code",
   "execution_count": 354,
   "metadata": {},
   "outputs": [],
   "source": [
    "# Using the cleaned dataset\n",
    "customers_imp = imp.fit_transform(customers_go)\n",
    "\n",
    "#apply feature scaling\n",
    "customers_scaled = scaler.fit_transform(customers_imp)\n",
    "\n",
    "# apply PCA to customer data:\n",
    "X_pca_customers = pca.transform(customers_scaled)\n",
    "\n",
    "# clustering customer data\n",
    "cluster_labels_customers = kmean.predict(X_pca_customers)"
   ]
  },
  {
   "cell_type": "code",
   "execution_count": 355,
   "metadata": {},
   "outputs": [
    {
     "name": "stdout",
     "output_type": "stream",
     "text": [
      "Data Distribution in clusters(customer data) \n",
      "\n",
      "[ 0  1  2  3  4  5  6  7  8  9 10 11 12 13 14 15 16 17 18 19]\n",
      "\n",
      "Number of points in each cluster \n",
      "[ 3691 10868 10381   933  4129  1709   461  6997  1504  2648  8982  5066\n",
      " 23649 16708 14043 24712    10 46261   982  7918] \n",
      "\n",
      "Relative number of points in each cluster\n",
      " [1.92588650e-02 5.67069480e-02 5.41658840e-02 4.86819861e-03\n",
      " 2.15442573e-02 8.91720410e-03 2.40540146e-03 3.65088807e-02\n",
      " 7.84755703e-03 1.38167095e-02 4.68661950e-02 2.64333271e-02\n",
      " 1.23395529e-01 8.71788450e-02 7.32734331e-02 1.28942041e-01\n",
      " 5.21779058e-05 2.41380210e-01 5.12387035e-03 4.13144658e-02] \n"
     ]
    },
    {
     "data": {
      "image/png": "[encoded data removed]",
      "text/plain": [
       "<Figure size 1080x576 with 1 Axes>"
      ]
     },
     "metadata": {
      "needs_background": "light"
     },
     "output_type": "display_data"
    }
   ],
   "source": [
    "#calculate proportion in each cluster\n",
    "\n",
    "#print(np.unique(cluster_labels_customers))\n",
    "unique, cluster_data_count_customers = np.unique(cluster_labels_customers, return_counts=True)\n",
    "cluster_data_ratio_customers = cluster_data_count_customers/X_pca_customers.shape[0]\n",
    "print(\"Data Distribution in clusters(customer data) \\n\")\n",
    "print(unique)\n",
    "print(f\"\\nNumber of points in each cluster \\n{cluster_data_count_customers} \")\n",
    "print(f\"\\nRelative number of points in each cluster\\n {cluster_data_ratio_customers} \")\n",
    "\n",
    "cluster_distribution(unique, cluster_data_ratio_customers, cluster_labels_customers, n_clusters)"
   ]
  },
  {
   "cell_type": "code",
   "execution_count": 356,
   "metadata": {},
   "outputs": [
    {
     "data": {
      "image/png": "[encoded data removed]",
      "text/plain": [
       "<Figure size 1080x576 with 1 Axes>"
      ]
     },
     "metadata": {
      "needs_background": "light"
     },
     "output_type": "display_data"
    }
   ],
   "source": [
    "# Compare the proportion of data in each cluster for the customer data to the\n",
    "# proportion of data in each cluster for the general population.\n",
    "\n",
    "x = np.arange(len(unique)) \n",
    "width = 0.3  # the width of the bars\n",
    "fig, ax = plt.subplots(figsize=(15,8))\n",
    "pop = ax.bar(x - width/2, cluster_data_ratio, width, label='Population')\n",
    "cust = ax.bar(x + width/2, cluster_data_ratio_customers, width, label='Customers')\n",
    "\n",
    "ax.set_ylabel('Relative amount in cluster')\n",
    "ax.set_title('Cluster distribution')\n",
    "ax.set_xticks(unique)\n",
    "ax.set_xticklabels(unique)\n",
    "ax.legend();"
   ]
  },
  {
   "cell_type": "markdown",
   "metadata": {},
   "source": [
    "### Identify clusters w/ largest differences\n",
    "\n",
    "We need to automate this because the cluster ids (but not the magnitudes) can differ between identical runs"
   ]
  },
  {
   "cell_type": "code",
   "execution_count": 357,
   "metadata": {},
   "outputs": [],
   "source": [
    "def calc_cluster_diffs (cluster1, cluster2, n_clusters=n_clusters):\n",
    "    \n",
    "    cluster_diff = np.subtract(cluster1, cluster2)\n",
    "    #print(cluster_diff)\n",
    "\n",
    "    # keep track of cluster order before sorting\n",
    "    dict_diff = {cluster_diff[i]:i for i in range (0, n_clusters)}\n",
    "    #print(\"\\nDictionary\", dict_diff)\n",
    "\n",
    "    cluster_diff = np.sort(cluster_diff)[::-1]\n",
    "    print(\"Cluster differences\")\n",
    "    print(cluster_diff)\n",
    "    maxdiff = cluster_diff[0]\n",
    "    mindiff = cluster_diff[-1]\n",
    "    print(\"\\nlargest positive difference: {} (cluster {})\".format(maxdiff,dict_diff[maxdiff]))\n",
    "    print(\"\\nlargest negative difference: {} (cluster {})\".format(mindiff,dict_diff[mindiff]))\n",
    "    \n",
    "    diff_ids = []\n",
    "    for c in cluster_diff:\n",
    "        diff_ids.append(dict_diff[c])\n",
    "    #print(diff_ids)\n",
    "    \n",
    "    return diff_ids, dict_diff"
   ]
  },
  {
   "cell_type": "code",
   "execution_count": 358,
   "metadata": {},
   "outputs": [
    {
     "name": "stdout",
     "output_type": "stream",
     "text": [
      "Cluster differences\n",
      "[ 0.22092148  0.05676434  0.05532292  0.00475362  0.00366709 -0.00244597\n",
      " -0.00433406 -0.00529792 -0.00921242 -0.00945129 -0.01528631 -0.01751809\n",
      " -0.01901301 -0.02376367 -0.03077826 -0.03107832 -0.03464917 -0.03872049\n",
      " -0.04491514 -0.05496533]\n",
      "\n",
      "largest positive difference: 0.2209214759926441 (cluster 17)\n",
      "\n",
      "largest negative difference: -0.05496532557358414 (cluster 11)\n",
      "\n",
      "Clusters ranked in terms of population differences (cust vs az):\n",
      "[17, 15, 12, 19, 13, 16, 7, 14, 3, 1, 10, 2, 4, 5, 8, 18, 6, 9, 0, 11]\n"
     ]
    }
   ],
   "source": [
    "diff_az, dict_az = calc_cluster_diffs(cluster_data_ratio_customers, cluster_data_ratio)\n",
    "print('\\nClusters ranked in terms of population differences (cust vs az):')\n",
    "print(diff_az)"
   ]
  },
  {
   "cell_type": "markdown",
   "metadata": {},
   "source": [
    "Find what kinds of people are part of a cluster that is overrepresented in the customer data compared to the general population"
   ]
  },
  {
   "cell_type": "code",
   "execution_count": 359,
   "metadata": {},
   "outputs": [
    {
     "name": "stdout",
     "output_type": "stream",
     "text": [
      "(20, 489)\n",
      "(20, 489)\n"
     ]
    }
   ],
   "source": [
    "# Inverse the results\n",
    "pca_to_scaler = pca.inverse_transform(kmean.cluster_centers_)\n",
    "scaler_to_original = scaler.inverse_transform(pca_to_scaler)\n",
    "print(scaler_to_original.shape)\n",
    "print(pca_to_scaler.shape)\n",
    "\n",
    "#Get details for a specific cluster\n",
    "\n",
    "def cluster_data (cluster_id):\n",
    "    print(\"Cluster number: \", cluster_id)\n",
    "    print (\"\\nWeights after scaling\")\n",
    "    print(pca_to_scaler[cluster_id,:])\n",
    "    print (\"\\nWeights before scaling\")\n",
    "    print(scaler_to_original[cluster_id,:])\n",
    "\n",
    "    # Associate data to attributes\n",
    "    cluster_info = pd.DataFrame(data=pca_to_scaler[cluster_id,:], index=azdias_go.columns, columns=['weight'])\n",
    "    \n",
    "    # sort the values\n",
    "    cluster_info = cluster_info.sort_values(by='weight', axis=0, ascending=False)\n",
    "    print(\"\\nLargest Positive Weights\")\n",
    "    print(cluster_info.head(10))\n",
    "    print(\"\\nLargest Negative Weights\")\n",
    "    print(cluster_info.tail(10).sort_values(by='weight'))\n",
    "    \n",
    "    #cluster_info.plot(kind='bar', figsize=(20,10), legend=False, title = \"Cluster \" + str(cluster_id))\n"
   ]
  },
  {
   "cell_type": "code",
   "execution_count": 360,
   "metadata": {},
   "outputs": [
    {
     "name": "stdout",
     "output_type": "stream",
     "text": [
      "data for the cluster with the largest positive difference\n",
      "Cluster number:  17\n",
      "\n",
      "Weights after scaling\n",
      "[ 2.44799275e-01 -4.61829366e-01  1.53548080e-01 -1.03479138e-02\n",
      " -9.60028497e-02 -1.35394130e-01 -6.35133306e-02  8.67668692e-02\n",
      " -1.62316183e-01  7.65151649e-01  6.04382977e-01  5.65166174e-01\n",
      "  3.03584168e-01  4.24581141e-01 -3.15495980e-01 -2.27220887e-01\n",
      " -1.65711327e-01 -2.02161108e-01  2.90819102e-01 -2.94180609e-01\n",
      " -1.50139831e-01 -1.72750281e-01  1.11509317e-01  2.59366476e-01\n",
      " -1.69941947e-01 -2.14234847e-01 -2.94856008e-01 -3.19056332e-01\n",
      " -2.94506580e-01 -6.26370514e-02 -3.89745195e-01 -9.63503212e-02\n",
      " -3.05179358e-01 -1.66046288e-01 -2.16744875e-01 -2.70633812e-01\n",
      " -4.47519761e-01 -4.81235085e-01  5.21633573e-01  2.98590039e-01\n",
      "  4.97496267e-01 -4.11285980e-01 -3.08713568e-01 -3.47039131e-01\n",
      " -2.57967870e-01  4.60355286e-01 -2.86228564e-01 -1.16011931e-01\n",
      " -3.92469588e-01 -3.49658386e-01 -1.63863696e-01 -9.36240160e-02\n",
      " -2.07533672e-01 -1.64182492e-01 -2.42540103e-01 -3.47449533e-01\n",
      " -1.99938364e-01 -4.84476219e-01 -1.46367294e-01 -1.67144121e-01\n",
      "  2.13007196e-01 -1.38810230e-01  9.08500300e-02  4.54113331e-02\n",
      " -1.70933968e-02 -1.56338660e-01 -2.08389578e-01 -4.13590656e-01\n",
      " -4.48927133e-01  5.10614775e-01  3.20181722e-01  4.84480763e-01\n",
      " -4.03822207e-01 -2.75583002e-01 -1.98406163e-01 -2.23283037e-01\n",
      "  2.74695999e-01  4.15105858e-02  4.62480934e-02 -3.69275290e-02\n",
      " -2.57269964e-01 -3.30842361e-01 -1.67544733e-01  1.34156482e-01\n",
      " -1.55340117e-01  6.40105332e-03  2.86479652e-01  5.57079901e-01\n",
      "  5.46993631e-01 -6.72220470e-01  5.43598085e-01  4.65681940e-01\n",
      " -7.61398116e-02 -1.91055922e-01 -1.44951502e-01 -6.47427553e-01\n",
      " -3.62139444e-01 -2.85379947e+00  5.67336081e-01  3.42056083e-01\n",
      " -1.69539541e-01  6.42594980e-02 -8.97638210e-02 -1.87888925e-01\n",
      " -3.50432261e-02 -2.98184502e-01 -2.93234440e-01  1.44243798e-01\n",
      "  1.81385043e-01  1.59229424e-01 -3.65579058e-01  1.17508910e-01\n",
      " -1.31922677e-01 -1.21760088e-01  3.55910656e-02 -6.21928270e-02\n",
      " -8.50662313e-02 -7.06607294e-02 -3.04313257e-01  4.27537813e-02\n",
      " -8.45744423e-02 -1.18463685e-02 -2.17090776e-01 -3.58444775e-02\n",
      " -1.26308150e-01 -3.21261145e-01 -9.80199862e-02 -1.34053809e-01\n",
      " -8.54046948e-04 -1.25554421e-01 -1.50427544e-01 -1.65134226e-01\n",
      " -1.71516998e-01 -8.72165668e-02 -6.46339235e-02 -5.88738950e-02\n",
      " -8.41908971e-02 -1.04998928e-01 -1.54232836e-01 -4.66907659e-02\n",
      "  7.23196281e-02 -4.22153600e-02 -7.16787730e-02 -7.40667597e-02\n",
      " -1.28791787e-01 -1.22963486e-01 -5.66912465e-02 -3.48254358e-02\n",
      " -2.52236972e-01 -1.11682002e-01 -9.93711992e-02 -1.51073561e-01\n",
      " -1.53402562e-01 -4.66279003e-02 -2.95312330e-02 -1.21568195e-01\n",
      " -1.26428800e-01 -7.29400708e-02 -1.36427710e-01 -1.69933750e-01\n",
      " -1.44486739e-01  1.79641548e-01  7.21868813e-02 -1.35379170e-01\n",
      " -1.16543755e-01 -1.67713664e-01 -7.00078089e-02  6.02243953e-02\n",
      " -2.54109002e-01  2.37631472e-01 -2.15197532e-01  2.95064676e-01\n",
      "  2.83678409e-01  2.13298521e-01  4.55322374e-02 -2.60106464e-02\n",
      " -1.84611866e-01  1.42173346e-01  9.64634869e-02  1.68863188e-01\n",
      " -9.86263326e-02 -1.16658432e-01 -9.53959197e-02 -1.36319402e-01\n",
      "  1.93248257e-01  4.65328743e-02 -2.56107932e-02  5.49757401e-02\n",
      " -1.98468448e-02 -8.49711745e-02 -8.05865602e-02 -4.81146500e-02\n",
      " -2.03895932e-02  1.75984594e-02  4.28427096e-02  7.73402562e-02\n",
      "  5.11778427e-02  1.20137949e-01 -2.47342423e-01 -2.24368626e-01\n",
      "  2.38264209e-01 -7.50215612e-02 -6.30775604e-02 -9.17559469e-02\n",
      " -1.17744200e-01 -9.13210111e-03  4.68312161e-02  6.26232692e-02\n",
      "  2.67522810e-02 -2.04422013e-01 -1.82895078e-01 -2.11122766e-01\n",
      "  2.08625563e-01  2.24080817e-01 -1.19470051e-01 -3.79713281e-02\n",
      "  2.58636371e-01  4.76360970e-02  4.36435544e-02 -2.24368626e-01\n",
      "  1.39091667e-01  5.83318177e-02 -6.22769134e-02  6.55945258e-02\n",
      " -9.23877284e-02  6.02383259e-03 -5.31072977e-02  2.57380962e-02\n",
      "  1.77850542e-02  5.65442358e-02 -1.06709160e-01 -9.70240416e-02\n",
      "  3.60262022e-02  1.14635299e-01 -2.24050655e-02 -6.38149203e-02\n",
      " -8.35665499e-03 -1.22864205e-01  3.82135434e-02 -2.67350379e-03\n",
      "  6.02209213e-02  5.88751038e-02 -1.86679421e-02 -2.44881095e-02\n",
      "  2.28624284e-03  3.97447522e-02 -5.62483561e-02 -1.91052244e-02\n",
      " -6.89939643e-02 -2.65031200e-03  2.63537946e-01  2.49663335e-01\n",
      "  1.62984058e-01 -4.86294719e-02  1.20322014e-01  3.03003393e-02\n",
      " -7.98862708e-02 -9.46509396e-02  1.32781657e-01 -3.63379456e-02\n",
      " -1.35323892e-01 -1.53104637e-01 -4.32555953e-02  1.79332568e-01\n",
      "  3.94626043e-02  3.29409302e-01  1.00559294e-01 -7.21860531e-02\n",
      "  2.03464304e-01  6.16287894e-03  5.55565191e-02  3.91284729e-02\n",
      "  2.90813786e-01 -2.69629699e-01  1.62378548e-01 -7.60407306e-02\n",
      " -7.53095507e-02 -1.13041177e-01 -3.84944971e-02  9.87609768e-02\n",
      "  1.30012653e-01 -3.12469590e-02  7.73145313e-02  1.87274390e+00\n",
      " -2.39206111e-01  1.17073722e-01 -7.37650774e-01 -6.72110881e-01\n",
      " -1.81424568e-01 -3.67560996e-01 -3.63346294e-01 -3.51237650e-01\n",
      "  2.49846619e-01  3.57311419e-01 -2.10293191e-01  3.07319882e-01\n",
      "  2.60422103e-01  2.06008993e-01  1.18254792e-01 -6.79274731e-02\n",
      "  1.20823283e-01  1.42612396e-01  2.08013453e-01  4.92569640e-01\n",
      "  4.84560286e-01  1.39547038e-01 -1.46610841e+00  2.20313416e-02\n",
      "  4.45379138e-01  2.71697563e-01  4.88925886e-01  4.05467256e-01\n",
      " -1.87801896e-02  9.02017123e-01  1.80307035e-01  1.20088398e+00\n",
      "  6.21912328e-01  1.37922787e+00 -5.56087917e-01 -5.08370465e-01\n",
      " -9.44040162e-01 -6.46198394e-02  2.97700949e-01  1.23458712e-01\n",
      " -1.14536611e-01  2.15354637e-01 -3.00950145e+00 -3.21782088e-01\n",
      "  7.65519025e-02  4.87470402e-01 -2.16920737e-01 -7.71025798e-03\n",
      " -2.21314134e-01  6.01632207e-01 -9.08288229e-02 -3.30674840e-02\n",
      " -1.70942893e-01 -3.03915040e-01  2.17058113e-01 -5.74751003e-02\n",
      " -2.79366249e-02 -1.25429203e-01 -8.99250373e-02 -7.89762697e-02\n",
      " -7.10446429e-02 -1.02576739e-01 -7.38450092e-02  2.16401305e-02\n",
      " -6.93007455e-02  2.51654464e-02  7.66788241e-02  5.61128215e-02\n",
      "  1.13645266e-02  1.18145298e-01  6.27911940e-02  1.08570987e-01\n",
      "  1.38023972e-01 -3.21212869e-03 -6.03829532e-02 -3.97024940e-02\n",
      " -5.59650002e-02  1.79029604e-02 -7.02049755e-02 -9.07663192e-02\n",
      " -6.36583100e-02 -8.29962620e-02 -7.35558039e-02 -1.08953810e-01\n",
      " -2.42725523e-02 -5.84530709e-02 -8.45064390e-02 -6.84454039e-02\n",
      " -6.06728206e-02 -2.34464273e-02 -3.62782781e-02 -3.37171608e-02\n",
      " -4.13263195e-02 -7.25624826e-02  6.28339405e-02  2.00883406e-03\n",
      "  9.84919237e-03  1.04473055e-01  6.43075298e-02  9.88310772e-04\n",
      "  1.28745208e-02  7.30794802e-03 -4.62539780e-02  4.12842862e-02\n",
      "  2.80468440e-02  4.16630133e-02  1.04707823e-02 -4.14763790e-02\n",
      "  1.05422747e-01  1.03523381e-01  5.45273279e-02 -3.91830516e-02\n",
      "  2.04789308e-01  6.02581450e-02  2.84478908e-02  7.52577868e-02\n",
      " -2.53681175e-02 -3.88656636e-01 -2.90652867e-01 -1.15051086e-01\n",
      " -2.47559297e-01  7.74065451e-01  3.70899329e-01 -3.67173166e-01\n",
      " -8.66822305e-02 -5.67602498e-02 -7.26852047e-02 -1.31595479e-02\n",
      " -1.03899600e-01  2.13238125e-01  6.85281359e-01 -2.09230357e-01\n",
      " -1.21207680e-01  7.39967829e-02 -1.03309427e-01 -3.58373275e-01\n",
      " -9.75850621e-02 -7.42849500e-02  4.50820751e-02 -2.01376357e-02\n",
      " -5.34456729e-03  8.96218531e-02  7.21645495e-02 -5.71336541e-02\n",
      "  3.47302327e-02 -1.11822852e-01 -1.21014504e-01 -9.40305670e-02\n",
      " -2.04762590e-01 -9.29723393e-02  2.04350661e-01  4.06543110e-02\n",
      "  9.18785922e-02  1.33111094e-01  4.51959318e-02  2.66931090e-01\n",
      "  3.17288298e-02 -5.95856816e-02 -4.93641875e-02 -1.16275497e-01\n",
      " -8.30620346e-02 -9.95854705e-02 -1.28498364e-01 -8.13555987e-02\n",
      " -1.03023879e-01 -1.18865873e-01  4.51959318e-02  2.66931090e-01\n",
      "  3.17288298e-02 -3.14077538e-01 -9.89602973e-02  7.18078005e-01\n",
      " -6.79332461e-02 -7.08984859e-02  3.88182416e-01 -1.76626543e-02\n",
      " -2.22232034e-01 -1.52179138e-01 -1.88949072e-01 -2.91307999e-01\n",
      "  4.59419647e-01 -4.59419647e-01  4.86975095e+00 -2.32806716e+00\n",
      " -7.73744219e-02 -9.62896205e-02 -3.24297766e-01 -5.54761460e-01\n",
      " -4.93512849e-01 -6.69248013e-01 -3.04485727e-03  2.08483716e-02\n",
      " -5.89721746e-03 -5.42301944e-02 -2.94581964e-02 -4.01651618e-01\n",
      " -1.54327997e-01  2.15087960e-01 -2.05062664e-02 -1.92426835e-01\n",
      "  4.90772733e-01  8.03782250e-02  8.51521964e-02 -3.62139444e-01\n",
      " -9.65038220e-01]\n",
      "\n",
      "Weights before scaling\n",
      "[ 1.77986783e+00  5.21351218e+00  5.59109227e+00  4.42564814e-02\n",
      "  6.16614873e-02  1.50626428e+00  7.00414534e-03  2.21253904e+00\n",
      "  2.75488128e+00  5.06063164e+00  3.56990104e+00  3.39784364e+00\n",
      "  4.75739102e+00  4.83551319e+00  4.10954502e+00  4.22318346e+00\n",
      "  2.19909081e-02  4.02843751e-02  9.84548939e+00  1.25019040e-01\n",
      "  2.07715552e-01 -2.38737840e-02  9.95258473e+00  9.95838413e+00\n",
      "  3.77256592e-02  1.13222817e-01  3.60352379e-01  7.10122890e-01\n",
      "  3.46165474e-01  4.29099569e-01  1.34387975e+00  1.13746334e-01\n",
      "  1.91012542e-01  2.21425234e-01  2.89824457e-01 -2.99517789e-02\n",
      "  3.21687626e-01  5.99899659e-01  8.22300209e+00  9.06488911e+00\n",
      "  8.99679009e+00  9.03756562e-01  7.11339310e-01  6.83576871e-01\n",
      "  4.96038718e-01  5.69681896e+00  9.30802679e-01  3.77669145e-01\n",
      "  3.62167460e+00  8.92638912e-01  2.35258131e-01  6.16347774e-01\n",
      "  1.19379361e+00  1.01332834e+00  2.14495851e-01  2.26863543e+00\n",
      "  7.06319241e-01  8.83514164e-01  9.12231908e-03  2.89649786e-02\n",
      "  9.75638871e+00  6.33745971e-01  9.87498192e+00  9.98981948e+00\n",
      "  4.76905357e-03  3.68211817e-01 -8.94265450e-03  2.52308140e-01\n",
      "  4.77977293e-01  8.74411651e+00  9.32747174e+00  9.16951402e+00\n",
      "  7.48017538e-01  2.57538325e-01  2.37134214e-02  5.54169224e-02\n",
      "  9.71919195e+00  9.94068606e+00  9.99524825e+00 -1.50775550e-04\n",
      "  6.02811648e-01  1.42566938e+00  4.42074685e-01  7.82694455e-01\n",
      "  1.33828487e+03  1.51861646e+03  3.49843739e+00  3.38568885e+00\n",
      "  3.40876941e+00  3.26719988e+00  2.77428459e+00  3.38498171e+00\n",
      "  4.10752993e+00  2.30106020e+00  2.58285269e+00  3.72456106e+02\n",
      "  1.92607330e-01 -1.63492468e+00  2.83629330e-01  3.43195806e+00\n",
      "  3.08065649e+00  1.20693472e+00  1.83747873e+00  1.91866871e+00\n",
      "  2.28360314e+00  4.98200329e-01  1.11170787e+00  1.00970157e+00\n",
      "  3.38987063e-01  1.73443121e-01  1.85545083e+00  8.86787107e-01\n",
      "  1.78308418e+00  1.88457319e+00  2.38169581e+00  1.00918223e+00\n",
      "  1.46101298e+00  2.07374987e+00  1.98528168e+00  2.05001381e+00\n",
      "  2.11100187e+00  1.98586630e+00  1.61196069e+00  1.80916054e+00\n",
      "  1.74257243e+00  1.84069614e+00  2.06504077e+00  1.98747537e+00\n",
      "  2.08057131e+00  1.28013145e+00  1.31143136e+00  1.26706390e+00\n",
      "  1.27701309e+00  1.81894237e+00  2.09794475e+00  1.20520054e+00\n",
      "  2.51974794e+00  1.67157598e+00  1.56288651e+00  1.54777868e+00\n",
      "  1.42429756e+00  1.13126947e+00  2.03636550e+00  2.05322802e+00\n",
      "  1.73460486e+00  8.81240209e-01  2.05947290e+00  1.93822327e+00\n",
      "  6.09460908e-01  7.02216573e-01  1.39130869e+00  1.82401421e+00\n",
      "  1.80004836e+00  2.08194600e+00  1.22295304e+00  8.25256768e-02\n",
      "  5.74667117e-01  6.29799118e-01  7.27339129e-01  2.03545978e+00\n",
      "  1.90241307e+00  1.91033276e+00  2.08408612e+00  1.95928235e+00\n",
      "  1.89894966e+00  1.45719154e+00  1.82317395e+00  2.29698687e+00\n",
      "  1.74602906e+00  2.79902992e+00  1.48373300e+00  2.43548965e+00\n",
      "  1.31570445e+00  5.08226907e-01  5.07589952e+02  2.31473263e+00\n",
      "  1.90235030e+00  1.37750703e+00  2.18522560e+00  2.23438065e+00\n",
      "  2.06208029e+00  2.10029370e+00  1.81091284e+00  1.73692896e+00\n",
      "  2.87377356e+00  1.62757460e+00  1.60724099e+00  1.65823108e+00\n",
      "  2.07330020e+00  2.02315858e+00  1.75544928e+00  2.08222075e+00\n",
      "  1.69907164e+00  2.39384874e+00  2.04613231e+00  2.17046138e+00\n",
      "  2.15353443e+00  2.32064343e+00  1.64812865e+00  1.72126879e+00\n",
      "  2.76887564e+00  1.97526223e+00  2.56718403e+00  1.89533240e+00\n",
      "  1.75014540e+00  2.00033623e+00  2.21202845e+00  2.31786326e+00\n",
      "  2.30653083e+00  1.80768951e+00  1.89482706e+00  1.85188163e+00\n",
      "  2.79616935e+00  2.74059372e+00  1.84600527e+00  2.17762210e+00\n",
      "  3.01119367e+00  2.31033326e+00  2.12830641e+00  1.72126879e+00\n",
      "  2.88121790e+00  1.69784372e+00  8.90592082e-01  2.04033523e+00\n",
      "  1.82780939e+00  2.00864492e+00  2.21343959e+00  2.05652797e+00\n",
      "  2.03771680e+00  1.03117384e+00  2.02643433e+00  2.10539940e+00\n",
      "  2.45355058e+00  2.24742411e+00  1.42747356e+00  1.41897807e+00\n",
      "  1.44234112e+00  1.33109024e+00  2.08338179e+00  1.90500158e+00\n",
      "  1.94162941e+00  2.13674549e+00  9.81575907e-01  1.56759945e+00\n",
      "  1.59316680e+00  1.64622222e+00  2.17069725e+00  1.62180341e+00\n",
      "  1.55516270e+00  1.77061294e+00  2.57081969e+00  2.92721061e+00\n",
      "  2.26033914e+00  1.99030517e+00  2.28287479e+00  2.34186551e+00\n",
      "  1.98958011e+00  2.15134416e+00  2.64617677e+00  2.00809191e+00\n",
      "  1.82217197e+00  1.78809702e+00  2.18776020e+00  2.56786206e+00\n",
      "  2.24506647e+00  3.01328330e+00  2.17395312e+00  2.05957172e+00\n",
      "  2.53182883e+00  2.26565812e+00  2.44579985e+00  2.02110516e+00\n",
      "  3.03269287e+00  1.46956359e+00  2.71507909e+00  2.11814194e+00\n",
      "  2.34407466e+00  2.05497753e+00  2.03148731e+00  2.23765391e+00\n",
      "  1.66550675e+00  2.14999978e+00  1.77259168e+00  9.38064810e+00\n",
      "  1.92880802e+00  1.70498290e-01  6.76365621e+00  2.15289906e+00\n",
      "  1.31514147e+03  1.47247333e+00  1.85170950e+00  2.25976167e+00\n",
      "  4.50041026e+00  1.43500663e-01  1.55064155e+00  2.41422647e+00\n",
      "  1.26061691e+00  5.13557329e-01  1.27299858e+00  2.50054586e+00\n",
      "  2.85257813e+00  3.08492538e+00  2.50259613e+00  4.24666870e+00\n",
      "  3.07152852e+00  4.60586209e+00 -3.98659269e-01  4.51978904e+00\n",
      "  5.17447564e+00  4.88491191e+00  5.10253554e+00  5.50211538e+00\n",
      "  3.65295459e+00  6.66817706e+00  4.21495087e+00  5.32226980e+00\n",
      "  3.98445087e+00  6.96910385e+00  2.78675839e+00  2.29934494e+00\n",
      "  1.95035738e+00  1.90375431e-03  2.27574870e+00  2.39976188e+00\n",
      "  2.95551034e+00  1.16905533e-01 -1.23605974e+00  2.68739274e-01\n",
      "  1.85376574e+00  4.82340604e+00  2.44442528e+00  6.51456784e+00\n",
      "  2.21484993e+00  1.66791736e+00  2.96224438e+00  1.90858492e-02\n",
      "  1.40992744e-01  1.09682378e-01  9.02562511e-02  5.10213748e-02\n",
      "  1.82041900e-02  5.54987859e-02  1.52912351e-02  5.06159693e-02\n",
      "  1.39642032e-02  5.71346018e-02  1.68073779e-02  4.94842300e-02\n",
      "  7.21115050e-03  7.96410113e-02  3.64414045e-02  5.22461026e-02\n",
      "  1.53181343e-02  7.66143322e-02  2.55991372e-02  4.15317223e-02\n",
      "  2.14603421e-02  2.14341222e-02  1.35953036e-03  7.27548022e-03\n",
      "  2.10293946e-02  1.97534715e-02  9.70487803e-03  6.05613137e-03\n",
      "  1.62636328e-02  3.90058625e-02  2.63966705e-03 -1.17976022e-03\n",
      "  3.01483755e-02  3.04360147e-02  2.27757769e-02  3.80726332e-03\n",
      "  3.43652433e-02  8.62800676e-03  3.75240233e-03  6.87386263e-03\n",
      "  4.97899996e-03  1.66392184e-03  3.32818729e-02  4.42030125e-03\n",
      "  6.25575093e-03  1.05504153e-02  6.43192504e-02  1.48960308e-02\n",
      "  7.47412987e-03  1.70219406e-02  2.49451280e-03  2.74197465e-02\n",
      "  2.15636413e-02  9.50826950e-03  4.84931850e-03  2.35690211e-03\n",
      "  3.77135762e-02  3.41887509e-02  2.11586362e-02  7.33088784e-03\n",
      "  2.02597719e-02  8.94288421e-03  7.18620782e-03  1.77771309e-02\n",
      "  5.62704109e-03 -2.73815221e-03  1.02445284e-01  8.87056249e-02\n",
      "  5.44132683e-02  3.21968201e-01  4.35665125e-01  4.36696778e-02\n",
      "  1.23121695e-01  2.47723415e-01  1.36670635e-02  6.68154799e-03\n",
      "  1.86876647e-02  1.17989500e-01  1.20119892e-01  1.42839535e-01\n",
      "  7.55827540e-03  2.84918815e-01  1.99770924e-01  7.41922402e-02\n",
      "  4.47655386e-01  3.07847340e-03  1.38255526e-01  5.81375872e-04\n",
      "  5.95501255e-04  1.34518669e-01  6.09122636e-02  1.72983075e-02\n",
      "  8.58557378e-02  5.41217311e-02  2.47597136e-01  1.63936320e-02\n",
      "  1.91646844e-02  6.51241208e-02  6.29470081e-02  1.56605722e-01\n",
      "  5.68608153e-02  6.35897795e-02  2.66657305e-01  3.21961412e-01\n",
      "  1.62347282e-01 -8.85094192e-04  2.12219270e-04 -3.25084267e-03\n",
      " -1.12162989e-03  3.16446625e-03  4.60485374e-03  3.56994480e-03\n",
      "  1.50322475e-01  7.81928931e-02  2.66657305e-01  3.21961412e-01\n",
      "  1.62347282e-01  2.20526577e-01  7.07912520e-02  6.85610811e-02\n",
      "  6.17188461e-02  1.48042160e-02  3.79145756e-01  3.07284462e-02\n",
      "  4.43346210e-03 -5.66904982e-03  1.00484392e-01  1.53643985e-01\n",
      "  6.60470126e-01  3.21853271e-01  2.37516799e+00 -3.13615492e-01\n",
      "  3.99445669e-03 -7.70791749e-04  3.88921485e-02 -2.30441872e-02\n",
      " -3.89842747e-02 -2.95328676e-02  7.43480835e-01  1.26517905e-02\n",
      "  4.37293130e-04 -7.32291655e-04 -2.08933836e-04  1.02534354e-01\n",
      "  7.24870652e-03  6.73651667e-01  7.17946818e-02 -8.75050179e-03\n",
      "  1.14924491e-01  8.37637447e+00  8.41613723e+00  1.92607330e-01\n",
      "  4.13256998e-01]\n",
      "\n",
      "Largest Positive Weights\n",
      "                      weight\n",
      "NATIONALITAET_KZ_0  4.869751\n",
      "KOMBIALTER          1.872744\n",
      "SEMIO_REL           1.379228\n",
      "SEMIO_PFLICHT       1.200884\n",
      "SEMIO_LUST          0.902017\n",
      "CJT_GESAMTTYP_5.0   0.774065\n",
      "CJT_KATALOGNUTZER   0.765152\n",
      "LP_STATUS_FEIN_2.0  0.718078\n",
      "FINANZTYP_1         0.685281\n",
      "SEMIO_RAT           0.621912\n",
      "\n",
      "Largest Negative Weights\n"
     ]
    },
    {
     "name": "stdout",
     "output_type": "stream",
     "text": [
      "                       weight\n",
      "VERS_TYP            -3.009501\n",
      "HEALTH_TYP          -2.853799\n",
      "NATIONALITAET_KZ_1  -2.328067\n",
      "RT_UEBERGROESSE     -1.466108\n",
      "PR_J_gen            -0.965038\n",
      "SEMIO_VERT          -0.944040\n",
      "LP_LEBENSPHASE_FEIN -0.737651\n",
      "FINANZ_MINIMALIST   -0.672220\n",
      "LP_LEBENSPHASE_GROB -0.672111\n",
      "SHOPPER_TYP_3.0     -0.669248\n"
     ]
    }
   ],
   "source": [
    "# Show data for the cluster with the largest positive difference\n",
    "cluster_id = diff_az[0]\n",
    "print (\"data for the cluster with the largest positive difference\")\n",
    "cluster_data(cluster_id)"
   ]
  },
  {
   "cell_type": "code",
   "execution_count": 361,
   "metadata": {},
   "outputs": [
    {
     "name": "stdout",
     "output_type": "stream",
     "text": [
      "data for the cluster with the second largest positive difference\n",
      "Cluster number:  15\n",
      "\n",
      "Weights after scaling\n",
      "[-4.71789407e-01 -3.86238139e-01 -4.35080242e-01 -1.03948045e-01\n",
      " -2.53121833e-01  1.27334157e-02 -3.42468231e-02 -1.27219222e-01\n",
      " -5.71974679e-02  4.36757470e-01 -9.54763522e-01 -9.78756807e-01\n",
      "  7.97716681e-01  8.96180456e-01  9.14758022e-01  8.21694670e-01\n",
      " -2.17004031e-01 -2.58232417e-01  2.84176320e-01 -2.55143227e-01\n",
      " -2.33993619e-01 -5.23011287e-02  1.06283458e-01  2.66950654e-01\n",
      " -2.01457814e-01 -1.58269897e-01  6.63789013e-02 -1.10810328e-01\n",
      "  2.78789563e-02 -3.25738760e-02  1.54495967e-01 -1.14461190e-01\n",
      " -2.10647518e-01 -2.11035882e-03 -2.56645858e-01 -6.33759775e-02\n",
      " -3.98858907e-01 -3.78858464e-01  2.23175185e-01  6.75822246e-02\n",
      "  3.49999859e-01 -3.39532259e-01  2.05580155e-01 -6.03914418e-02\n",
      " -1.40467973e-01 -5.43834584e-02  1.15657689e-01 -4.74991511e-02\n",
      " -3.02260123e-05  2.98586894e-01  2.19142445e-02 -1.62169114e-01\n",
      "  2.77162644e-01  2.35507897e-01 -2.52915936e-01  3.59666851e-01\n",
      "  4.96686062e-01  1.36440473e-01 -1.32808837e-01 -1.70733355e-01\n",
      "  2.35475277e-01 -2.67420512e-01  1.69639762e-01  3.73722879e-02\n",
      " -2.14037415e-02 -1.90957161e-01 -1.15620356e-01 -3.85501366e-01\n",
      " -3.77072956e-01  2.90979105e-01  1.10476257e-03  3.68123890e-01\n",
      " -3.65298100e-01 -2.63084595e-01 -1.60794284e-01 -1.90261617e-01\n",
      "  1.79535093e-01  1.16020399e-01  6.19595199e-02 -3.76775020e-02\n",
      " -1.17352411e-01  1.55239954e-01  6.51490229e-02  7.30094843e-02\n",
      " -1.18817256e-01 -6.47738629e-01  7.86255007e-02 -9.53915207e-01\n",
      " -4.64222849e-01  1.11937745e+00 -9.68828673e-01 -5.01873893e-01\n",
      "  8.73355445e-01  3.03985011e-01  3.51289663e-01 -2.30369949e-01\n",
      "  1.45191716e+00 -2.18191173e-01  7.74058945e-02 -1.19345876e+00\n",
      "  2.10770859e-02 -4.54639411e-01 -3.46729023e-01  1.27375113e-01\n",
      "  3.57150766e-01  1.29746211e-01  9.08588941e-01 -1.56329235e-01\n",
      " -5.74868720e-01 -4.27622660e-01  4.13251515e-01 -3.71996699e-01\n",
      " -2.44378581e-01 -2.17858511e-01  1.62095055e-01  1.94384520e-01\n",
      "  9.58440451e-02 -7.78993066e-02  6.77901975e-01  2.86001771e-01\n",
      " -5.29732691e-03 -1.44585765e-01 -1.46280591e-01 -1.59311597e-01\n",
      " -1.66044110e-01  4.16517052e-01  1.84682082e-01 -1.49147821e-02\n",
      " -1.94938664e-01 -1.51288659e-01  4.66968028e-02 -3.43820264e-02\n",
      "  8.60180018e-02 -3.23826566e-01  8.08931446e-03  2.80450922e-01\n",
      "  3.86268899e-01  2.27483597e-01 -2.64083803e-01  2.53856695e-02\n",
      " -4.24951346e-01  2.47588701e-01 -5.35594102e-04 -1.00045297e-01\n",
      " -6.15036137e-02  1.31878865e-01 -1.04121073e-01  2.06572912e-01\n",
      "  1.26356486e-01 -2.62586188e-02  2.12611606e-01 -1.57629901e-01\n",
      " -2.55388384e-01 -2.64153294e-02  2.14825041e-01 -4.40008633e-02\n",
      "  5.52109664e-02  1.22666337e-01  8.39737979e-02  4.27382579e-01\n",
      " -1.44302152e-01 -4.40663324e-01 -3.59183178e-01 -3.53766364e-02\n",
      "  2.03258121e-01  2.28109110e-01 -3.75226490e-01 -2.47759703e-01\n",
      "  7.44505888e-02  3.37012877e-01  5.50742143e-01 -1.36834239e-01\n",
      " -3.75413978e-01 -4.33061336e-01  2.63970905e-01  1.56660312e-02\n",
      "  1.71712152e-01 -5.38174229e-01 -2.90749031e-01 -4.11330358e-01\n",
      "  1.04862484e-01  2.63122224e-01  2.48409454e-01  1.68905442e-01\n",
      "  1.97459395e-01 -2.01510244e-01 -1.79903764e-01 -1.33177819e-01\n",
      " -1.49342057e-01  1.33193831e-01  1.30612766e-02 -5.42425970e-02\n",
      "  6.02078756e-02  2.17942329e-01  1.58345524e-01  1.53854991e-01\n",
      "  1.91212853e-01  1.48919009e-01 -1.63892130e-01 -2.20676980e-01\n",
      "  1.02154323e-01  1.69247450e-02  5.32579449e-01 -5.74475093e-02\n",
      " -2.50117801e-01 -3.91630742e-01 -3.65893592e-01 -2.39100288e-01\n",
      "  3.17809700e-02  4.35545763e-02  1.07158920e-01  1.19965900e-01\n",
      "  3.31271401e-01  3.08848464e-01 -1.05872609e-01 -1.19986383e-02\n",
      "  3.30724101e-01 -1.70115928e-02 -3.56547372e-02 -2.20676980e-01\n",
      "  1.47869004e-01 -1.71956002e-01 -1.33690172e-01 -5.39308878e-02\n",
      " -1.21751992e-01 -2.31266617e-01  1.93453276e-01  1.73743616e-01\n",
      "  1.75407337e-01 -1.27335078e-02  1.74753986e-01  4.23444991e-03\n",
      "  2.78420676e-01 -1.31777891e-01 -2.63754155e-02  2.28854381e-01\n",
      "  2.43331254e-01  2.70437422e-01 -2.75295508e-01  2.07998057e-01\n",
      "  1.20686775e-01  1.33371846e-01 -1.09341560e-01 -2.09786401e-01\n",
      " -1.23897490e-01 -8.71123157e-02  2.10823349e-01 -4.08844537e-02\n",
      " -6.32808551e-03  8.62499620e-02 -1.98342054e-02  3.67880404e-01\n",
      "  1.04054919e-01 -4.95267449e-02 -7.08232072e-02  5.32787060e-02\n",
      " -1.04721493e-01  2.03245653e-01  3.28111850e-01 -3.60128394e-02\n",
      " -1.35313592e-01 -3.89737604e-01  2.66857234e-01  1.97149447e-01\n",
      " -1.47220089e-01  2.61379531e-01  1.52213139e-01 -1.21120906e-01\n",
      "  3.36015761e-01  1.35351583e-01  3.26970794e-01  1.75578592e-01\n",
      "  3.40761727e-01 -3.46836452e-01  2.40156064e-01  4.21363475e-02\n",
      "  3.90757709e-01  1.17554691e-01 -8.81144894e-02 -2.39945855e-01\n",
      " -3.15503170e-01 -1.19155856e-02 -2.92821311e-01  6.69134966e-01\n",
      "  2.35398270e-01 -3.34739543e-01  4.14092223e-01  2.94423504e-01\n",
      " -1.08020592e-01  6.26621249e-01  8.16553108e-01 -3.15919453e-01\n",
      "  3.04938820e-02  3.52398250e-01  5.75217872e-01 -2.30174406e-01\n",
      " -3.98978621e-01 -4.28156408e-01 -5.34418192e-01  5.26106040e-01\n",
      "  1.58410520e-01 -3.04128095e-01 -8.34765746e-02  4.78276259e-01\n",
      " -9.17877556e-01  4.91507904e-01 -3.68037696e-01 -1.26520266e-01\n",
      "  2.98866163e-01 -2.97974051e-01 -1.58682090e-01 -1.14214137e-01\n",
      " -2.89301373e-01  5.48056852e-01 -4.54093251e-01 -6.61908608e-01\n",
      " -6.09593041e-01 -5.60178560e-01 -1.70295645e-02 -5.27898579e-01\n",
      "  3.24598329e-01 -1.95420960e-02  3.06327574e-01 -3.47869189e-01\n",
      "  3.41369086e-01 -7.62375401e-02 -1.82500364e-02  6.72635398e-02\n",
      " -8.91435691e-02  9.09301907e-02  3.67853083e-01  4.21873713e-01\n",
      " -4.32889113e-01 -1.72033469e-01  6.72001310e-01  1.36143641e-01\n",
      "  5.45466030e-01  4.25098686e-01  7.58335612e-02  2.73751067e-01\n",
      "  2.25540355e-01  4.51199963e-01  3.61114523e-01  9.99754567e-02\n",
      "  9.38539809e-02  8.07743150e-02  7.22669820e-02 -3.64503882e-02\n",
      " -4.05640601e-02 -4.71579312e-02 -3.82913159e-02 -1.30007154e-01\n",
      " -1.11166566e-01 -2.63336777e-01 -2.30011463e-01 -2.63316123e-01\n",
      " -2.20094598e-01  1.06847742e-01  9.06757994e-02  6.64479367e-02\n",
      "  3.79529907e-01  5.42064848e-02  1.30592797e-01  9.98904620e-02\n",
      "  2.39596547e-01  5.54914798e-01  4.01815916e-02 -3.66318459e-02\n",
      "  5.24722061e-02  1.55268047e-01 -4.28976014e-02 -2.82257258e-02\n",
      "  1.24861515e-01  1.30209232e-01  7.44175208e-02 -5.31528531e-02\n",
      " -2.04878524e-02 -6.48867580e-02 -3.68636414e-02  3.47445438e-02\n",
      "  5.97996683e-02 -4.80422570e-02 -1.73141911e-02  1.43233453e-02\n",
      "  9.51985229e-03 -1.02214222e-01 -7.55025922e-03 -1.16106911e-01\n",
      " -1.12191318e-01 -5.46377177e-02 -4.83081117e-02  5.63421748e-03\n",
      " -2.22601783e-01 -1.57602054e-01 -1.53115859e-01 -1.41474225e-01\n",
      " -1.40427721e-01 -1.80587222e-01 -1.65483876e-01 -1.69065828e-01\n",
      " -7.32379736e-02  2.04478132e-01  5.55772779e-01 -1.65199806e-01\n",
      " -2.13400239e-01 -1.71086526e-01 -1.99623622e-01 -3.59667222e-01\n",
      "  1.04406466e-01  6.11575229e-01  6.85388700e-03  9.74816776e-03\n",
      " -1.33009452e-01  5.16291778e-02 -5.49373157e-01  7.10519725e-01\n",
      " -1.06812861e-01 -2.26555505e-01  4.48694702e-01 -1.79440383e-01\n",
      "  4.18332715e-01  2.05894228e-01 -3.37141424e-01  5.92178576e-02\n",
      "  3.86552522e-02 -2.12892680e-01 -9.21997226e-02 -1.75449765e-01\n",
      "  2.57478348e-01  7.65705059e-02  1.91386081e-01  1.51990249e-01\n",
      "  5.27538302e-01  1.44650929e-01 -2.53388646e-01 -4.29637374e-02\n",
      " -2.28801666e-01 -3.36020097e-01  7.09590958e-02 -2.12906133e-01\n",
      "  4.24720647e-01 -7.43079785e-02 -9.68678434e-02 -9.78819219e-02\n",
      " -9.60258562e-02 -1.23070422e-01 -1.06480246e-01 -8.73368887e-03\n",
      "  1.35678498e-01 -8.89128901e-02  7.09590958e-02 -2.12906133e-01\n",
      "  4.24720647e-01 -1.03202615e-01 -5.44520062e-01 -3.72084105e-01\n",
      " -1.40626833e-01 -3.36185964e-01 -2.28230314e-01  3.57809818e-02\n",
      "  5.81709875e-02 -9.47854961e-02 -1.01563099e-01  1.60335956e+00\n",
      " -1.10720031e+00  1.10720031e+00 -1.16534927e-01  3.06112562e-01\n",
      " -2.17317049e-01 -1.57160124e-01  1.56678181e-01 -1.70602282e-01\n",
      " -2.43576030e-01  3.50429411e-01  4.16482370e-02 -3.98606260e-02\n",
      " -9.44089588e-03 -1.05635397e-05 -1.09015110e-02  5.55560630e-01\n",
      "  1.12389371e-01  3.66729281e-01 -4.32712902e-01 -4.09295188e-01\n",
      " -2.77041958e-01 -2.15538093e-01 -2.28935679e-01  1.45191716e+00\n",
      " -8.50398054e-01]\n",
      "\n",
      "Weights before scaling\n",
      "[ 4.41484301e-01  5.76649830e+00 -1.76495266e+00  5.92266506e-04\n",
      " -6.38491620e-03  1.73622262e+00  1.08886681e-02  1.88778995e+00\n",
      "  3.03045098e+00  4.58083435e+00  1.12135885e+00  9.60861815e-01\n",
      "  5.27293379e+00  5.38446042e+00  5.41443049e+00  5.32906683e+00\n",
      "  6.18107617e-04  7.21226475e-03  9.83457358e+00  1.94174555e-01\n",
      "  8.66528927e-02  8.54847757e-02  9.94854905e+00  9.96884481e+00\n",
      " -1.96360477e-02  1.99757064e-01  1.11793750e+00  1.24380208e+00\n",
      "  1.06032339e+00  4.81603207e-01  2.88007228e+00  9.40999951e-02\n",
      "  3.66641266e-01  4.71052389e-01  2.16447261e-01  2.56831857e-01\n",
      "  3.88667132e-01  7.78318489e-01  7.25404405e+00  8.56011008e+00\n",
      "  8.53693109e+00  1.20773419e+00  2.08392393e+00  1.38851339e+00\n",
      "  7.63624426e-01  4.05053529e+00  2.08959576e+00  4.95762613e-01\n",
      "  6.91163378e+00  2.90532872e+00  5.42113424e-01  4.82068198e-01\n",
      "  2.55250539e+00  2.03299032e+00  1.98055866e-01  4.30542813e+00\n",
      "  1.49993142e+00  2.72997567e+00  1.24668828e-02  2.77215112e-02\n",
      "  9.78532984e+00  3.60471392e-01  9.94058291e+00  9.98772743e+00\n",
      "  3.39541863e-03  3.05509428e-01  9.93188076e-02  2.87554694e-01\n",
      "  5.94548496e-01  8.06451770e+00  8.69343252e+00  8.81653160e+00\n",
      "  9.07111384e-01  2.81086710e-01  3.85062400e-02  7.32332180e-02\n",
      "  9.54250909e+00  9.98266664e+00  9.99935414e+00 -4.20775569e-04\n",
      "  9.10525481e-01  2.80706974e+00  9.22687061e-01  7.55318985e-01\n",
      "  1.37024222e+03  9.57619085e+02  3.04235892e+00  8.20128715e-01\n",
      "  2.24855024e+00  5.12370201e+00  7.78761025e-01  1.84995249e+00\n",
      "  5.05262187e+00  3.19843354e+00  3.49369398e+00  7.78890643e+02\n",
      "  1.06704354e+00  1.21784642e+00  1.31730745e-01  1.03009755e+00\n",
      "  3.59413063e+00  5.61802865e-01  1.42832009e+00  2.46526825e+00\n",
      "  2.99474392e+00  9.66576491e-01  2.95884950e+00  6.89136662e-01\n",
      " -1.59489877e-01 -6.56066278e-02  3.30944668e+00  2.70873110e-01\n",
      "  1.60560034e+00  1.72890954e+00  2.60257412e+00  1.35625145e+00\n",
      "  1.71028793e+00  2.06154968e+00  3.87251736e+00  2.46889995e+00\n",
      "  2.24665435e+00  1.76973306e+00  1.72849762e+00  1.61008010e+00\n",
      "  1.67756028e+00  3.19441521e+00  2.54783249e+00  2.19135890e+00\n",
      "  1.75881924e+00  1.25043112e+00  1.54489595e+00  1.41889607e+00\n",
      "  1.58707356e+00  1.44410777e+00  2.22053170e+00  1.68751155e+00\n",
      "  3.47569978e+00  2.20817283e+00  1.39587236e+00  1.64840692e+00\n",
      "  8.49556955e-01  1.53559901e+00  2.15410806e+00  2.00944120e+00\n",
      "  1.84886953e+00  1.17638976e+00  1.98037701e+00  2.31309123e+00\n",
      "  1.01996722e+00  7.92376101e-01  1.82985944e+00  1.81342865e+00\n",
      "  1.63650584e+00  2.11535315e+00  1.55490563e+00  1.36824932e-01\n",
      "  7.67900524e-01  8.39588997e-01  9.67047065e-01  3.10482265e+00\n",
      "  1.90271925e+00  9.53118230e-01  1.41236337e+00  2.12685439e+00\n",
      "  2.45576475e+00  2.11649260e+00  1.38763116e+00  1.80283206e+00\n",
      "  2.25948782e+00  2.96749028e+00  2.47461961e+00  1.82208750e+00\n",
      "  6.52855724e-01  1.22162112e-01  5.98224068e+02  2.38347093e+00\n",
      "  2.45767230e+00  4.99925872e-01  1.61505244e+00  1.39205631e+00\n",
      "  2.37810365e+00  2.70277881e+00  2.40832234e+00  2.26592953e+00\n",
      "  2.88108321e+00  1.25087207e+00  1.36798971e+00  1.36664348e+00\n",
      "  1.87890967e+00  2.35483062e+00  1.91025977e+00  2.07290634e+00\n",
      "  1.82879467e+00  2.72060335e+00  2.24449635e+00  2.30435205e+00\n",
      "  2.39339300e+00  2.37266625e+00  1.76998279e+00  1.72673057e+00\n",
      "  2.54388221e+00  2.11893068e+00  3.66301535e+00  1.94539218e+00\n",
      "  1.56403127e+00  1.42914888e+00  1.55846512e+00  1.83462464e+00\n",
      "  2.31466975e+00  2.19333156e+00  2.35543032e+00  2.37654877e+00\n",
      "  3.00350622e+00  2.88358715e+00  1.86598121e+00  2.21889188e+00\n",
      "  3.13686870e+00  2.20613428e+00  2.00471715e+00  1.72673057e+00\n",
      "  2.89685716e+00  1.32365476e+00  8.34377810e-01  1.84382524e+00\n",
      "  1.78514240e+00  1.66049981e+00  2.60786102e+00  2.31911936e+00\n",
      "  2.31700339e+00  9.70988512e-01  2.47017155e+00  2.26790434e+00\n",
      "  2.85579961e+00  1.86675448e+00  1.42387226e+00  1.71401063e+00\n",
      "  1.69715169e+00  1.75919569e+00  1.62164830e+00  2.25886222e+00\n",
      "  2.04640001e+00  2.26797550e+00  9.07546407e-01  1.28682359e+00\n",
      "  1.39831629e+00  1.45320470e+00  2.59205011e+00  1.58761899e+00\n",
      "  1.65271456e+00  1.91526674e+00  2.13102061e+00  3.12928735e+00\n",
      "  2.17792549e+00  1.98895521e+00  1.98193636e+00  2.37939385e+00\n",
      "  1.95137275e+00  2.63002361e+00  2.97441324e+00  2.00858530e+00\n",
      "  1.82218719e+00  1.44551505e+00  2.68391637e+00  2.59636169e+00\n",
      "  1.95366713e+00  2.89849534e+00  2.26419399e+00  1.98504089e+00\n",
      "  2.77055146e+00  2.47018405e+00  2.89312430e+00  2.25113179e+00\n",
      "  3.11899888e+00  1.36308013e+00  2.84695608e+00  2.30649940e+00\n",
      "  3.13822699e+00  2.41568335e+00  1.95669363e+00  1.73322200e+00\n",
      "  1.00781929e+00  2.18031850e+00  1.25412016e+00  6.56382558e+00\n",
      "  2.80038764e+00  1.80573964e-02  2.41152826e+01  6.72431927e+00\n",
      "  1.37935386e+03  3.29097141e+00  4.17735101e+00  2.30583752e+00\n",
      "  3.86017740e+00  1.42341296e-01  2.62710714e+00  1.65389111e+00\n",
      "  6.17078986e-01  1.37168902e-01  4.73024651e-01  3.58856929e+00\n",
      "  2.92052484e+00  1.98699769e+00  1.98765032e+00  4.22947088e+00\n",
      "  1.18931892e+00  4.99242376e+00  1.35192169e+00  4.27736222e+00\n",
      "  4.92234084e+00  3.89760062e+00  3.89018606e+00  4.44141795e+00\n",
      "  3.22740150e+00  6.15737723e+00  3.04757449e+00  2.53942086e+00\n",
      "  2.36352156e+00  2.95268429e+00  3.71287941e+00  2.27553586e+00\n",
      "  4.95373277e+00  5.78434520e-03  2.28688383e+00  1.58654694e+00\n",
      "  3.90670390e+00  4.54636254e-02  1.09043289e+00  7.38605471e-01\n",
      "  1.61114136e+00  3.56933968e+00  3.91042175e+00  8.16525417e+00\n",
      "  1.70016700e+00  1.29308371e+00  3.79086925e+00  4.50693782e-02\n",
      "  4.33150854e-01  4.20747736e-01  6.09254406e-02  1.32800940e-01\n",
      "  5.56582929e-02  2.21913033e-01  9.32652827e-02  9.65404315e-02\n",
      "  3.97448279e-02  1.08505623e-01  4.14285781e-02  3.74420521e-02\n",
      "  1.08027283e-02  6.08162845e-02  1.86426074e-02  1.52948085e-02\n",
      "  9.30179135e-04 -7.07379605e-03 -1.26768484e-02 -1.61719284e-02\n",
      " -1.17340574e-02  3.75437022e-02  1.30610161e-02  1.85982813e-02\n",
      "  9.61308782e-02  2.45019666e-02  3.73890214e-02  3.15310041e-02\n",
      "  6.49584910e-02  1.88692165e-01  1.39197424e-02  5.74412236e-03\n",
      "  4.41713664e-02  7.33967195e-02  3.08478559e-02  7.98731887e-03\n",
      "  7.37253616e-02  2.47140470e-02  1.27930721e-02  4.91400862e-03\n",
      "  6.93060462e-03  2.35666830e-03  1.81103267e-02  6.55958129e-03\n",
      "  9.95852939e-03  9.52671200e-04  4.64850812e-02  1.65050137e-02\n",
      "  7.20570510e-03  3.23657334e-03  5.50675586e-03  4.62233263e-03\n",
      "  2.99522062e-03  1.93090810e-03  1.05964839e-03  5.80792207e-03\n",
      " -1.06005788e-02 -2.16714884e-03 -3.75978540e-03 -3.58025592e-03\n",
      " -4.89446555e-03 -7.67687798e-03 -6.69507691e-03 -6.78553184e-03\n",
      "  1.39752433e-03  1.94374877e-01  4.55078141e-01  7.20065199e-02\n",
      "  6.62809270e-02  4.48351140e-02  1.82128405e-01  4.65949190e-02\n",
      "  1.92176626e-01  5.45470994e-01  2.60897711e-02  8.70221588e-03\n",
      "  1.30704188e-02  7.80616189e-02 -5.79890377e-02  5.30505329e-01\n",
      "  9.90463179e-03  1.54300407e-01  4.36902297e-01  1.48732009e-01\n",
      "  7.05607760e-01  3.19488924e-02  1.25320823e-02  3.45131445e-03\n",
      "  1.79273084e-03  4.10711989e-02  2.65436500e-02 -1.69472628e-03\n",
      "  1.45103267e-01  1.06764287e-01  3.91192094e-01  6.05042921e-02\n",
      "  2.08626683e-01  1.33801690e-01 -1.35830722e-02  1.27384674e-01\n",
      " -5.26734708e-03 -2.62258663e-02  2.77770541e-01  1.25595651e-01\n",
      "  3.03052661e-01 -1.30360729e-03 -2.31505608e-03 -1.99125675e-03\n",
      " -1.97342136e-03  2.68463865e-04  8.00540490e-03  1.16920154e-02\n",
      "  2.44117000e-01  8.77953261e-02  2.77770541e-01  1.25595651e-01\n",
      "  3.03052661e-01  3.22470731e-01 -6.32040073e-02 -2.44043166e-02\n",
      "  4.19788862e-02 -2.74990324e-02  1.24347559e-01  4.04038252e-02\n",
      "  6.84543702e-02 -1.87995574e-03  1.33443057e-01  1.00907573e+00\n",
      " -1.15741891e-01  1.10117467e+00  2.03615752e-01  8.62033502e-01\n",
      " -1.16376939e-02 -6.05074962e-03  2.13787849e-01  1.30052238e-01\n",
      "  4.31727921e-02  4.21179745e-01  7.62965635e-01  6.45663941e-03\n",
      "  3.52035489e-04  6.51954132e-04  1.16605051e-04  5.33979767e-01\n",
      "  5.69338746e-02  7.48786886e-01 -3.82726468e-02 -2.48870037e-02\n",
      " -1.71364154e-02  4.75109247e+00  4.56754900e+00  1.06704354e+00\n",
      "  6.31899937e-01]\n",
      "\n",
      "Largest Positive Weights\n",
      "                       weight\n",
      "LP_STATUS_FEIN_10.0  1.603360\n",
      "PR_J_mvt             1.451917\n",
      "GREEN_AVANTGARDE     1.451917\n",
      "FINANZ_MINIMALIST    1.119377\n",
      "LP_STATUS_GROB_4.0   1.107200\n",
      "CJT_TYP_5            0.914758\n",
      "KBA05_ANTG1          0.908589\n",
      "CJT_TYP_4            0.896180\n",
      "FINANZ_VORSORGER     0.873355\n",
      "CJT_TYP_6            0.821695\n",
      "\n",
      "Largest Negative Weights\n",
      "                        weight\n",
      "HH_EINKOMMEN_SCORE   -1.193459\n",
      "LP_STATUS_GROB_1.0   -1.107200\n",
      "CJT_TYP_2            -0.978757\n",
      "FINANZ_SPARER        -0.968829\n",
      "CJT_TYP_1            -0.954764\n",
      "FINANZ_ANLEGER       -0.953915\n",
      "RT_KEIN_ANREIZ       -0.917878\n",
      "PR_J_gen             -0.850398\n",
      "SEMIO_PFLICHT        -0.661909\n",
      "EINGEZOGENAM_HH_JAHR -0.647739\n"
     ]
    }
   ],
   "source": [
    "# Repeat the process for the cluster with the second largest positive difference\n",
    "cluster_id = diff_az[1]\n",
    "print (\"data for the cluster with the second largest positive difference\")\n",
    "cluster_data(cluster_id)"
   ]
  },
  {
   "cell_type": "code",
   "execution_count": null,
   "metadata": {},
   "outputs": [],
   "source": []
  },
  {
   "cell_type": "markdown",
   "metadata": {},
   "source": [
    "**Discussion**\n",
    "\n",
    "The features with the largest weights in the cluster where the difference between the general population and customers is the greatest show the importance of the financial variables--both investment style (FININANZ_) and economic means ( LP_STATUS_).\n",
    "\n",
    "This observation is confirmed by looking at the next cluster in term of differences.  In this cluster we also note the weights given to the features associated with advertising (CJT_TYP_) but we do not have enough information to interpret this further.\n",
    "\n"
   ]
  },
  {
   "cell_type": "markdown",
   "metadata": {},
   "source": [
    "##  Part 2: Supervised Learning Model\n",
    "Now that you've found which parts of the population are more likely to be customers of the mail-order company, it's time to build a prediction model. Each of the rows in the \"MAILOUT\" data files represents an individual that was targeted for a mailout campaign. Ideally, we should be able to use the demographic information from each individual to decide whether or not it will be worth it to include that person in the campaign.\n",
    "The \"MAILOUT\" data has been split into two approximately equal parts, each with almost 43 000 data rows. In this part, you can verify your model with the \"TRAIN\" partition, which includes a column, \"RESPONSE\", that states whether or not a person became a customer of the company following the campaign. In the next part, you'll need to create predictions on the \"TEST\" partition, where the \"RESPONSE\" column has been withheld."
   ]
  },
  {
   "cell_type": "code",
   "execution_count": 362,
   "metadata": {},
   "outputs": [
    {
     "data": {
      "text/html": [
       "<div>\n",
       "<style scoped>\n",
       "    .dataframe tbody tr th:only-of-type {\n",
       "        vertical-align: middle;\n",
       "    }\n",
       "\n",
       "    .dataframe tbody tr th {\n",
       "        vertical-align: top;\n",
       "    }\n",
       "\n",
       "    .dataframe thead th {\n",
       "        text-align: right;\n",
       "    }\n",
       "</style>\n",
       "<table border=\"1\" class=\"dataframe\">\n",
       "  <thead>\n",
       "    <tr style=\"text-align: right;\">\n",
       "      <th></th>\n",
       "      <th>AKT_DAT_KL</th>\n",
       "      <th>ALTER_HH</th>\n",
       "      <th>ANZ_HAUSHALTE_AKTIV</th>\n",
       "      <th>ANZ_HH_TITEL</th>\n",
       "      <th>ANZ_KINDER</th>\n",
       "      <th>ANZ_PERSONEN</th>\n",
       "      <th>ANZ_TITEL</th>\n",
       "      <th>ARBEIT</th>\n",
       "      <th>BALLRAUM</th>\n",
       "      <th>CJT_KATALOGNUTZER</th>\n",
       "      <th>...</th>\n",
       "      <th>ZABEOTYP_1</th>\n",
       "      <th>ZABEOTYP_2</th>\n",
       "      <th>ZABEOTYP_3</th>\n",
       "      <th>ZABEOTYP_4</th>\n",
       "      <th>ZABEOTYP_5</th>\n",
       "      <th>ZABEOTYP_6</th>\n",
       "      <th>CAMEO_wealth</th>\n",
       "      <th>CAMEO_life</th>\n",
       "      <th>PR_J_mvt</th>\n",
       "      <th>PR_J_gen</th>\n",
       "    </tr>\n",
       "  </thead>\n",
       "  <tbody>\n",
       "    <tr>\n",
       "      <th>0</th>\n",
       "      <td>1.0</td>\n",
       "      <td>8.0</td>\n",
       "      <td>15.0</td>\n",
       "      <td>0.0</td>\n",
       "      <td>0.0</td>\n",
       "      <td>1.0</td>\n",
       "      <td>0.0</td>\n",
       "      <td>3.0</td>\n",
       "      <td>5.0</td>\n",
       "      <td>5.0</td>\n",
       "      <td>...</td>\n",
       "      <td>0</td>\n",
       "      <td>0</td>\n",
       "      <td>1</td>\n",
       "      <td>0</td>\n",
       "      <td>0</td>\n",
       "      <td>0</td>\n",
       "      <td>34.0</td>\n",
       "      <td>34.0</td>\n",
       "      <td>0</td>\n",
       "      <td>1</td>\n",
       "    </tr>\n",
       "    <tr>\n",
       "      <th>1</th>\n",
       "      <td>4.0</td>\n",
       "      <td>13.0</td>\n",
       "      <td>1.0</td>\n",
       "      <td>0.0</td>\n",
       "      <td>0.0</td>\n",
       "      <td>2.0</td>\n",
       "      <td>0.0</td>\n",
       "      <td>2.0</td>\n",
       "      <td>5.0</td>\n",
       "      <td>2.0</td>\n",
       "      <td>...</td>\n",
       "      <td>1</td>\n",
       "      <td>0</td>\n",
       "      <td>0</td>\n",
       "      <td>0</td>\n",
       "      <td>0</td>\n",
       "      <td>0</td>\n",
       "      <td>32.0</td>\n",
       "      <td>32.0</td>\n",
       "      <td>0</td>\n",
       "      <td>4</td>\n",
       "    </tr>\n",
       "    <tr>\n",
       "      <th>2</th>\n",
       "      <td>1.0</td>\n",
       "      <td>9.0</td>\n",
       "      <td>0.0</td>\n",
       "      <td>NaN</td>\n",
       "      <td>0.0</td>\n",
       "      <td>0.0</td>\n",
       "      <td>0.0</td>\n",
       "      <td>4.0</td>\n",
       "      <td>1.0</td>\n",
       "      <td>5.0</td>\n",
       "      <td>...</td>\n",
       "      <td>0</td>\n",
       "      <td>0</td>\n",
       "      <td>1</td>\n",
       "      <td>0</td>\n",
       "      <td>0</td>\n",
       "      <td>0</td>\n",
       "      <td>14.0</td>\n",
       "      <td>14.0</td>\n",
       "      <td>1</td>\n",
       "      <td>1</td>\n",
       "    </tr>\n",
       "    <tr>\n",
       "      <th>3</th>\n",
       "      <td>1.0</td>\n",
       "      <td>6.0</td>\n",
       "      <td>4.0</td>\n",
       "      <td>0.0</td>\n",
       "      <td>0.0</td>\n",
       "      <td>2.0</td>\n",
       "      <td>0.0</td>\n",
       "      <td>4.0</td>\n",
       "      <td>2.0</td>\n",
       "      <td>5.0</td>\n",
       "      <td>...</td>\n",
       "      <td>0</td>\n",
       "      <td>0</td>\n",
       "      <td>1</td>\n",
       "      <td>0</td>\n",
       "      <td>0</td>\n",
       "      <td>0</td>\n",
       "      <td>14.0</td>\n",
       "      <td>14.0</td>\n",
       "      <td>1</td>\n",
       "      <td>1</td>\n",
       "    </tr>\n",
       "    <tr>\n",
       "      <th>4</th>\n",
       "      <td>1.0</td>\n",
       "      <td>9.0</td>\n",
       "      <td>53.0</td>\n",
       "      <td>0.0</td>\n",
       "      <td>0.0</td>\n",
       "      <td>1.0</td>\n",
       "      <td>0.0</td>\n",
       "      <td>3.0</td>\n",
       "      <td>4.0</td>\n",
       "      <td>5.0</td>\n",
       "      <td>...</td>\n",
       "      <td>0</td>\n",
       "      <td>0</td>\n",
       "      <td>1</td>\n",
       "      <td>0</td>\n",
       "      <td>0</td>\n",
       "      <td>0</td>\n",
       "      <td>41.0</td>\n",
       "      <td>41.0</td>\n",
       "      <td>0</td>\n",
       "      <td>2</td>\n",
       "    </tr>\n",
       "  </tbody>\n",
       "</table>\n",
       "<p>5 rows × 490 columns</p>\n",
       "</div>"
      ],
      "text/plain": [
       "   AKT_DAT_KL  ALTER_HH  ANZ_HAUSHALTE_AKTIV  ANZ_HH_TITEL  ANZ_KINDER  \\\n",
       "0         1.0       8.0                 15.0           0.0         0.0   \n",
       "1         4.0      13.0                  1.0           0.0         0.0   \n",
       "2         1.0       9.0                  0.0           NaN         0.0   \n",
       "3         1.0       6.0                  4.0           0.0         0.0   \n",
       "4         1.0       9.0                 53.0           0.0         0.0   \n",
       "\n",
       "   ANZ_PERSONEN  ANZ_TITEL  ARBEIT  BALLRAUM  CJT_KATALOGNUTZER  ...  \\\n",
       "0           1.0        0.0     3.0       5.0                5.0  ...   \n",
       "1           2.0        0.0     2.0       5.0                2.0  ...   \n",
       "2           0.0        0.0     4.0       1.0                5.0  ...   \n",
       "3           2.0        0.0     4.0       2.0                5.0  ...   \n",
       "4           1.0        0.0     3.0       4.0                5.0  ...   \n",
       "\n",
       "   ZABEOTYP_1  ZABEOTYP_2  ZABEOTYP_3  ZABEOTYP_4  ZABEOTYP_5  ZABEOTYP_6  \\\n",
       "0           0           0           1           0           0           0   \n",
       "1           1           0           0           0           0           0   \n",
       "2           0           0           1           0           0           0   \n",
       "3           0           0           1           0           0           0   \n",
       "4           0           0           1           0           0           0   \n",
       "\n",
       "   CAMEO_wealth  CAMEO_life  PR_J_mvt  PR_J_gen  \n",
       "0          34.0        34.0         0         1  \n",
       "1          32.0        32.0         0         4  \n",
       "2          14.0        14.0         1         1  \n",
       "3          14.0        14.0         1         1  \n",
       "4          41.0        41.0         0         2  \n",
       "\n",
       "[5 rows x 490 columns]"
      ]
     },
     "execution_count": 362,
     "metadata": {},
     "output_type": "execute_result"
    }
   ],
   "source": [
    "#mailout_train = pd.read_csv('../../data/Term2/capstone/arvato_data/Udacity_MAILOUT_052018_TRAIN.csv', sep=';')\n",
    "# read the cleaned dataset\n",
    "mailout_train_go_ = pd.read_csv('mailout_train_go.csv', low_memory=False)\n",
    "mailout_train_go_.drop(['Unnamed: 0'], axis=1, inplace=True)\n",
    "mailout_train_go_.head()"
   ]
  },
  {
   "cell_type": "code",
   "execution_count": 363,
   "metadata": {},
   "outputs": [
    {
     "name": "stdout",
     "output_type": "stream",
     "text": [
      "(42962, 490)\n"
     ]
    }
   ],
   "source": [
    "print(mailout_train_go_.shape)\n"
   ]
  },
  {
   "cell_type": "code",
   "execution_count": 364,
   "metadata": {},
   "outputs": [
    {
     "data": {
      "text/plain": [
       "count    42962.000000\n",
       "mean         0.012383\n",
       "std          0.110589\n",
       "min          0.000000\n",
       "25%          0.000000\n",
       "50%          0.000000\n",
       "75%          0.000000\n",
       "max          1.000000\n",
       "Name: RESPONSE, dtype: float64"
      ]
     },
     "execution_count": 364,
     "metadata": {},
     "output_type": "execute_result"
    }
   ],
   "source": [
    "mailout_train_go_['RESPONSE'].describe()"
   ]
  },
  {
   "cell_type": "code",
   "execution_count": 365,
   "metadata": {},
   "outputs": [
    {
     "data": {
      "text/plain": [
       "532"
      ]
     },
     "execution_count": 365,
     "metadata": {},
     "output_type": "execute_result"
    }
   ],
   "source": [
    "mailout_train_go_['RESPONSE'].sum()"
   ]
  },
  {
   "cell_type": "markdown",
   "metadata": {},
   "source": [
    "**Discussion**\n",
    "\n",
    "Wow! \n",
    "\n",
    "The number of positive responses for this data set is 532, i.e., 1.2%. We cannot call this a failed campaign without knowing the expectations, but from a practical standpoint, this dataset as is does not give us much material to work with. It seems futile to use supervised training techniques to predict the response when a naive estimate that over 98% will fail to respond is probably accurate. (We assume that the percentage of positive responses is roughly the same in the other/test half of the mailout dataset.) Could these poor results be explained?\n",
    "\n",
    "As a preliminary step, we will cluster the `mailout_train` data as we did for the other two datasets and compare the mail recipients with the company's existing customers to see what we can learn. The method is the same:\n",
    "\n",
    "  * clean the data (done)\n",
    "  * use PCA for dimensionality reduction\n",
    "  * cluster with KMeans\n",
    "  "
   ]
  },
  {
   "cell_type": "code",
   "execution_count": 366,
   "metadata": {},
   "outputs": [
    {
     "name": "stdout",
     "output_type": "stream",
     "text": [
      "(191652, 489)\n"
     ]
    }
   ],
   "source": [
    "print(customers_go.shape)"
   ]
  },
  {
   "cell_type": "code",
   "execution_count": 367,
   "metadata": {},
   "outputs": [
    {
     "name": "stdout",
     "output_type": "stream",
     "text": [
      "[]\n"
     ]
    }
   ],
   "source": [
    "delta1 = np.setdiff1d(list(customers_go.columns), list(mailout_train_go_.columns))\n",
    "print(delta1)"
   ]
  },
  {
   "cell_type": "code",
   "execution_count": 368,
   "metadata": {},
   "outputs": [
    {
     "name": "stdout",
     "output_type": "stream",
     "text": [
      "['RESPONSE']\n"
     ]
    }
   ],
   "source": [
    "delta2 = np.setdiff1d(list(mailout_train_go_.columns), list(customers_go.columns))\n",
    "print(delta2)"
   ]
  },
  {
   "cell_type": "code",
   "execution_count": 369,
   "metadata": {},
   "outputs": [
    {
     "data": {
      "text/plain": [
       "(42962, 489)"
      ]
     },
     "execution_count": 369,
     "metadata": {},
     "output_type": "execute_result"
    }
   ],
   "source": [
    "# we drop RESPONSE for now\n",
    "mailout_train_go = mailout_train_go_.drop(['RESPONSE'], axis=1)\n",
    "mailout_train_go.shape"
   ]
  },
  {
   "cell_type": "markdown",
   "metadata": {},
   "source": [
    "### Clustering"
   ]
  },
  {
   "cell_type": "code",
   "execution_count": 370,
   "metadata": {},
   "outputs": [],
   "source": [
    "# Using the cleaned dataset\n",
    "mailout_train_imp = imp.fit_transform(mailout_train_go)\n",
    "\n",
    "#apply feature scaling\n",
    "mailout_train_scaled = scaler.fit_transform(mailout_train_imp)\n",
    "\n",
    "# apply PCA to mailout data:\n",
    "X_pca_mailout_train = pca.transform(mailout_train_scaled)\n",
    "\n",
    "# clustering mailout data\n",
    "cluster_labels_mailout_train = kmean.predict(X_pca_mailout_train)"
   ]
  },
  {
   "cell_type": "code",
   "execution_count": 371,
   "metadata": {},
   "outputs": [
    {
     "data": {
      "text/plain": [
       "(42962, 220)"
      ]
     },
     "execution_count": 371,
     "metadata": {},
     "output_type": "execute_result"
    }
   ],
   "source": [
    "X_pca_mailout_train.shape"
   ]
  },
  {
   "cell_type": "code",
   "execution_count": 372,
   "metadata": {},
   "outputs": [
    {
     "name": "stdout",
     "output_type": "stream",
     "text": [
      "Data Distribution in clusters(mailout_train data) \n",
      "\n",
      "[ 0  1  2  3  4  5  6  7  8  9 10 11 12 13 14 15 16 17 18 19]\n",
      "\n",
      "Number of points in each cluster \n",
      "[ 925 2485 3406  383 1146 1132  292 1322 1383  825 2188 1257 4060 4474\n",
      " 3490 4229   67 7025 1078 1795] \n",
      "\n",
      "Relative number of points in each cluster\n",
      " [0.02153065 0.05784181 0.07927936 0.00891485 0.02667474 0.02634887\n",
      " 0.0067967  0.03077138 0.03219124 0.01920302 0.05092873 0.02925841\n",
      " 0.09450212 0.10413854 0.08123458 0.09843583 0.00155952 0.1635166\n",
      " 0.02509194 0.04178111] \n"
     ]
    },
    {
     "data": {
      "image/png": "[encoded data removed]",
      "text/plain": [
       "<Figure size 1080x576 with 1 Axes>"
      ]
     },
     "metadata": {
      "needs_background": "light"
     },
     "output_type": "display_data"
    }
   ],
   "source": [
    "# calculate the proportion in each cluster\n",
    "\n",
    "#print(np.unique(cluster_labels_customers))\n",
    "unique, cluster_data_count_mailout_train = np.unique(cluster_labels_mailout_train, return_counts=True)\n",
    "cluster_data_ratio_mailout_train = cluster_data_count_mailout_train/X_pca_mailout_train.shape[0]\n",
    "print(\"Data Distribution in clusters(mailout_train data) \\n\")\n",
    "print(unique)\n",
    "print(f\"\\nNumber of points in each cluster \\n{cluster_data_count_mailout_train} \")\n",
    "print(f\"\\nRelative number of points in each cluster\\n {cluster_data_ratio_mailout_train} \")\n",
    "\n",
    "cluster_distribution(unique, cluster_data_ratio_mailout_train, cluster_labels_mailout_train, n_clusters)"
   ]
  },
  {
   "cell_type": "code",
   "execution_count": 373,
   "metadata": {},
   "outputs": [
    {
     "data": {
      "image/png": "[encoded data removed]",
      "text/plain": [
       "<Figure size 1080x576 with 1 Axes>"
      ]
     },
     "metadata": {
      "needs_background": "light"
     },
     "output_type": "display_data"
    }
   ],
   "source": [
    "# Compare the proportion of data in each cluster for the mailout data to the\n",
    "# proportion of data in each cluster for the customers.\n",
    "\n",
    "x = np.arange(len(unique)) \n",
    "width = 0.3  # the width of the bars\n",
    "fig, ax = plt.subplots(figsize=(15,8))\n",
    "#pop = ax.bar(x - width/2, cluster_data_ratio, width, label='Population')\n",
    "mailout = ax.bar(x - width/2, cluster_data_ratio_mailout_train, width, label='Mailout', color='green')\n",
    "cust = ax.bar(x + width/2, cluster_data_ratio_customers, width, label='Customers',color='orange')\n",
    "\n",
    "ax.set_ylabel('Relative amount in cluster')\n",
    "ax.set_title('Cluster distribution')\n",
    "ax.set_xticks(unique)\n",
    "ax.set_xticklabels(unique)\n",
    "ax.legend();"
   ]
  },
  {
   "cell_type": "markdown",
   "metadata": {},
   "source": [
    "**Discussion**\n",
    "\n",
    "The above figure compares the cluster distributions for `customers` and `mailout_train`. Interestingly, if we compare this display with the cluster distribution of population vs customers shown earlier, the `mailout_train` data are half-way, so to speak, between the population characteristics and the customer characteristics.\n"
   ]
  },
  {
   "cell_type": "code",
   "execution_count": 374,
   "metadata": {},
   "outputs": [
    {
     "name": "stdout",
     "output_type": "stream",
     "text": [
      "Cluster differences\n",
      "[ 0.07786361  0.03050621  0.02889341  0.0057375  -0.00046664 -0.00113487\n",
      " -0.00150734 -0.00227179 -0.00282509 -0.00404666 -0.00406253 -0.0043913\n",
      " -0.00513048 -0.00538631 -0.00796115 -0.0169597  -0.01743166 -0.01996807\n",
      " -0.02434368 -0.02511348]\n",
      "\n",
      "largest positive difference: 0.07786361390225702 (cluster 17)\n",
      "\n",
      "largest negative difference: -0.025113479160059904 (cluster 2)\n",
      "\n",
      "Clusters ranked in terms of population differences (cust vs mailout):\n",
      "[17, 15, 12, 7, 19, 1, 16, 0, 11, 3, 10, 6, 4, 9, 14, 13, 5, 18, 8, 2]\n"
     ]
    }
   ],
   "source": [
    "# identify clusters w/ largest differences\n",
    "diff_mail, dict_mail = calc_cluster_diffs(cluster_data_ratio_customers, cluster_data_ratio_mailout_train)\n",
    "print('\\nClusters ranked in terms of population differences (cust vs mailout):')\n",
    "print(diff_mail)"
   ]
  },
  {
   "cell_type": "code",
   "execution_count": 375,
   "metadata": {},
   "outputs": [
    {
     "name": "stdout",
     "output_type": "stream",
     "text": [
      "191652\n"
     ]
    }
   ],
   "source": [
    "print(len(cluster_labels_customers))"
   ]
  },
  {
   "cell_type": "markdown",
   "metadata": {},
   "source": [
    "###  Methodology \n",
    "\n",
    "We tried two approaches to supervised learning:  In the first approach, we augmented the original `mailout_train` dataset with records from the `customers` dataset, while assuming that these additional records would elicit a RESPONSE = 1.  In the second approach, we engineered a new RESPONSE column with values weighed according to the record's location in the cluster distribution.\n",
    "\n",
    "**Strategy 1**\n",
    "\n",
    "We decided to augment `mailout_train` with records from `customers` in order to get a better balance between succes and failure in the training dataset. Specifically, we will select records from the three clusters found to differ the most from the general population (`azdias`)--or, conversely, to be the most representative of customers' characteristics. In the cluster-distribution figure above (unsupervised learning), the records would come from clusters 17, 15, and 12. We will pick systematically a sufficient number of records to increase the size of `mailout_train` by 30%. For these records, we assign a value of 1 to the RESPONSE feature. Admittedly, it is highly optimistic to assume that existing customers would necessarily respond to a mail offer, so we will keep this limitation in mind."
   ]
  },
  {
   "cell_type": "code",
   "execution_count": 376,
   "metadata": {},
   "outputs": [
    {
     "name": "stdout",
     "output_type": "stream",
     "text": [
      "\n",
      "Collecting records from clusters: [17, 15, 12]\n",
      "Total number of records available: 94622\n"
     ]
    }
   ],
   "source": [
    "# pick the points in selected clusters\n",
    "subset = []\n",
    "target = diff_az[:3]\n",
    "print(\"\\nCollecting records from clusters: {}\".format(target))\n",
    "\n",
    "# collect the sample points in the selected clusters\n",
    "for item in target:\n",
    "    for i in range (0, len(cluster_labels_customers)):\n",
    "        if item == cluster_labels_customers[i]:\n",
    "            subset.append(i)\n",
    "#print(subset[:10])\n",
    "print(\"Total number of records available: {}\".format(len(subset)))\n",
    "    "
   ]
  },
  {
   "cell_type": "code",
   "execution_count": null,
   "metadata": {},
   "outputs": [],
   "source": []
  },
  {
   "cell_type": "code",
   "execution_count": 377,
   "metadata": {},
   "outputs": [
    {
     "name": "stdout",
     "output_type": "stream",
     "text": [
      "12888\n",
      "7\n",
      "Total number of records to be added: 13518\n",
      "that is  31.47%\n"
     ]
    }
   ],
   "source": [
    "# We want to add ~ 30% more points to the existing training dataset\n",
    "n_add = int(mailout_train_go.shape[0]*0.3)\n",
    "print(n_add)\n",
    "\n",
    "# pick every k point in the subset to achieve desired amount\n",
    "k = int(len(subset)/n_add)\n",
    "print(k)\n",
    "sub_customers = []\n",
    "for i in range(0, len(subset), k):\n",
    "    sub_customers.append(subset[i])\n",
    "\n",
    "print(\"Total number of records to be added: {}\".format(len(sub_customers)))\n",
    "\n",
    "# check\n",
    "print(\"that is {: .2f}%\".format(len(sub_customers)/mailout_train_go.shape[0]*100))"
   ]
  },
  {
   "cell_type": "code",
   "execution_count": 378,
   "metadata": {},
   "outputs": [
    {
     "name": "stdout",
     "output_type": "stream",
     "text": [
      "(13518, 489)\n",
      "(13518, 490)\n",
      "(56480, 490)\n"
     ]
    }
   ],
   "source": [
    "# make a dataframe of these samples\n",
    "cust_samples = customers_go.loc[sub_customers,:]\n",
    "print(cust_samples.shape)\n",
    "cust_samples.loc[:,'RESPONSE'] = 1\n",
    "print(cust_samples.shape)\n",
    "\n",
    "mailout_train_plus_ = pd.concat([mailout_train_go_, cust_samples], axis=0)\n",
    "print(mailout_train_plus_.shape)"
   ]
  },
  {
   "cell_type": "markdown",
   "metadata": {},
   "source": [
    "Now, we will try training with the mailout dataset, first in its original configuration and then augmented with records from `customers`."
   ]
  },
  {
   "cell_type": "code",
   "execution_count": 379,
   "metadata": {},
   "outputs": [],
   "source": [
    "# Use RandomForest classifier\n",
    "def fit_random_forest_classifier(X, y):\n",
    "    '''\n",
    "    INPUT: \n",
    "    X : n (records) x m (features)\n",
    "    y : list of dimension n\n",
    "    OUTPUT:\n",
    "    accuracy, ROC score, y_predicted\n",
    "    '''\n",
    "    #First split training and testing data\n",
    "    X_train, X_test, y_train, y_test = train_test_split(X, y, test_size=0.2, random_state=42)\n",
    "\n",
    "    #try a simple model to see how it works\n",
    "    clf = RandomForestClassifier(n_estimators=100, max_depth=None)\n",
    "\n",
    "    # fit\n",
    "    clf.fit(X_train, y_train)\n",
    "\n",
    "    # predict\n",
    "    y_preds = clf.predict(X_test)\n",
    "\n",
    "    # score\n",
    "    acc = accuracy_score(y_test, y_preds)\n",
    "    # skip if y not binary\n",
    "    try:\n",
    "        roc = roc_auc_score(y_test, y_preds)\n",
    "    except:\n",
    "        roc = -1\n",
    "    #print(acc, roc)\n",
    "    \n",
    "    return acc, roc, y_preds"
   ]
  },
  {
   "cell_type": "code",
   "execution_count": 380,
   "metadata": {},
   "outputs": [
    {
     "name": "stdout",
     "output_type": "stream",
     "text": [
      "accuracy: 0.98591877109275 ROC: 0.5\n"
     ]
    }
   ],
   "source": [
    "# using the original mailout dataset\n",
    "y = mailout_train_go_['RESPONSE']\n",
    "acc, roc, y_preds = fit_random_forest_classifier(X_pca_mailout_train, y)\n",
    "print(\"accuracy: {} ROC: {}\".format(acc, roc))"
   ]
  },
  {
   "cell_type": "code",
   "execution_count": 381,
   "metadata": {},
   "outputs": [
    {
     "name": "stdout",
     "output_type": "stream",
     "text": [
      "0\n"
     ]
    },
    {
     "data": {
      "text/plain": [
       "(56480, 490)"
      ]
     },
     "execution_count": 381,
     "metadata": {},
     "output_type": "execute_result"
    }
   ],
   "source": [
    "print(y_preds.sum())\n",
    "mailout_train_plus_.shape"
   ]
  },
  {
   "cell_type": "code",
   "execution_count": 382,
   "metadata": {},
   "outputs": [],
   "source": [
    "# using the augmented mailout dataset\n",
    "y = mailout_train_plus_['RESPONSE']\n",
    "\n",
    "# transform new set with PCA\n",
    "mailout_train_plus = mailout_train_plus_.drop(['RESPONSE'], axis=1)\n",
    "mailout_train_imp = imp.fit_transform(mailout_train_plus)\n",
    "\n",
    "# apply feature scaling\n",
    "mailout_train_scaled = scaler.fit_transform(mailout_train_imp)\n",
    "\n",
    "# apply PCA to mailout data\n",
    "X_pca_mailout_train_plus = pca.transform(mailout_train_scaled)\n",
    "\n",
    "# clustering mailout data\n",
    "cluster_labels_mailout_train_plus = kmean.predict(X_pca_mailout_train_plus)"
   ]
  },
  {
   "cell_type": "code",
   "execution_count": 383,
   "metadata": {},
   "outputs": [
    {
     "data": {
      "text/plain": [
       "(56480, 220)"
      ]
     },
     "execution_count": 383,
     "metadata": {},
     "output_type": "execute_result"
    }
   ],
   "source": [
    "X_pca_mailout_train_plus.shape"
   ]
  },
  {
   "cell_type": "code",
   "execution_count": 384,
   "metadata": {},
   "outputs": [
    {
     "data": {
      "text/plain": [
       "14050"
      ]
     },
     "execution_count": 384,
     "metadata": {},
     "output_type": "execute_result"
    }
   ],
   "source": [
    "y.sum()"
   ]
  },
  {
   "cell_type": "code",
   "execution_count": 385,
   "metadata": {},
   "outputs": [
    {
     "name": "stdout",
     "output_type": "stream",
     "text": [
      "accuracy: 0.7887747875354107 ROC: 0.6506981401718244\n",
      "[0 0 0 1 0 0 1 0 1 0 1 0 0 1 0 0 0 0 0 0 1 0 0 0 0 0 1 0 1 0 0 0 0 0 0 0 0\n",
      " 0 0 0 1 0 0 0 0 0 0 0 0 0]\n",
      "1648\n"
     ]
    }
   ],
   "source": [
    "acc, roc, y_preds = fit_random_forest_classifier(X_pca_mailout_train_plus, y)\n",
    "print(\"accuracy: {} ROC: {}\".format(acc, roc))\n",
    "print(y_preds[:50])\n",
    "print(y_preds.sum())"
   ]
  },
  {
   "cell_type": "markdown",
   "metadata": {},
   "source": [
    "We will now try to find optimum parameters using `GridSearchCV` for RandomForest and AdaBoost classifiers."
   ]
  },
  {
   "cell_type": "code",
   "execution_count": 386,
   "metadata": {},
   "outputs": [],
   "source": [
    "# try parameter search\n",
    "def fit_random_forest_opt(X, y):\n",
    "    '''\n",
    "    INPUT: \n",
    "    X : n (records) x m (features)\n",
    "    y : list of dimension n\n",
    "    OUTPUT:\n",
    "    accuracy, ROC score, y_predicted\n",
    "    '''\n",
    "    #First create training and testing data\n",
    "    X_train, X_test, y_train, y_test = train_test_split(X, y, test_size=0.2, random_state=42)\n",
    "\n",
    "    clf_rf = RandomForestClassifier()\n",
    "    \n",
    "    # Set up the hyperparameter search\n",
    "    n_features = X_test.shape[1]\n",
    "    param_dist = {\"max_depth\": [3, None],\n",
    "              \"n_estimators\": [100, 200],\n",
    "              }\n",
    "\n",
    "    # Run a search over the hyperparameters\n",
    "    grid_search = GridSearchCV(clf_rf, param_grid=param_dist)\n",
    "    \n",
    "    # Fit the model on the training data\n",
    "    grid_search.fit(X_train, y_train)\n",
    "    \n",
    "    # Make predictions on the test data\n",
    "    rf_preds = grid_search.best_estimator_.predict(X_test)\n",
    "\n",
    "    #score\n",
    "    acc = accuracy_score(y_test, rf_preds)\n",
    "    roc = roc_auc_score(y_test, rf_preds)\n",
    "    \n",
    "    print(grid_search.best_estimator_)\n",
    "\n",
    "    return acc, roc, rf_preds"
   ]
  },
  {
   "cell_type": "code",
   "execution_count": 387,
   "metadata": {},
   "outputs": [
    {
     "name": "stdout",
     "output_type": "stream",
     "text": [
      "RandomForestClassifier(bootstrap=True, ccp_alpha=0.0, class_weight=None,\n",
      "                       criterion='gini', max_depth=None, max_features='auto',\n",
      "                       max_leaf_nodes=None, max_samples=None,\n",
      "                       min_impurity_decrease=0.0, min_impurity_split=None,\n",
      "                       min_samples_leaf=1, min_samples_split=2,\n",
      "                       min_weight_fraction_leaf=0.0, n_estimators=200,\n",
      "                       n_jobs=None, oob_score=False, random_state=None,\n",
      "                       verbose=0, warm_start=False)\n",
      "accuracy: 0.7872698300283286 ROC: 0.6481883337146496\n",
      "1639\n"
     ]
    }
   ],
   "source": [
    "rf_acc, rf_roc, rf_preds = fit_random_forest_opt(X_pca_mailout_train_plus, y)\n",
    "print(\"accuracy: {} ROC: {}\".format(rf_acc, rf_roc))\n",
    "print(rf_preds.sum())"
   ]
  },
  {
   "cell_type": "code",
   "execution_count": null,
   "metadata": {},
   "outputs": [],
   "source": []
  },
  {
   "cell_type": "code",
   "execution_count": 388,
   "metadata": {},
   "outputs": [],
   "source": [
    "def fit_AdaBoost_opt(X, y):\n",
    "    '''\n",
    "    INPUT: \n",
    "    X : n (records) x m (features)\n",
    "    y : list of dimension n\n",
    "    OUTPUT:\n",
    "    accuracy, ROC score, y_predicted\n",
    "    '''\n",
    "    #First create training and testing data\n",
    "    X_train, X_test, y_train, y_test = train_test_split(X, y, test_size=0.2, random_state=42)\n",
    "\n",
    "    # define clsssifier\n",
    "    clf_ada = AdaBoostClassifier()\n",
    "    \n",
    "    # Set up the hyperparameter search\n",
    "    param_dist = {'n_estimators':[100, 200],'learning_rate':[0.05, 0.5]}\n",
    "\n",
    "    # Run a search over the hyperparameters\n",
    "    grid_search = GridSearchCV(clf_ada, param_grid=param_dist)\n",
    "    \n",
    "    # Fit the model on the training data\n",
    "    grid_search.fit(X_train, y_train)\n",
    "    \n",
    "    # Make predictions on the test data\n",
    "    ada_preds = grid_search.best_estimator_.predict(X_test)\n",
    "\n",
    "    #score\n",
    "    acc = accuracy_score(y_test, ada_preds)\n",
    "    roc = roc_auc_score(y_test, ada_preds)\n",
    "    \n",
    "    print(grid_search.best_estimator_)\n",
    "\n",
    "    return acc, roc, ada_preds"
   ]
  },
  {
   "cell_type": "code",
   "execution_count": 389,
   "metadata": {},
   "outputs": [
    {
     "name": "stdout",
     "output_type": "stream",
     "text": [
      "AdaBoostClassifier(algorithm='SAMME.R', base_estimator=None, learning_rate=0.5,\n",
      "                   n_estimators=200, random_state=None)\n",
      "accuracy: 0.8128541076487252 ROC: 0.7189350005139479\n",
      "2278\n"
     ]
    }
   ],
   "source": [
    "ada_acc, ada_roc, ada_preds = fit_AdaBoost_opt(X_pca_mailout_train_plus, y)\n",
    "print(\"accuracy: {} ROC: {}\".format(ada_acc, ada_roc))\n",
    "print(ada_preds.sum())"
   ]
  },
  {
   "cell_type": "markdown",
   "metadata": {},
   "source": [
    "NOTE:  We also tried SVC but the computation time was prohibitive with the hardware at our disposal."
   ]
  },
  {
   "cell_type": "code",
   "execution_count": 390,
   "metadata": {},
   "outputs": [],
   "source": [
    "def fit_SVC_opt(X, y):\n",
    "    '''\n",
    "    INPUT: \n",
    "    X : n (records) x m (features)\n",
    "    y : list of dimension n\n",
    "    OUTPUT:\n",
    "    accuracy, ROC score\n",
    "    '''\n",
    "    #First create training and testing data\n",
    "    X_train, X_test, y_train, y_test = train_test_split(X, y, test_size=0.2, random_state=42)\n",
    "\n",
    "    # define classifier\n",
    "    clf_svc = SVC()\n",
    "    \n",
    "    # Set up the hyperparameter search\n",
    "    param_dist = {'kernel':['rbf'],'degree':[1, 2]}\n",
    "\n",
    "    # Run a search over the hyperparameters\n",
    "    grid_search = GridSearchCV(clf_svc, param_grid=param_dist)\n",
    "    \n",
    "    # Fit the model on the training data\n",
    "    grid_search.fit(X_train, y_train)\n",
    "    \n",
    "    # Make predictions on the test data\n",
    "    svc_preds = grid_search.best_estimator_.predict(X_test)\n",
    "\n",
    "    #score\n",
    "    acc = accuracy_score(y_test, svc_preds)\n",
    "    roc = roc_auc_score(y_test, svc_preds)\n",
    "    \n",
    "    print(grid_search.best_estimator_)\n",
    "\n",
    "    return acc, roc"
   ]
  },
  {
   "cell_type": "code",
   "execution_count": 391,
   "metadata": {},
   "outputs": [],
   "source": [
    "#svc_acc, svc_roc = fit_SVC_opt(X_pca_mailout_train_plus, y)\n",
    "#print(svc_acc, svc_roc)"
   ]
  },
  {
   "cell_type": "code",
   "execution_count": 392,
   "metadata": {},
   "outputs": [],
   "source": [
    "def compare_rf_ada(X, y):\n",
    "    '''\n",
    "    INPUT: \n",
    "    X : n (records) x m (features)\n",
    "    y : list of dimension n\n",
    "    OUTPUT:\n",
    "    ROC score and predictions for AdaBoost and RandomForest Classifiers\n",
    "    '''\n",
    "    #First create training and testing data\n",
    "    X_train, X_test, y_train, y_test = train_test_split(X, y, test_size=0.2, random_state=42)\n",
    "\n",
    "    # fit random forest with best parameters\n",
    "    clf_rf = RandomForestClassifier(n_estimators=100)\n",
    "\n",
    "    # fit\n",
    "    clf_rf.fit(X_train, y_train)\n",
    "\n",
    "    #predict\n",
    "    preds_rf = clf_rf.predict(X_test)\n",
    "\n",
    "    #score\n",
    "    acc_rf = accuracy_score(y_test, preds_rf)\n",
    "    # skip if y non-binary\n",
    "    try:\n",
    "        roc_rf = roc_auc_score(y_test, preds_rf)\n",
    "    except:\n",
    "        roc_rf = -1\n",
    "    print(\"RandomForest Classifier:\")\n",
    "    print(\"Accuracy: {}; ROC: {}\".format(acc_rf, roc_rf))\n",
    "    \n",
    "     # fit AdaBoost with best parameters\n",
    "    clf_ada = AdaBoostClassifier(n_estimators=200, learning_rate=0.5)\n",
    "\n",
    "    #fit\n",
    "    clf_ada.fit(X_train, y_train)\n",
    "\n",
    "    #predict\n",
    "    preds_ada = clf_ada.predict(X_test)\n",
    "\n",
    "    #score. \n",
    "    acc_ada = accuracy_score(y_test, preds_ada)\n",
    "    # skip if y non-binary\n",
    "    try:\n",
    "        roc_ada = roc_auc_score(y_test, preds_ada)\n",
    "    except:\n",
    "        roc_ada = -1\n",
    "    print(\"AdaBoost Classifier:\")\n",
    "    print(\"Accuracy: {}; ROC: {}\".format(acc_ada, roc_ada))\n",
    "    \n",
    "    if roc_rf and roc_ada >= 0:\n",
    "        disp_ada = plot_roc_curve(clf_ada, X_test, y_test)\n",
    "        disp_rf = plot_roc_curve(clf_rf, X_test, y_test, ax=disp_ada.ax_)\n",
    "        disp_rf.figure_.suptitle(\"ROC curve comparison\")\n",
    "    \n",
    "    return clf_rf, clf_ada, preds_rf, preds_ada"
   ]
  },
  {
   "cell_type": "code",
   "execution_count": 393,
   "metadata": {},
   "outputs": [
    {
     "name": "stdout",
     "output_type": "stream",
     "text": [
      "RandomForest Classifier:\n",
      "Accuracy: 0.7870042492917847; ROC: 0.6482416350837403\n",
      "AdaBoost Classifier:\n",
      "Accuracy: 0.8128541076487252; ROC: 0.7189350005139479\n"
     ]
    },
    {
     "data": {
      "image/png": "[encoded data removed]",
      "text/plain": [
       "<Figure size 432x288 with 1 Axes>"
      ]
     },
     "metadata": {
      "needs_background": "light"
     },
     "output_type": "display_data"
    }
   ],
   "source": [
    "clf_rf, clf_ada, preds_rf, preds_ada = compare_rf_ada(X_pca_mailout_train_plus, y)"
   ]
  },
  {
   "cell_type": "code",
   "execution_count": null,
   "metadata": {},
   "outputs": [],
   "source": []
  },
  {
   "cell_type": "markdown",
   "metadata": {},
   "source": [
    "**Discussion**\n",
    "\n",
    "We trained the augmented `mailout_train` dataset with both RandomForest and AdaBoost classifiers using the PCA components as the feature set, and the \"best\" parameters from the previous optimization.  As seen from the ROC curve shown above RandomForest and AdaBoost gave virtually identical results."
   ]
  },
  {
   "cell_type": "markdown",
   "metadata": {},
   "source": [
    "**Strategy 2**\n",
    "\n",
    "The idea is to engineer a synthetic RESPONSE column (`RESPONSE2`) wherein the values depend on the cluster to which a record belongs.  In the previous cluster analysis, we noted that some clusters contain relatively more customers than the general population, and vice versa.  Thus, the contention here is that a positive response to the marketing campaign is more likely in clusters with a relatively larger amount of customers.\n",
    "\n",
    "Let dH be the difference (in relative terms) between customers and a reference population and m a positive integer.  The metric created to measure `RESPONSE2` is equal to 0.5 + mdH. If dH is > 0, the probability of a positive response is higher; if dH is < 0, the probability of a positive response is lower."
   ]
  },
  {
   "cell_type": "code",
   "execution_count": 394,
   "metadata": {},
   "outputs": [],
   "source": [
    "# calculate new y\n",
    "\n",
    "# reverse the dictionary\n",
    "reverse_dictionary = {v:k for k,v in dict_mail.items()}\n",
    "n_mail = mailout_train_go.shape[0]\n",
    "# initialize \n",
    "response2 = n_mail*[0]\n",
    "\n",
    "m = 2\n",
    "for i in range (0, n_mail):\n",
    "    cli = cluster_labels_mailout_train[i]\n",
    "    response2[i]= 0.5 + m*reverse_dictionary[cli]    "
   ]
  },
  {
   "cell_type": "code",
   "execution_count": 396,
   "metadata": {},
   "outputs": [
    {
     "name": "stdout",
     "output_type": "stream",
     "text": [
      "[0.48973904297328985, 0.5577868224922161, 0.5610124275446708, 0.5114750026421243, 0.48973904297328985, 0.48922738566642276, 0.5610124275446708, 0.4840777074034882, 0.6557272278045141, 0.6557272278045141, 0.6557272278045141, 0.4840777074034882, 0.5577868224922161, 0.5610124275446708, 0.4977302686282209, 0.4660806079072258, 0.6557272278045141, 0.5114750026421243, 0.6557272278045141, 0.4513126365226124]\n",
      "42962\n",
      "42962\n"
     ]
    }
   ],
   "source": [
    "# check\n",
    "print(response2[:20])\n",
    "print(len(cluster_labels_mailout_train))\n",
    "print(mailout_train_go.shape[0])"
   ]
  },
  {
   "cell_type": "code",
   "execution_count": null,
   "metadata": {},
   "outputs": [],
   "source": []
  },
  {
   "cell_type": "code",
   "execution_count": 397,
   "metadata": {},
   "outputs": [
    {
     "name": "stdout",
     "output_type": "stream",
     "text": [
      "(42962, 220)\n",
      "[489, 557, 561, 511, 489, 489, 561, 484, 655, 655]\n"
     ]
    }
   ],
   "source": [
    "print(X_pca_mailout_train.shape)\n",
    "\n",
    "# It appears that sklearn classifiers expect y as integers or strings.  Converting to integers.\n",
    "response2I = []\n",
    "for item in response2:\n",
    "    response2I.append(int(item*1000))\n",
    "# check\n",
    "print(response2I[:10])"
   ]
  },
  {
   "cell_type": "code",
   "execution_count": 398,
   "metadata": {},
   "outputs": [
    {
     "name": "stdout",
     "output_type": "stream",
     "text": [
      "RandomForest Classifier:\n",
      "Accuracy: 0.8217153497032468; ROC: -1\n",
      "AdaBoost Classifier:\n",
      "Accuracy: 0.4938903758873502; ROC: -1\n"
     ]
    }
   ],
   "source": [
    "mailout_train_go.loc[:, 'RESPONSE2'] = response2I\n",
    "#try training with this new y\n",
    "y = mailout_train_go['RESPONSE2']\n",
    "clf_rf2, clf_ada2, preds_rf2, preds_ada2 = compare_rf_ada(X_pca_mailout_train, y)"
   ]
  },
  {
   "cell_type": "code",
   "execution_count": 399,
   "metadata": {},
   "outputs": [
    {
     "name": "stdout",
     "output_type": "stream",
     "text": [
      "Predictions\n",
      "RandomForest: max 655; min 449; mean  525.75\n",
      "AdaBoost: max 655; min 449; mean 521.26 \n"
     ]
    }
   ],
   "source": [
    "print('Predictions')\n",
    "print(\"RandomForest: max {}; min {}; mean {: .2f}\".format(preds_rf2.max(), preds_rf2.min(), preds_rf2.mean()))\n",
    "print(\"AdaBoost: max {}; min {}; mean{: .2f} \".format(preds_ada2.max(), preds_ada2.min(), preds_ada2.mean()))\n",
    "      "
   ]
  },
  {
   "cell_type": "markdown",
   "metadata": {},
   "source": [
    "## Evaluation\n",
    "\n",
    "At this point we cannot tell if either of the two models proposed above is a good predictor of RESPONSE.  But according to the score obtained in the Kaggle competition, neither one is good. We can identify ways to improve the work done so far, but this probably won't impove significantly the Kaggle score.  There must be a better way to quantify the probability of RESPONSE --and we don't know what it is.\n",
    "\n",
    "As a possible improvement to the models above, we could try a more extensive search of the optimum parameters for AdaBoost and RandomForest.  We could also try using SVC as a classifier, but as mentioned earlier this is impractical when solving a problem of this size on a standard laptop.  \n",
    "\n",
    "A wild idea would be to forget supervised learning altogether and simply filter out \"manually\" the records in `mailout` most similar to the customers' profile.  Practically, this means focusing on a subset of the original 366 features, specifically those measuring financial characteristics, residential housing, car ownership--variables found important in PCA and the unsupervised learning analysis--and then picking the records that are above a threshold to be determined.  We did not test this approach because the assignment was to do supervised learning, but it might be worth a try.\n",
    "\n",
    "More problematic is the effectiveness of any mailout campaign.  Ironically, the better we became at fighting spam, the better we also became at filtering out any email solicitation.  Thus, a mailout campaign may not be the best way to expand the customer base, even for a mail-order business. Web advertising or even an old-fashioned printed brochure might bring better results."
   ]
  },
  {
   "cell_type": "code",
   "execution_count": null,
   "metadata": {},
   "outputs": [],
   "source": []
  },
  {
   "cell_type": "markdown",
   "metadata": {},
   "source": [
    "## Part 3: Kaggle Competition\n",
    "\n",
    "Now that you've created a model to predict which individuals are most likely to respond to a mailout campaign, it's time to test that model in competition through Kaggle. If you click on the link here, you'll be taken to the competition page where, if you have a Kaggle account, you can enter. If you're one of the top performers, you may have the chance to be contacted by a hiring manager from Arvato or Bertelsmann for an interview!\n",
    "Your entry to the competition should be a CSV file with two columns. The first column should be a copy of \"LNR\", which acts as an ID number for each individual in the \"TEST\" partition. The second column, \"RESPONSE\", should be some measure of how likely each individual became a customer – this might not be a straightforward probability. As you should have found in Part 2, there is a large output class imbalance, where most individuals did not respond to the mailout. Thus, predicting individual classes and using accuracy does not seem to be an appropriate performance evaluation method. Instead, the competition will be using AUC to evaluate performance. The exact values of the \"RESPONSE\" column do not matter as much: only that the higher values try to capture as many of the actual customers as possible, early in the ROC curve sweep."
   ]
  },
  {
   "cell_type": "code",
   "execution_count": 400,
   "metadata": {},
   "outputs": [
    {
     "data": {
      "text/html": [
       "<div>\n",
       "<style scoped>\n",
       "    .dataframe tbody tr th:only-of-type {\n",
       "        vertical-align: middle;\n",
       "    }\n",
       "\n",
       "    .dataframe tbody tr th {\n",
       "        vertical-align: top;\n",
       "    }\n",
       "\n",
       "    .dataframe thead th {\n",
       "        text-align: right;\n",
       "    }\n",
       "</style>\n",
       "<table border=\"1\" class=\"dataframe\">\n",
       "  <thead>\n",
       "    <tr style=\"text-align: right;\">\n",
       "      <th></th>\n",
       "      <th>AKT_DAT_KL</th>\n",
       "      <th>ALTER_HH</th>\n",
       "      <th>ANZ_HAUSHALTE_AKTIV</th>\n",
       "      <th>ANZ_HH_TITEL</th>\n",
       "      <th>ANZ_KINDER</th>\n",
       "      <th>ANZ_PERSONEN</th>\n",
       "      <th>ANZ_TITEL</th>\n",
       "      <th>ARBEIT</th>\n",
       "      <th>BALLRAUM</th>\n",
       "      <th>CJT_KATALOGNUTZER</th>\n",
       "      <th>...</th>\n",
       "      <th>ZABEOTYP_1</th>\n",
       "      <th>ZABEOTYP_2</th>\n",
       "      <th>ZABEOTYP_3</th>\n",
       "      <th>ZABEOTYP_4</th>\n",
       "      <th>ZABEOTYP_5</th>\n",
       "      <th>ZABEOTYP_6</th>\n",
       "      <th>CAMEO_wealth</th>\n",
       "      <th>CAMEO_life</th>\n",
       "      <th>PR_J_mvt</th>\n",
       "      <th>PR_J_gen</th>\n",
       "    </tr>\n",
       "  </thead>\n",
       "  <tbody>\n",
       "    <tr>\n",
       "      <th>0</th>\n",
       "      <td>1.0</td>\n",
       "      <td>7.0</td>\n",
       "      <td>2.0</td>\n",
       "      <td>0.0</td>\n",
       "      <td>0.0</td>\n",
       "      <td>2.0</td>\n",
       "      <td>0.0</td>\n",
       "      <td>3.0</td>\n",
       "      <td>6.0</td>\n",
       "      <td>5.0</td>\n",
       "      <td>...</td>\n",
       "      <td>0</td>\n",
       "      <td>0</td>\n",
       "      <td>1</td>\n",
       "      <td>0</td>\n",
       "      <td>0</td>\n",
       "      <td>0</td>\n",
       "      <td>5.0</td>\n",
       "      <td>3.0</td>\n",
       "      <td>1</td>\n",
       "      <td>1</td>\n",
       "    </tr>\n",
       "    <tr>\n",
       "      <th>1</th>\n",
       "      <td>1.0</td>\n",
       "      <td>0.0</td>\n",
       "      <td>20.0</td>\n",
       "      <td>0.0</td>\n",
       "      <td>0.0</td>\n",
       "      <td>1.0</td>\n",
       "      <td>0.0</td>\n",
       "      <td>4.0</td>\n",
       "      <td>7.0</td>\n",
       "      <td>5.0</td>\n",
       "      <td>...</td>\n",
       "      <td>0</td>\n",
       "      <td>0</td>\n",
       "      <td>1</td>\n",
       "      <td>0</td>\n",
       "      <td>0</td>\n",
       "      <td>0</td>\n",
       "      <td>3.0</td>\n",
       "      <td>1.0</td>\n",
       "      <td>0</td>\n",
       "      <td>3</td>\n",
       "    </tr>\n",
       "    <tr>\n",
       "      <th>2</th>\n",
       "      <td>9.0</td>\n",
       "      <td>16.0</td>\n",
       "      <td>2.0</td>\n",
       "      <td>0.0</td>\n",
       "      <td>0.0</td>\n",
       "      <td>4.0</td>\n",
       "      <td>0.0</td>\n",
       "      <td>4.0</td>\n",
       "      <td>1.0</td>\n",
       "      <td>5.0</td>\n",
       "      <td>...</td>\n",
       "      <td>0</td>\n",
       "      <td>0</td>\n",
       "      <td>1</td>\n",
       "      <td>0</td>\n",
       "      <td>0</td>\n",
       "      <td>0</td>\n",
       "      <td>2.0</td>\n",
       "      <td>1.0</td>\n",
       "      <td>1</td>\n",
       "      <td>3</td>\n",
       "    </tr>\n",
       "    <tr>\n",
       "      <th>3</th>\n",
       "      <td>7.0</td>\n",
       "      <td>0.0</td>\n",
       "      <td>1.0</td>\n",
       "      <td>0.0</td>\n",
       "      <td>0.0</td>\n",
       "      <td>0.0</td>\n",
       "      <td>0.0</td>\n",
       "      <td>4.0</td>\n",
       "      <td>1.0</td>\n",
       "      <td>5.0</td>\n",
       "      <td>...</td>\n",
       "      <td>0</td>\n",
       "      <td>0</td>\n",
       "      <td>1</td>\n",
       "      <td>0</td>\n",
       "      <td>0</td>\n",
       "      <td>0</td>\n",
       "      <td>5.0</td>\n",
       "      <td>3.0</td>\n",
       "      <td>0</td>\n",
       "      <td>3</td>\n",
       "    </tr>\n",
       "    <tr>\n",
       "      <th>4</th>\n",
       "      <td>1.0</td>\n",
       "      <td>21.0</td>\n",
       "      <td>1.0</td>\n",
       "      <td>0.0</td>\n",
       "      <td>0.0</td>\n",
       "      <td>4.0</td>\n",
       "      <td>0.0</td>\n",
       "      <td>3.0</td>\n",
       "      <td>6.0</td>\n",
       "      <td>1.0</td>\n",
       "      <td>...</td>\n",
       "      <td>0</td>\n",
       "      <td>0</td>\n",
       "      <td>0</td>\n",
       "      <td>1</td>\n",
       "      <td>0</td>\n",
       "      <td>0</td>\n",
       "      <td>3.0</td>\n",
       "      <td>1.0</td>\n",
       "      <td>0</td>\n",
       "      <td>4</td>\n",
       "    </tr>\n",
       "  </tbody>\n",
       "</table>\n",
       "<p>5 rows × 489 columns</p>\n",
       "</div>"
      ],
      "text/plain": [
       "   AKT_DAT_KL  ALTER_HH  ANZ_HAUSHALTE_AKTIV  ANZ_HH_TITEL  ANZ_KINDER  \\\n",
       "0         1.0       7.0                  2.0           0.0         0.0   \n",
       "1         1.0       0.0                 20.0           0.0         0.0   \n",
       "2         9.0      16.0                  2.0           0.0         0.0   \n",
       "3         7.0       0.0                  1.0           0.0         0.0   \n",
       "4         1.0      21.0                  1.0           0.0         0.0   \n",
       "\n",
       "   ANZ_PERSONEN  ANZ_TITEL  ARBEIT  BALLRAUM  CJT_KATALOGNUTZER  ...  \\\n",
       "0           2.0        0.0     3.0       6.0                5.0  ...   \n",
       "1           1.0        0.0     4.0       7.0                5.0  ...   \n",
       "2           4.0        0.0     4.0       1.0                5.0  ...   \n",
       "3           0.0        0.0     4.0       1.0                5.0  ...   \n",
       "4           4.0        0.0     3.0       6.0                1.0  ...   \n",
       "\n",
       "   ZABEOTYP_1  ZABEOTYP_2  ZABEOTYP_3  ZABEOTYP_4  ZABEOTYP_5  ZABEOTYP_6  \\\n",
       "0           0           0           1           0           0           0   \n",
       "1           0           0           1           0           0           0   \n",
       "2           0           0           1           0           0           0   \n",
       "3           0           0           1           0           0           0   \n",
       "4           0           0           0           1           0           0   \n",
       "\n",
       "   CAMEO_wealth  CAMEO_life  PR_J_mvt  PR_J_gen  \n",
       "0           5.0         3.0         1         1  \n",
       "1           3.0         1.0         0         3  \n",
       "2           2.0         1.0         1         3  \n",
       "3           5.0         3.0         0         3  \n",
       "4           3.0         1.0         0         4  \n",
       "\n",
       "[5 rows x 489 columns]"
      ]
     },
     "execution_count": 400,
     "metadata": {},
     "output_type": "execute_result"
    }
   ],
   "source": [
    "#mailout_test = pd.read_csv('../../data/Term2/capstone/arvato_data/Udacity_MAILOUT_052018_TEST.csv', sep=';')\n",
    "# read the cleaned dataset\n",
    "mailout_test_go = pd.read_csv('mailout_test_go.csv', low_memory=False)\n",
    "mailout_test_go.drop(['Unnamed: 0'], axis=1, inplace=True)\n",
    "mailout_test_go.head()"
   ]
  },
  {
   "cell_type": "code",
   "execution_count": 401,
   "metadata": {},
   "outputs": [
    {
     "name": "stdout",
     "output_type": "stream",
     "text": [
      "(42833, 489)\n"
     ]
    }
   ],
   "source": [
    "print(mailout_test_go.shape)"
   ]
  },
  {
   "cell_type": "code",
   "execution_count": 402,
   "metadata": {},
   "outputs": [
    {
     "data": {
      "text/html": [
       "<div>\n",
       "<style scoped>\n",
       "    .dataframe tbody tr th:only-of-type {\n",
       "        vertical-align: middle;\n",
       "    }\n",
       "\n",
       "    .dataframe tbody tr th {\n",
       "        vertical-align: top;\n",
       "    }\n",
       "\n",
       "    .dataframe thead th {\n",
       "        text-align: right;\n",
       "    }\n",
       "</style>\n",
       "<table border=\"1\" class=\"dataframe\">\n",
       "  <thead>\n",
       "    <tr style=\"text-align: right;\">\n",
       "      <th></th>\n",
       "      <th>AKT_DAT_KL</th>\n",
       "      <th>ALTER_HH</th>\n",
       "      <th>ANZ_HAUSHALTE_AKTIV</th>\n",
       "      <th>ANZ_HH_TITEL</th>\n",
       "      <th>ANZ_KINDER</th>\n",
       "      <th>ANZ_PERSONEN</th>\n",
       "      <th>ANZ_TITEL</th>\n",
       "      <th>ARBEIT</th>\n",
       "      <th>BALLRAUM</th>\n",
       "      <th>CJT_KATALOGNUTZER</th>\n",
       "      <th>...</th>\n",
       "      <th>ZABEOTYP_1</th>\n",
       "      <th>ZABEOTYP_2</th>\n",
       "      <th>ZABEOTYP_3</th>\n",
       "      <th>ZABEOTYP_4</th>\n",
       "      <th>ZABEOTYP_5</th>\n",
       "      <th>ZABEOTYP_6</th>\n",
       "      <th>CAMEO_wealth</th>\n",
       "      <th>CAMEO_life</th>\n",
       "      <th>PR_J_mvt</th>\n",
       "      <th>PR_J_gen</th>\n",
       "    </tr>\n",
       "  </thead>\n",
       "  <tbody>\n",
       "    <tr>\n",
       "      <th>count</th>\n",
       "      <td>35944.000000</td>\n",
       "      <td>35944.000000</td>\n",
       "      <td>35206.000000</td>\n",
       "      <td>34687.000000</td>\n",
       "      <td>35944.000000</td>\n",
       "      <td>35944.000000</td>\n",
       "      <td>35944.000000</td>\n",
       "      <td>35050.000000</td>\n",
       "      <td>35192.000000</td>\n",
       "      <td>42255.000000</td>\n",
       "      <td>...</td>\n",
       "      <td>42833.000000</td>\n",
       "      <td>42833.000000</td>\n",
       "      <td>42833.000000</td>\n",
       "      <td>42833.000000</td>\n",
       "      <td>42833.000000</td>\n",
       "      <td>42833.000000</td>\n",
       "      <td>35086.000000</td>\n",
       "      <td>35086.000000</td>\n",
       "      <td>42833.000000</td>\n",
       "      <td>42833.000000</td>\n",
       "    </tr>\n",
       "    <tr>\n",
       "      <th>mean</th>\n",
       "      <td>1.518890</td>\n",
       "      <td>10.239511</td>\n",
       "      <td>6.749986</td>\n",
       "      <td>0.045666</td>\n",
       "      <td>0.090752</td>\n",
       "      <td>2.023481</td>\n",
       "      <td>0.010934</td>\n",
       "      <td>3.039658</td>\n",
       "      <td>4.286827</td>\n",
       "      <td>3.884085</td>\n",
       "      <td>...</td>\n",
       "      <td>0.196321</td>\n",
       "      <td>0.035463</td>\n",
       "      <td>0.624589</td>\n",
       "      <td>0.098032</td>\n",
       "      <td>0.006677</td>\n",
       "      <td>0.038919</td>\n",
       "      <td>22.766574</td>\n",
       "      <td>22.847546</td>\n",
       "      <td>0.280835</td>\n",
       "      <td>2.430743</td>\n",
       "    </tr>\n",
       "    <tr>\n",
       "      <th>std</th>\n",
       "      <td>1.737441</td>\n",
       "      <td>6.109680</td>\n",
       "      <td>14.839779</td>\n",
       "      <td>0.339404</td>\n",
       "      <td>0.400107</td>\n",
       "      <td>1.358137</td>\n",
       "      <td>0.112969</td>\n",
       "      <td>1.044242</td>\n",
       "      <td>2.185527</td>\n",
       "      <td>1.451494</td>\n",
       "      <td>...</td>\n",
       "      <td>0.397218</td>\n",
       "      <td>0.184950</td>\n",
       "      <td>0.484235</td>\n",
       "      <td>0.297361</td>\n",
       "      <td>0.081441</td>\n",
       "      <td>0.193403</td>\n",
       "      <td>18.184833</td>\n",
       "      <td>18.096136</td>\n",
       "      <td>0.449412</td>\n",
       "      <td>1.843263</td>\n",
       "    </tr>\n",
       "    <tr>\n",
       "      <th>min</th>\n",
       "      <td>1.000000</td>\n",
       "      <td>0.000000</td>\n",
       "      <td>0.000000</td>\n",
       "      <td>0.000000</td>\n",
       "      <td>0.000000</td>\n",
       "      <td>0.000000</td>\n",
       "      <td>0.000000</td>\n",
       "      <td>1.000000</td>\n",
       "      <td>1.000000</td>\n",
       "      <td>1.000000</td>\n",
       "      <td>...</td>\n",
       "      <td>0.000000</td>\n",
       "      <td>0.000000</td>\n",
       "      <td>0.000000</td>\n",
       "      <td>0.000000</td>\n",
       "      <td>0.000000</td>\n",
       "      <td>0.000000</td>\n",
       "      <td>1.000000</td>\n",
       "      <td>1.000000</td>\n",
       "      <td>0.000000</td>\n",
       "      <td>0.000000</td>\n",
       "    </tr>\n",
       "    <tr>\n",
       "      <th>25%</th>\n",
       "      <td>1.000000</td>\n",
       "      <td>8.000000</td>\n",
       "      <td>1.000000</td>\n",
       "      <td>0.000000</td>\n",
       "      <td>0.000000</td>\n",
       "      <td>1.000000</td>\n",
       "      <td>0.000000</td>\n",
       "      <td>2.000000</td>\n",
       "      <td>2.000000</td>\n",
       "      <td>3.000000</td>\n",
       "      <td>...</td>\n",
       "      <td>0.000000</td>\n",
       "      <td>0.000000</td>\n",
       "      <td>0.000000</td>\n",
       "      <td>0.000000</td>\n",
       "      <td>0.000000</td>\n",
       "      <td>0.000000</td>\n",
       "      <td>4.000000</td>\n",
       "      <td>4.000000</td>\n",
       "      <td>0.000000</td>\n",
       "      <td>1.000000</td>\n",
       "    </tr>\n",
       "    <tr>\n",
       "      <th>50%</th>\n",
       "      <td>1.000000</td>\n",
       "      <td>10.000000</td>\n",
       "      <td>2.000000</td>\n",
       "      <td>0.000000</td>\n",
       "      <td>0.000000</td>\n",
       "      <td>2.000000</td>\n",
       "      <td>0.000000</td>\n",
       "      <td>3.000000</td>\n",
       "      <td>5.000000</td>\n",
       "      <td>5.000000</td>\n",
       "      <td>...</td>\n",
       "      <td>0.000000</td>\n",
       "      <td>0.000000</td>\n",
       "      <td>1.000000</td>\n",
       "      <td>0.000000</td>\n",
       "      <td>0.000000</td>\n",
       "      <td>0.000000</td>\n",
       "      <td>22.000000</td>\n",
       "      <td>22.000000</td>\n",
       "      <td>0.000000</td>\n",
       "      <td>2.000000</td>\n",
       "    </tr>\n",
       "    <tr>\n",
       "      <th>75%</th>\n",
       "      <td>1.000000</td>\n",
       "      <td>15.000000</td>\n",
       "      <td>7.000000</td>\n",
       "      <td>0.000000</td>\n",
       "      <td>0.000000</td>\n",
       "      <td>3.000000</td>\n",
       "      <td>0.000000</td>\n",
       "      <td>4.000000</td>\n",
       "      <td>6.000000</td>\n",
       "      <td>5.000000</td>\n",
       "      <td>...</td>\n",
       "      <td>0.000000</td>\n",
       "      <td>0.000000</td>\n",
       "      <td>1.000000</td>\n",
       "      <td>0.000000</td>\n",
       "      <td>0.000000</td>\n",
       "      <td>0.000000</td>\n",
       "      <td>41.000000</td>\n",
       "      <td>41.000000</td>\n",
       "      <td>1.000000</td>\n",
       "      <td>3.000000</td>\n",
       "    </tr>\n",
       "    <tr>\n",
       "      <th>max</th>\n",
       "      <td>9.000000</td>\n",
       "      <td>21.000000</td>\n",
       "      <td>379.000000</td>\n",
       "      <td>20.000000</td>\n",
       "      <td>7.000000</td>\n",
       "      <td>14.000000</td>\n",
       "      <td>3.000000</td>\n",
       "      <td>9.000000</td>\n",
       "      <td>7.000000</td>\n",
       "      <td>5.000000</td>\n",
       "      <td>...</td>\n",
       "      <td>1.000000</td>\n",
       "      <td>1.000000</td>\n",
       "      <td>1.000000</td>\n",
       "      <td>1.000000</td>\n",
       "      <td>1.000000</td>\n",
       "      <td>1.000000</td>\n",
       "      <td>55.000000</td>\n",
       "      <td>55.000000</td>\n",
       "      <td>1.000000</td>\n",
       "      <td>7.000000</td>\n",
       "    </tr>\n",
       "  </tbody>\n",
       "</table>\n",
       "<p>8 rows × 489 columns</p>\n",
       "</div>"
      ],
      "text/plain": [
       "         AKT_DAT_KL      ALTER_HH  ANZ_HAUSHALTE_AKTIV  ANZ_HH_TITEL  \\\n",
       "count  35944.000000  35944.000000         35206.000000  34687.000000   \n",
       "mean       1.518890     10.239511             6.749986      0.045666   \n",
       "std        1.737441      6.109680            14.839779      0.339404   \n",
       "min        1.000000      0.000000             0.000000      0.000000   \n",
       "25%        1.000000      8.000000             1.000000      0.000000   \n",
       "50%        1.000000     10.000000             2.000000      0.000000   \n",
       "75%        1.000000     15.000000             7.000000      0.000000   \n",
       "max        9.000000     21.000000           379.000000     20.000000   \n",
       "\n",
       "         ANZ_KINDER  ANZ_PERSONEN     ANZ_TITEL        ARBEIT      BALLRAUM  \\\n",
       "count  35944.000000  35944.000000  35944.000000  35050.000000  35192.000000   \n",
       "mean       0.090752      2.023481      0.010934      3.039658      4.286827   \n",
       "std        0.400107      1.358137      0.112969      1.044242      2.185527   \n",
       "min        0.000000      0.000000      0.000000      1.000000      1.000000   \n",
       "25%        0.000000      1.000000      0.000000      2.000000      2.000000   \n",
       "50%        0.000000      2.000000      0.000000      3.000000      5.000000   \n",
       "75%        0.000000      3.000000      0.000000      4.000000      6.000000   \n",
       "max        7.000000     14.000000      3.000000      9.000000      7.000000   \n",
       "\n",
       "       CJT_KATALOGNUTZER  ...    ZABEOTYP_1    ZABEOTYP_2    ZABEOTYP_3  \\\n",
       "count       42255.000000  ...  42833.000000  42833.000000  42833.000000   \n",
       "mean            3.884085  ...      0.196321      0.035463      0.624589   \n",
       "std             1.451494  ...      0.397218      0.184950      0.484235   \n",
       "min             1.000000  ...      0.000000      0.000000      0.000000   \n",
       "25%             3.000000  ...      0.000000      0.000000      0.000000   \n",
       "50%             5.000000  ...      0.000000      0.000000      1.000000   \n",
       "75%             5.000000  ...      0.000000      0.000000      1.000000   \n",
       "max             5.000000  ...      1.000000      1.000000      1.000000   \n",
       "\n",
       "         ZABEOTYP_4    ZABEOTYP_5    ZABEOTYP_6  CAMEO_wealth    CAMEO_life  \\\n",
       "count  42833.000000  42833.000000  42833.000000  35086.000000  35086.000000   \n",
       "mean       0.098032      0.006677      0.038919     22.766574     22.847546   \n",
       "std        0.297361      0.081441      0.193403     18.184833     18.096136   \n",
       "min        0.000000      0.000000      0.000000      1.000000      1.000000   \n",
       "25%        0.000000      0.000000      0.000000      4.000000      4.000000   \n",
       "50%        0.000000      0.000000      0.000000     22.000000     22.000000   \n",
       "75%        0.000000      0.000000      0.000000     41.000000     41.000000   \n",
       "max        1.000000      1.000000      1.000000     55.000000     55.000000   \n",
       "\n",
       "           PR_J_mvt      PR_J_gen  \n",
       "count  42833.000000  42833.000000  \n",
       "mean       0.280835      2.430743  \n",
       "std        0.449412      1.843263  \n",
       "min        0.000000      0.000000  \n",
       "25%        0.000000      1.000000  \n",
       "50%        0.000000      2.000000  \n",
       "75%        1.000000      3.000000  \n",
       "max        1.000000      7.000000  \n",
       "\n",
       "[8 rows x 489 columns]"
      ]
     },
     "execution_count": 402,
     "metadata": {},
     "output_type": "execute_result"
    }
   ],
   "source": [
    "mailout_test_go.describe()"
   ]
  },
  {
   "cell_type": "markdown",
   "metadata": {},
   "source": [
    "We use the same dimensionality reduction with this dataset"
   ]
  },
  {
   "cell_type": "code",
   "execution_count": 403,
   "metadata": {},
   "outputs": [],
   "source": [
    "# transform new set with PCA\n",
    "mailout_test_imp = imp.fit_transform(mailout_test_go)\n",
    "\n",
    "#apply feature scaling\n",
    "mailout_test_scaled = scaler.fit_transform(mailout_test_imp)\n",
    "\n",
    "# apply PCA to mailout data:\n",
    "X_pca_mailout_test = pca.transform(mailout_test_scaled)"
   ]
  },
  {
   "cell_type": "markdown",
   "metadata": {},
   "source": [
    "**Strategy 1** \n",
    "\n",
    "We use AdaBoost to predict the RESPONSE for this dataset"
   ]
  },
  {
   "cell_type": "code",
   "execution_count": 404,
   "metadata": {},
   "outputs": [],
   "source": [
    "preds_kag = clf_ada.predict(X_pca_mailout_test)"
   ]
  },
  {
   "cell_type": "code",
   "execution_count": 405,
   "metadata": {},
   "outputs": [
    {
     "data": {
      "text/plain": [
       "42833"
      ]
     },
     "execution_count": 405,
     "metadata": {},
     "output_type": "execute_result"
    }
   ],
   "source": [
    "len(preds_kag)"
   ]
  },
  {
   "cell_type": "code",
   "execution_count": 406,
   "metadata": {},
   "outputs": [
    {
     "data": {
      "text/plain": [
       "2294"
      ]
     },
     "execution_count": 406,
     "metadata": {},
     "output_type": "execute_result"
    }
   ],
   "source": [
    "preds_kag.sum()"
   ]
  },
  {
   "cell_type": "code",
   "execution_count": 407,
   "metadata": {},
   "outputs": [
    {
     "data": {
      "text/html": [
       "<div>\n",
       "<style scoped>\n",
       "    .dataframe tbody tr th:only-of-type {\n",
       "        vertical-align: middle;\n",
       "    }\n",
       "\n",
       "    .dataframe tbody tr th {\n",
       "        vertical-align: top;\n",
       "    }\n",
       "\n",
       "    .dataframe thead th {\n",
       "        text-align: right;\n",
       "    }\n",
       "</style>\n",
       "<table border=\"1\" class=\"dataframe\">\n",
       "  <thead>\n",
       "    <tr style=\"text-align: right;\">\n",
       "      <th></th>\n",
       "      <th>LNR</th>\n",
       "    </tr>\n",
       "  </thead>\n",
       "  <tbody>\n",
       "    <tr>\n",
       "      <th>0</th>\n",
       "      <td>1754</td>\n",
       "    </tr>\n",
       "    <tr>\n",
       "      <th>1</th>\n",
       "      <td>1770</td>\n",
       "    </tr>\n",
       "    <tr>\n",
       "      <th>2</th>\n",
       "      <td>1465</td>\n",
       "    </tr>\n",
       "    <tr>\n",
       "      <th>3</th>\n",
       "      <td>1470</td>\n",
       "    </tr>\n",
       "    <tr>\n",
       "      <th>4</th>\n",
       "      <td>1478</td>\n",
       "    </tr>\n",
       "  </tbody>\n",
       "</table>\n",
       "</div>"
      ],
      "text/plain": [
       "    LNR\n",
       "0  1754\n",
       "1  1770\n",
       "2  1465\n",
       "3  1470\n",
       "4  1478"
      ]
     },
     "execution_count": 407,
     "metadata": {},
     "output_type": "execute_result"
    }
   ],
   "source": [
    "ids = pd.read_csv('mailout_test_ids.csv')\n",
    "ids.drop(['Unnamed: 0'], axis=1, inplace=True)\n",
    "ids.head()"
   ]
  },
  {
   "cell_type": "code",
   "execution_count": 408,
   "metadata": {},
   "outputs": [],
   "source": [
    "ids.loc[:,'RESPONSE'] = preds_kag\n",
    "ids.to_csv('df_response.csv')"
   ]
  },
  {
   "cell_type": "markdown",
   "metadata": {},
   "source": [
    "**Strategy 2** \n",
    "\n",
    "For the second set of predictions, we will use the RandomForest clssifier\n"
   ]
  },
  {
   "cell_type": "code",
   "execution_count": 409,
   "metadata": {},
   "outputs": [],
   "source": [
    "preds_kag2I = clf_rf2.predict(X_pca_mailout_test)"
   ]
  },
  {
   "cell_type": "code",
   "execution_count": 410,
   "metadata": {},
   "outputs": [],
   "source": [
    "#Revert to the float values\n",
    "preds_kag2 = []\n",
    "for item in preds_kag2I:\n",
    "    preds_kag2.append(item/1000)"
   ]
  },
  {
   "cell_type": "code",
   "execution_count": 411,
   "metadata": {},
   "outputs": [],
   "source": [
    "ids.loc[:,'RESPONSE2'] = preds_kag2\n",
    "ids.to_csv('df_response2.csv')"
   ]
  },
  {
   "cell_type": "markdown",
   "metadata": {},
   "source": [
    "The score for Strategy 1 = 0.49845 and for Strategy 2 = 0.51389.  \n",
    "\n",
    "Small parameter changes to these strategies could not improve these disappointing results."
   ]
  },
  {
   "cell_type": "code",
   "execution_count": null,
   "metadata": {},
   "outputs": [],
   "source": []
  },
  {
   "cell_type": "code",
   "execution_count": null,
   "metadata": {},
   "outputs": [],
   "source": []
  },
  {
   "cell_type": "code",
   "execution_count": null,
   "metadata": {},
   "outputs": [],
   "source": []
  }
 ],
 "metadata": {
  "kernelspec": {
   "display_name": "Python 3",
   "language": "python",
   "name": "python3"
  },
  "language_info": {
   "codemirror_mode": {
    "name": "ipython",
    "version": 3
   },
   "file_extension": ".py",
   "mimetype": "text/x-python",
   "name": "python",
   "nbconvert_exporter": "python",
   "pygments_lexer": "ipython3",
   "version": "3.7.6"
  }
 },
 "nbformat": 4,
 "nbformat_minor": 4
}
