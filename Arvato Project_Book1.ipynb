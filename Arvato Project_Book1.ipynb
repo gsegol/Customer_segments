{
 "cells": [
  {
   "cell_type": "markdown",
   "metadata": {},
   "source": [
    "## Capstone Project: Create a Customer Segmentation Report for Arvato Financial Services - Book1\n",
    "\n",
    "In this project, you will analyze demographics data for customers of a mail-order sales company in Germany, comparing it against demographics information for the general population. You'll use unsupervised learning techniques to perform customer segmentation, identifying the parts of the population that best describe the core customer base of the company. Then, you'll apply what you've learned on a third dataset with demographics information for targets of a marketing campaign for the company, and use a model to predict which individuals are most likely to convert into becoming customers for the company. The data that you will use has been provided by our partners at Bertelsmann Arvato Analytics, and represents a real-life data science task.\n",
    "\n",
    "If you completed the first term of this program, you will be familiar with the first part of this project, from the unsupervised learning project. The versions of those two datasets used in this project will include many more features and has not been pre-cleaned. You are also free to choose whatever approach you'd like to analyzing the data rather than follow pre-determined steps. In your work on this project, make sure that you carefully document your steps and decisions, since your main deliverable for this project will be a blog post reporting your findings."
   ]
  },
  {
   "cell_type": "code",
   "execution_count": 74,
   "metadata": {},
   "outputs": [],
   "source": [
    "# import libraries here; add more as necessary\n",
    "import numpy as np\n",
    "import pandas as pd\n",
    "import matplotlib.pyplot as plt\n",
    "import seaborn as sns\n",
    "\n",
    "# magic word for producing visualizations in notebook\n",
    "%matplotlib inline"
   ]
  },
  {
   "cell_type": "markdown",
   "metadata": {},
   "source": [
    "## Part 0: Get to Know the Data\n",
    "\n",
    "There are four data files associated with this project:\n",
    "\n",
    "- `Udacity_AZDIAS_052018.csv`: Demographics data for the general population of Germany; 891 211 persons (rows) x 366 features (columns).\n",
    "- `Udacity_CUSTOMERS_052018.csv`: Demographics data for customers of a mail-order company; 191 652 persons (rows) x 369 features (columns).\n",
    "- `Udacity_MAILOUT_052018_TRAIN.csv`: Demographics data for individuals who were targets of a marketing campaign; 42 982 persons (rows) x 367 (columns).\n",
    "- `Udacity_MAILOUT_052018_TEST.csv`: Demographics data for individuals who were targets of a marketing campaign; 42 833 persons (rows) x 366 (columns).\n",
    "\n",
    "Each row of the demographics files represents a single person, but also includes information outside of individuals, including information about their household, building, and neighborhood. Use the information from the first two files to figure out how customers (\"CUSTOMERS\") are similar to or differ from the general population at large (\"AZDIAS\"), then use your analysis to make predictions on the other two files (\"MAILOUT\"), predicting which recipients are most likely to become a customer for the mail-order company.\n",
    "\n",
    "The \"CUSTOMERS\" file contains three extra columns ('CUSTOMER_GROUP', 'ONLINE_PURCHASE', and 'PRODUCT_GROUP'), which provide broad information about the customers depicted in the file. The original \"MAILOUT\" file included one additional column, \"RESPONSE\", which indicated whether or not each recipient became a customer of the company. For the \"TRAIN\" subset, this column has been retained, but in the \"TEST\" subset it has been removed; it is against that withheld column that your final predictions will be assessed in the Kaggle competition.\n",
    "\n",
    "Otherwise, all of the remaining columns are the same between the three data files. For more information about the columns depicted in the files, you can refer to two Excel spreadsheets provided in the workspace. [One of them](./DIAS Information Levels - Attributes 2017.xlsx) is a top-level list of attributes and descriptions, organized by informational category. [The other](./DIAS Attributes - Values 2017.xlsx) is a detailed mapping of data values for each feature in alphabetical order.\n",
    "\n",
    "In the below cell, we've provided some initial code to load in the first two datasets. Note for all of the `.csv` data files in this project that they're semicolon (`;`) delimited, so an additional argument in the [`read_csv()`](https://pandas.pydata.org/pandas-docs/stable/generated/pandas.read_csv.html) call has been included to read in the data properly. Also, considering the size of the datasets, it may take some time for them to load completely.\n",
    "\n",
    "You'll notice when the data is loaded in that a warning message will immediately pop up. Before you really start digging into the modeling and analysis, you're going to need to perform some cleaning. Take some time to browse the structure of the data and look over the informational spreadsheets to understand the data values. Make some decisions on which features to keep, which features to drop, and if any revisions need to be made on data formats. It'll be a good idea to create a function with pre-processing steps, since you'll need to clean all of the datasets before you work with them."
   ]
  },
  {
   "cell_type": "markdown",
   "metadata": {},
   "source": [
    "**Note:**\n",
    "\n",
    "I worked on my computer because the classroom environment was too slow.\n",
    "Because of the size of the azdias dataset, I downloaded it in two halves, which I concatenated.  I verified that the size of the resulting dataset is correct.\n",
    "\n",
    "I confirm that the data will be deleted after this project is accepted."
   ]
  },
  {
   "cell_type": "code",
   "execution_count": 75,
   "metadata": {},
   "outputs": [],
   "source": [
    "# load in the data\n",
    "#azdias = pd.read_csv('../../data/Term2/capstone/arvato_data/Udacity_AZDIAS_052018.csv', sep=';')\n",
    "#customers = pd.read_csv('../../data/Term2/capstone/arvato_data/Udacity_CUSTOMERS_052018.csv', sep=';')\n",
    "customers = pd.read_csv('project_customers.csv', low_memory=False)"
   ]
  },
  {
   "cell_type": "code",
   "execution_count": 76,
   "metadata": {},
   "outputs": [
    {
     "data": {
      "text/html": [
       "<div>\n",
       "<style scoped>\n",
       "    .dataframe tbody tr th:only-of-type {\n",
       "        vertical-align: middle;\n",
       "    }\n",
       "\n",
       "    .dataframe tbody tr th {\n",
       "        vertical-align: top;\n",
       "    }\n",
       "\n",
       "    .dataframe thead th {\n",
       "        text-align: right;\n",
       "    }\n",
       "</style>\n",
       "<table border=\"1\" class=\"dataframe\">\n",
       "  <thead>\n",
       "    <tr style=\"text-align: right;\">\n",
       "      <th></th>\n",
       "      <th>LNR</th>\n",
       "      <th>AGER_TYP</th>\n",
       "      <th>AKT_DAT_KL</th>\n",
       "      <th>ALTER_HH</th>\n",
       "      <th>ALTER_KIND1</th>\n",
       "      <th>ALTER_KIND2</th>\n",
       "      <th>ALTER_KIND3</th>\n",
       "      <th>ALTER_KIND4</th>\n",
       "      <th>ALTERSKATEGORIE_FEIN</th>\n",
       "      <th>ANZ_HAUSHALTE_AKTIV</th>\n",
       "      <th>...</th>\n",
       "      <th>VK_ZG11</th>\n",
       "      <th>W_KEIT_KIND_HH</th>\n",
       "      <th>WOHNDAUER_2008</th>\n",
       "      <th>WOHNLAGE</th>\n",
       "      <th>ZABEOTYP</th>\n",
       "      <th>PRODUCT_GROUP</th>\n",
       "      <th>CUSTOMER_GROUP</th>\n",
       "      <th>ONLINE_PURCHASE</th>\n",
       "      <th>ANREDE_KZ</th>\n",
       "      <th>ALTERSKATEGORIE_GROB</th>\n",
       "    </tr>\n",
       "  </thead>\n",
       "  <tbody>\n",
       "    <tr>\n",
       "      <th>0</th>\n",
       "      <td>9626</td>\n",
       "      <td>2</td>\n",
       "      <td>1.0</td>\n",
       "      <td>10.0</td>\n",
       "      <td>NaN</td>\n",
       "      <td>NaN</td>\n",
       "      <td>NaN</td>\n",
       "      <td>NaN</td>\n",
       "      <td>10.0</td>\n",
       "      <td>1.0</td>\n",
       "      <td>...</td>\n",
       "      <td>2.0</td>\n",
       "      <td>6.0</td>\n",
       "      <td>9.0</td>\n",
       "      <td>7.0</td>\n",
       "      <td>3</td>\n",
       "      <td>COSMETIC_AND_FOOD</td>\n",
       "      <td>MULTI_BUYER</td>\n",
       "      <td>0</td>\n",
       "      <td>1</td>\n",
       "      <td>4</td>\n",
       "    </tr>\n",
       "    <tr>\n",
       "      <th>1</th>\n",
       "      <td>9628</td>\n",
       "      <td>-1</td>\n",
       "      <td>9.0</td>\n",
       "      <td>11.0</td>\n",
       "      <td>NaN</td>\n",
       "      <td>NaN</td>\n",
       "      <td>NaN</td>\n",
       "      <td>NaN</td>\n",
       "      <td>NaN</td>\n",
       "      <td>NaN</td>\n",
       "      <td>...</td>\n",
       "      <td>3.0</td>\n",
       "      <td>0.0</td>\n",
       "      <td>9.0</td>\n",
       "      <td>NaN</td>\n",
       "      <td>3</td>\n",
       "      <td>FOOD</td>\n",
       "      <td>SINGLE_BUYER</td>\n",
       "      <td>0</td>\n",
       "      <td>1</td>\n",
       "      <td>4</td>\n",
       "    </tr>\n",
       "    <tr>\n",
       "      <th>2</th>\n",
       "      <td>143872</td>\n",
       "      <td>-1</td>\n",
       "      <td>1.0</td>\n",
       "      <td>6.0</td>\n",
       "      <td>NaN</td>\n",
       "      <td>NaN</td>\n",
       "      <td>NaN</td>\n",
       "      <td>NaN</td>\n",
       "      <td>0.0</td>\n",
       "      <td>1.0</td>\n",
       "      <td>...</td>\n",
       "      <td>11.0</td>\n",
       "      <td>6.0</td>\n",
       "      <td>9.0</td>\n",
       "      <td>2.0</td>\n",
       "      <td>3</td>\n",
       "      <td>COSMETIC_AND_FOOD</td>\n",
       "      <td>MULTI_BUYER</td>\n",
       "      <td>0</td>\n",
       "      <td>2</td>\n",
       "      <td>4</td>\n",
       "    </tr>\n",
       "    <tr>\n",
       "      <th>3</th>\n",
       "      <td>143873</td>\n",
       "      <td>1</td>\n",
       "      <td>1.0</td>\n",
       "      <td>8.0</td>\n",
       "      <td>NaN</td>\n",
       "      <td>NaN</td>\n",
       "      <td>NaN</td>\n",
       "      <td>NaN</td>\n",
       "      <td>8.0</td>\n",
       "      <td>0.0</td>\n",
       "      <td>...</td>\n",
       "      <td>2.0</td>\n",
       "      <td>NaN</td>\n",
       "      <td>9.0</td>\n",
       "      <td>7.0</td>\n",
       "      <td>1</td>\n",
       "      <td>COSMETIC</td>\n",
       "      <td>MULTI_BUYER</td>\n",
       "      <td>0</td>\n",
       "      <td>1</td>\n",
       "      <td>4</td>\n",
       "    </tr>\n",
       "    <tr>\n",
       "      <th>4</th>\n",
       "      <td>143874</td>\n",
       "      <td>-1</td>\n",
       "      <td>1.0</td>\n",
       "      <td>20.0</td>\n",
       "      <td>NaN</td>\n",
       "      <td>NaN</td>\n",
       "      <td>NaN</td>\n",
       "      <td>NaN</td>\n",
       "      <td>14.0</td>\n",
       "      <td>7.0</td>\n",
       "      <td>...</td>\n",
       "      <td>4.0</td>\n",
       "      <td>2.0</td>\n",
       "      <td>9.0</td>\n",
       "      <td>3.0</td>\n",
       "      <td>1</td>\n",
       "      <td>FOOD</td>\n",
       "      <td>MULTI_BUYER</td>\n",
       "      <td>0</td>\n",
       "      <td>1</td>\n",
       "      <td>3</td>\n",
       "    </tr>\n",
       "  </tbody>\n",
       "</table>\n",
       "<p>5 rows × 369 columns</p>\n",
       "</div>"
      ],
      "text/plain": [
       "      LNR  AGER_TYP  AKT_DAT_KL  ALTER_HH  ALTER_KIND1  ALTER_KIND2  \\\n",
       "0    9626         2         1.0      10.0          NaN          NaN   \n",
       "1    9628        -1         9.0      11.0          NaN          NaN   \n",
       "2  143872        -1         1.0       6.0          NaN          NaN   \n",
       "3  143873         1         1.0       8.0          NaN          NaN   \n",
       "4  143874        -1         1.0      20.0          NaN          NaN   \n",
       "\n",
       "   ALTER_KIND3  ALTER_KIND4  ALTERSKATEGORIE_FEIN  ANZ_HAUSHALTE_AKTIV  ...  \\\n",
       "0          NaN          NaN                  10.0                  1.0  ...   \n",
       "1          NaN          NaN                   NaN                  NaN  ...   \n",
       "2          NaN          NaN                   0.0                  1.0  ...   \n",
       "3          NaN          NaN                   8.0                  0.0  ...   \n",
       "4          NaN          NaN                  14.0                  7.0  ...   \n",
       "\n",
       "   VK_ZG11  W_KEIT_KIND_HH  WOHNDAUER_2008  WOHNLAGE  ZABEOTYP  \\\n",
       "0      2.0             6.0             9.0       7.0         3   \n",
       "1      3.0             0.0             9.0       NaN         3   \n",
       "2     11.0             6.0             9.0       2.0         3   \n",
       "3      2.0             NaN             9.0       7.0         1   \n",
       "4      4.0             2.0             9.0       3.0         1   \n",
       "\n",
       "       PRODUCT_GROUP  CUSTOMER_GROUP ONLINE_PURCHASE ANREDE_KZ  \\\n",
       "0  COSMETIC_AND_FOOD     MULTI_BUYER               0         1   \n",
       "1               FOOD    SINGLE_BUYER               0         1   \n",
       "2  COSMETIC_AND_FOOD     MULTI_BUYER               0         2   \n",
       "3           COSMETIC     MULTI_BUYER               0         1   \n",
       "4               FOOD     MULTI_BUYER               0         1   \n",
       "\n",
       "  ALTERSKATEGORIE_GROB  \n",
       "0                    4  \n",
       "1                    4  \n",
       "2                    4  \n",
       "3                    4  \n",
       "4                    3  \n",
       "\n",
       "[5 rows x 369 columns]"
      ]
     },
     "execution_count": 76,
     "metadata": {},
     "output_type": "execute_result"
    }
   ],
   "source": [
    "customers.drop(['Unnamed: 0'], axis=1, inplace=True)\n",
    "customers.head()"
   ]
  },
  {
   "cell_type": "code",
   "execution_count": 77,
   "metadata": {},
   "outputs": [
    {
     "data": {
      "text/plain": [
       "(191652, 369)"
      ]
     },
     "execution_count": 77,
     "metadata": {},
     "output_type": "execute_result"
    }
   ],
   "source": [
    "customers.shape"
   ]
  },
  {
   "cell_type": "code",
   "execution_count": 78,
   "metadata": {},
   "outputs": [],
   "source": [
    "azdias1 = pd.read_csv('project_azdias1.csv', low_memory=False)"
   ]
  },
  {
   "cell_type": "code",
   "execution_count": 79,
   "metadata": {},
   "outputs": [
    {
     "data": {
      "text/html": [
       "<div>\n",
       "<style scoped>\n",
       "    .dataframe tbody tr th:only-of-type {\n",
       "        vertical-align: middle;\n",
       "    }\n",
       "\n",
       "    .dataframe tbody tr th {\n",
       "        vertical-align: top;\n",
       "    }\n",
       "\n",
       "    .dataframe thead th {\n",
       "        text-align: right;\n",
       "    }\n",
       "</style>\n",
       "<table border=\"1\" class=\"dataframe\">\n",
       "  <thead>\n",
       "    <tr style=\"text-align: right;\">\n",
       "      <th></th>\n",
       "      <th>LNR</th>\n",
       "      <th>AGER_TYP</th>\n",
       "      <th>AKT_DAT_KL</th>\n",
       "      <th>ALTER_HH</th>\n",
       "      <th>ALTER_KIND1</th>\n",
       "      <th>ALTER_KIND2</th>\n",
       "      <th>ALTER_KIND3</th>\n",
       "      <th>ALTER_KIND4</th>\n",
       "      <th>ALTERSKATEGORIE_FEIN</th>\n",
       "      <th>ANZ_HAUSHALTE_AKTIV</th>\n",
       "      <th>...</th>\n",
       "      <th>VHN</th>\n",
       "      <th>VK_DHT4A</th>\n",
       "      <th>VK_DISTANZ</th>\n",
       "      <th>VK_ZG11</th>\n",
       "      <th>W_KEIT_KIND_HH</th>\n",
       "      <th>WOHNDAUER_2008</th>\n",
       "      <th>WOHNLAGE</th>\n",
       "      <th>ZABEOTYP</th>\n",
       "      <th>ANREDE_KZ</th>\n",
       "      <th>ALTERSKATEGORIE_GROB</th>\n",
       "    </tr>\n",
       "  </thead>\n",
       "  <tbody>\n",
       "    <tr>\n",
       "      <th>0</th>\n",
       "      <td>910215</td>\n",
       "      <td>-1</td>\n",
       "      <td>NaN</td>\n",
       "      <td>NaN</td>\n",
       "      <td>NaN</td>\n",
       "      <td>NaN</td>\n",
       "      <td>NaN</td>\n",
       "      <td>NaN</td>\n",
       "      <td>NaN</td>\n",
       "      <td>NaN</td>\n",
       "      <td>...</td>\n",
       "      <td>NaN</td>\n",
       "      <td>NaN</td>\n",
       "      <td>NaN</td>\n",
       "      <td>NaN</td>\n",
       "      <td>NaN</td>\n",
       "      <td>NaN</td>\n",
       "      <td>NaN</td>\n",
       "      <td>3</td>\n",
       "      <td>1</td>\n",
       "      <td>2</td>\n",
       "    </tr>\n",
       "    <tr>\n",
       "      <th>1</th>\n",
       "      <td>910220</td>\n",
       "      <td>-1</td>\n",
       "      <td>9.0</td>\n",
       "      <td>0.0</td>\n",
       "      <td>NaN</td>\n",
       "      <td>NaN</td>\n",
       "      <td>NaN</td>\n",
       "      <td>NaN</td>\n",
       "      <td>21.0</td>\n",
       "      <td>11.0</td>\n",
       "      <td>...</td>\n",
       "      <td>4.0</td>\n",
       "      <td>8.0</td>\n",
       "      <td>11.0</td>\n",
       "      <td>10.0</td>\n",
       "      <td>3.0</td>\n",
       "      <td>9.0</td>\n",
       "      <td>4.0</td>\n",
       "      <td>5</td>\n",
       "      <td>2</td>\n",
       "      <td>1</td>\n",
       "    </tr>\n",
       "    <tr>\n",
       "      <th>2</th>\n",
       "      <td>910225</td>\n",
       "      <td>-1</td>\n",
       "      <td>9.0</td>\n",
       "      <td>17.0</td>\n",
       "      <td>NaN</td>\n",
       "      <td>NaN</td>\n",
       "      <td>NaN</td>\n",
       "      <td>NaN</td>\n",
       "      <td>17.0</td>\n",
       "      <td>10.0</td>\n",
       "      <td>...</td>\n",
       "      <td>2.0</td>\n",
       "      <td>9.0</td>\n",
       "      <td>9.0</td>\n",
       "      <td>6.0</td>\n",
       "      <td>3.0</td>\n",
       "      <td>9.0</td>\n",
       "      <td>2.0</td>\n",
       "      <td>5</td>\n",
       "      <td>2</td>\n",
       "      <td>3</td>\n",
       "    </tr>\n",
       "    <tr>\n",
       "      <th>3</th>\n",
       "      <td>910226</td>\n",
       "      <td>2</td>\n",
       "      <td>1.0</td>\n",
       "      <td>13.0</td>\n",
       "      <td>NaN</td>\n",
       "      <td>NaN</td>\n",
       "      <td>NaN</td>\n",
       "      <td>NaN</td>\n",
       "      <td>13.0</td>\n",
       "      <td>1.0</td>\n",
       "      <td>...</td>\n",
       "      <td>0.0</td>\n",
       "      <td>7.0</td>\n",
       "      <td>10.0</td>\n",
       "      <td>11.0</td>\n",
       "      <td>NaN</td>\n",
       "      <td>9.0</td>\n",
       "      <td>7.0</td>\n",
       "      <td>3</td>\n",
       "      <td>2</td>\n",
       "      <td>4</td>\n",
       "    </tr>\n",
       "    <tr>\n",
       "      <th>4</th>\n",
       "      <td>910241</td>\n",
       "      <td>-1</td>\n",
       "      <td>1.0</td>\n",
       "      <td>20.0</td>\n",
       "      <td>NaN</td>\n",
       "      <td>NaN</td>\n",
       "      <td>NaN</td>\n",
       "      <td>NaN</td>\n",
       "      <td>14.0</td>\n",
       "      <td>3.0</td>\n",
       "      <td>...</td>\n",
       "      <td>2.0</td>\n",
       "      <td>3.0</td>\n",
       "      <td>5.0</td>\n",
       "      <td>4.0</td>\n",
       "      <td>2.0</td>\n",
       "      <td>9.0</td>\n",
       "      <td>3.0</td>\n",
       "      <td>4</td>\n",
       "      <td>1</td>\n",
       "      <td>3</td>\n",
       "    </tr>\n",
       "  </tbody>\n",
       "</table>\n",
       "<p>5 rows × 366 columns</p>\n",
       "</div>"
      ],
      "text/plain": [
       "      LNR  AGER_TYP  AKT_DAT_KL  ALTER_HH  ALTER_KIND1  ALTER_KIND2  \\\n",
       "0  910215        -1         NaN       NaN          NaN          NaN   \n",
       "1  910220        -1         9.0       0.0          NaN          NaN   \n",
       "2  910225        -1         9.0      17.0          NaN          NaN   \n",
       "3  910226         2         1.0      13.0          NaN          NaN   \n",
       "4  910241        -1         1.0      20.0          NaN          NaN   \n",
       "\n",
       "   ALTER_KIND3  ALTER_KIND4  ALTERSKATEGORIE_FEIN  ANZ_HAUSHALTE_AKTIV  ...  \\\n",
       "0          NaN          NaN                   NaN                  NaN  ...   \n",
       "1          NaN          NaN                  21.0                 11.0  ...   \n",
       "2          NaN          NaN                  17.0                 10.0  ...   \n",
       "3          NaN          NaN                  13.0                  1.0  ...   \n",
       "4          NaN          NaN                  14.0                  3.0  ...   \n",
       "\n",
       "   VHN  VK_DHT4A  VK_DISTANZ  VK_ZG11  W_KEIT_KIND_HH  WOHNDAUER_2008  \\\n",
       "0  NaN       NaN         NaN      NaN             NaN             NaN   \n",
       "1  4.0       8.0        11.0     10.0             3.0             9.0   \n",
       "2  2.0       9.0         9.0      6.0             3.0             9.0   \n",
       "3  0.0       7.0        10.0     11.0             NaN             9.0   \n",
       "4  2.0       3.0         5.0      4.0             2.0             9.0   \n",
       "\n",
       "   WOHNLAGE ZABEOTYP ANREDE_KZ ALTERSKATEGORIE_GROB  \n",
       "0       NaN        3         1                    2  \n",
       "1       4.0        5         2                    1  \n",
       "2       2.0        5         2                    3  \n",
       "3       7.0        3         2                    4  \n",
       "4       3.0        4         1                    3  \n",
       "\n",
       "[5 rows x 366 columns]"
      ]
     },
     "execution_count": 79,
     "metadata": {},
     "output_type": "execute_result"
    }
   ],
   "source": [
    "azdias1.drop(['Unnamed: 0'], axis=1, inplace=True)\n",
    "azdias1.head()"
   ]
  },
  {
   "cell_type": "code",
   "execution_count": 80,
   "metadata": {},
   "outputs": [],
   "source": [
    "azdias2 = pd.read_csv('project_azdias2.csv', low_memory=False)"
   ]
  },
  {
   "cell_type": "code",
   "execution_count": 81,
   "metadata": {},
   "outputs": [
    {
     "data": {
      "text/html": [
       "<div>\n",
       "<style scoped>\n",
       "    .dataframe tbody tr th:only-of-type {\n",
       "        vertical-align: middle;\n",
       "    }\n",
       "\n",
       "    .dataframe tbody tr th {\n",
       "        vertical-align: top;\n",
       "    }\n",
       "\n",
       "    .dataframe thead th {\n",
       "        text-align: right;\n",
       "    }\n",
       "</style>\n",
       "<table border=\"1\" class=\"dataframe\">\n",
       "  <thead>\n",
       "    <tr style=\"text-align: right;\">\n",
       "      <th></th>\n",
       "      <th>LNR</th>\n",
       "      <th>AGER_TYP</th>\n",
       "      <th>AKT_DAT_KL</th>\n",
       "      <th>ALTER_HH</th>\n",
       "      <th>ALTER_KIND1</th>\n",
       "      <th>ALTER_KIND2</th>\n",
       "      <th>ALTER_KIND3</th>\n",
       "      <th>ALTER_KIND4</th>\n",
       "      <th>ALTERSKATEGORIE_FEIN</th>\n",
       "      <th>ANZ_HAUSHALTE_AKTIV</th>\n",
       "      <th>...</th>\n",
       "      <th>VHN</th>\n",
       "      <th>VK_DHT4A</th>\n",
       "      <th>VK_DISTANZ</th>\n",
       "      <th>VK_ZG11</th>\n",
       "      <th>W_KEIT_KIND_HH</th>\n",
       "      <th>WOHNDAUER_2008</th>\n",
       "      <th>WOHNLAGE</th>\n",
       "      <th>ZABEOTYP</th>\n",
       "      <th>ANREDE_KZ</th>\n",
       "      <th>ALTERSKATEGORIE_GROB</th>\n",
       "    </tr>\n",
       "  </thead>\n",
       "  <tbody>\n",
       "    <tr>\n",
       "      <th>0</th>\n",
       "      <td>876730</td>\n",
       "      <td>2</td>\n",
       "      <td>1.0</td>\n",
       "      <td>12.0</td>\n",
       "      <td>NaN</td>\n",
       "      <td>NaN</td>\n",
       "      <td>NaN</td>\n",
       "      <td>NaN</td>\n",
       "      <td>12.0</td>\n",
       "      <td>6.0</td>\n",
       "      <td>...</td>\n",
       "      <td>3.0</td>\n",
       "      <td>6.0</td>\n",
       "      <td>3.0</td>\n",
       "      <td>2.0</td>\n",
       "      <td>6.0</td>\n",
       "      <td>9.0</td>\n",
       "      <td>1.0</td>\n",
       "      <td>2</td>\n",
       "      <td>2</td>\n",
       "      <td>4</td>\n",
       "    </tr>\n",
       "    <tr>\n",
       "      <th>1</th>\n",
       "      <td>876741</td>\n",
       "      <td>-1</td>\n",
       "      <td>9.0</td>\n",
       "      <td>0.0</td>\n",
       "      <td>NaN</td>\n",
       "      <td>NaN</td>\n",
       "      <td>NaN</td>\n",
       "      <td>NaN</td>\n",
       "      <td>NaN</td>\n",
       "      <td>35.0</td>\n",
       "      <td>...</td>\n",
       "      <td>4.0</td>\n",
       "      <td>10.0</td>\n",
       "      <td>13.0</td>\n",
       "      <td>10.0</td>\n",
       "      <td>6.0</td>\n",
       "      <td>9.0</td>\n",
       "      <td>5.0</td>\n",
       "      <td>4</td>\n",
       "      <td>2</td>\n",
       "      <td>1</td>\n",
       "    </tr>\n",
       "    <tr>\n",
       "      <th>2</th>\n",
       "      <td>876743</td>\n",
       "      <td>-1</td>\n",
       "      <td>9.0</td>\n",
       "      <td>0.0</td>\n",
       "      <td>NaN</td>\n",
       "      <td>NaN</td>\n",
       "      <td>NaN</td>\n",
       "      <td>NaN</td>\n",
       "      <td>NaN</td>\n",
       "      <td>60.0</td>\n",
       "      <td>...</td>\n",
       "      <td>2.0</td>\n",
       "      <td>10.0</td>\n",
       "      <td>13.0</td>\n",
       "      <td>10.0</td>\n",
       "      <td>3.0</td>\n",
       "      <td>9.0</td>\n",
       "      <td>2.0</td>\n",
       "      <td>4</td>\n",
       "      <td>2</td>\n",
       "      <td>2</td>\n",
       "    </tr>\n",
       "    <tr>\n",
       "      <th>3</th>\n",
       "      <td>876744</td>\n",
       "      <td>-1</td>\n",
       "      <td>9.0</td>\n",
       "      <td>0.0</td>\n",
       "      <td>NaN</td>\n",
       "      <td>NaN</td>\n",
       "      <td>NaN</td>\n",
       "      <td>NaN</td>\n",
       "      <td>NaN</td>\n",
       "      <td>8.0</td>\n",
       "      <td>...</td>\n",
       "      <td>2.0</td>\n",
       "      <td>9.0</td>\n",
       "      <td>11.0</td>\n",
       "      <td>8.0</td>\n",
       "      <td>4.0</td>\n",
       "      <td>9.0</td>\n",
       "      <td>1.0</td>\n",
       "      <td>4</td>\n",
       "      <td>1</td>\n",
       "      <td>2</td>\n",
       "    </tr>\n",
       "    <tr>\n",
       "      <th>4</th>\n",
       "      <td>876747</td>\n",
       "      <td>0</td>\n",
       "      <td>9.0</td>\n",
       "      <td>12.0</td>\n",
       "      <td>NaN</td>\n",
       "      <td>NaN</td>\n",
       "      <td>NaN</td>\n",
       "      <td>NaN</td>\n",
       "      <td>12.0</td>\n",
       "      <td>2.0</td>\n",
       "      <td>...</td>\n",
       "      <td>3.0</td>\n",
       "      <td>7.0</td>\n",
       "      <td>8.0</td>\n",
       "      <td>5.0</td>\n",
       "      <td>6.0</td>\n",
       "      <td>9.0</td>\n",
       "      <td>3.0</td>\n",
       "      <td>3</td>\n",
       "      <td>2</td>\n",
       "      <td>3</td>\n",
       "    </tr>\n",
       "  </tbody>\n",
       "</table>\n",
       "<p>5 rows × 366 columns</p>\n",
       "</div>"
      ],
      "text/plain": [
       "      LNR  AGER_TYP  AKT_DAT_KL  ALTER_HH  ALTER_KIND1  ALTER_KIND2  \\\n",
       "0  876730         2         1.0      12.0          NaN          NaN   \n",
       "1  876741        -1         9.0       0.0          NaN          NaN   \n",
       "2  876743        -1         9.0       0.0          NaN          NaN   \n",
       "3  876744        -1         9.0       0.0          NaN          NaN   \n",
       "4  876747         0         9.0      12.0          NaN          NaN   \n",
       "\n",
       "   ALTER_KIND3  ALTER_KIND4  ALTERSKATEGORIE_FEIN  ANZ_HAUSHALTE_AKTIV  ...  \\\n",
       "0          NaN          NaN                  12.0                  6.0  ...   \n",
       "1          NaN          NaN                   NaN                 35.0  ...   \n",
       "2          NaN          NaN                   NaN                 60.0  ...   \n",
       "3          NaN          NaN                   NaN                  8.0  ...   \n",
       "4          NaN          NaN                  12.0                  2.0  ...   \n",
       "\n",
       "   VHN  VK_DHT4A  VK_DISTANZ  VK_ZG11  W_KEIT_KIND_HH  WOHNDAUER_2008  \\\n",
       "0  3.0       6.0         3.0      2.0             6.0             9.0   \n",
       "1  4.0      10.0        13.0     10.0             6.0             9.0   \n",
       "2  2.0      10.0        13.0     10.0             3.0             9.0   \n",
       "3  2.0       9.0        11.0      8.0             4.0             9.0   \n",
       "4  3.0       7.0         8.0      5.0             6.0             9.0   \n",
       "\n",
       "   WOHNLAGE ZABEOTYP ANREDE_KZ ALTERSKATEGORIE_GROB  \n",
       "0       1.0        2         2                    4  \n",
       "1       5.0        4         2                    1  \n",
       "2       2.0        4         2                    2  \n",
       "3       1.0        4         1                    2  \n",
       "4       3.0        3         2                    3  \n",
       "\n",
       "[5 rows x 366 columns]"
      ]
     },
     "execution_count": 81,
     "metadata": {},
     "output_type": "execute_result"
    }
   ],
   "source": [
    "azdias2.drop(['Unnamed: 0'], axis=1, inplace=True)\n",
    "azdias2.head()"
   ]
  },
  {
   "cell_type": "code",
   "execution_count": 82,
   "metadata": {},
   "outputs": [],
   "source": [
    "#concatenate the two parts of azdias\n",
    "azdias = pd.concat([azdias1, azdias2], axis=0)"
   ]
  },
  {
   "cell_type": "code",
   "execution_count": 83,
   "metadata": {},
   "outputs": [
    {
     "name": "stdout",
     "output_type": "stream",
     "text": [
      "(891221, 366)\n",
      "(191652, 369)\n"
     ]
    }
   ],
   "source": [
    "print(azdias.shape)\n",
    "print(customers.shape)"
   ]
  },
  {
   "cell_type": "code",
   "execution_count": 84,
   "metadata": {},
   "outputs": [
    {
     "name": "stdout",
     "output_type": "stream",
     "text": [
      "<class 'pandas.core.frame.DataFrame'>\n",
      "Int64Index: 891221 entries, 0 to 391220\n",
      "Columns: 366 entries, LNR to ALTERSKATEGORIE_GROB\n",
      "dtypes: float64(267), int64(93), object(6)\n",
      "memory usage: 2.4+ GB\n"
     ]
    }
   ],
   "source": [
    "azdias.info()"
   ]
  },
  {
   "cell_type": "code",
   "execution_count": 85,
   "metadata": {},
   "outputs": [
    {
     "data": {
      "text/plain": [
       "Index(['LNR', 'AGER_TYP', 'AKT_DAT_KL', 'ALTER_HH', 'ALTER_KIND1',\n",
       "       'ALTER_KIND2', 'ALTER_KIND3', 'ALTER_KIND4', 'ALTERSKATEGORIE_FEIN',\n",
       "       'ANZ_HAUSHALTE_AKTIV',\n",
       "       ...\n",
       "       'VHN', 'VK_DHT4A', 'VK_DISTANZ', 'VK_ZG11', 'W_KEIT_KIND_HH',\n",
       "       'WOHNDAUER_2008', 'WOHNLAGE', 'ZABEOTYP', 'ANREDE_KZ',\n",
       "       'ALTERSKATEGORIE_GROB'],\n",
       "      dtype='object', length=366)"
      ]
     },
     "execution_count": 85,
     "metadata": {},
     "output_type": "execute_result"
    }
   ],
   "source": [
    "azdias.columns"
   ]
  },
  {
   "cell_type": "code",
   "execution_count": 86,
   "metadata": {},
   "outputs": [
    {
     "data": {
      "text/html": [
       "<div>\n",
       "<style scoped>\n",
       "    .dataframe tbody tr th:only-of-type {\n",
       "        vertical-align: middle;\n",
       "    }\n",
       "\n",
       "    .dataframe tbody tr th {\n",
       "        vertical-align: top;\n",
       "    }\n",
       "\n",
       "    .dataframe thead th {\n",
       "        text-align: right;\n",
       "    }\n",
       "</style>\n",
       "<table border=\"1\" class=\"dataframe\">\n",
       "  <thead>\n",
       "    <tr style=\"text-align: right;\">\n",
       "      <th></th>\n",
       "      <th>CAMEO_DEU_2015</th>\n",
       "      <th>CAMEO_DEUG_2015</th>\n",
       "      <th>CAMEO_INTL_2015</th>\n",
       "      <th>D19_LETZTER_KAUF_BRANCHE</th>\n",
       "      <th>EINGEFUEGT_AM</th>\n",
       "      <th>OST_WEST_KZ</th>\n",
       "    </tr>\n",
       "  </thead>\n",
       "  <tbody>\n",
       "    <tr>\n",
       "      <th>0</th>\n",
       "      <td>NaN</td>\n",
       "      <td>NaN</td>\n",
       "      <td>NaN</td>\n",
       "      <td>NaN</td>\n",
       "      <td>NaN</td>\n",
       "      <td>NaN</td>\n",
       "    </tr>\n",
       "    <tr>\n",
       "      <th>1</th>\n",
       "      <td>8A</td>\n",
       "      <td>8.0</td>\n",
       "      <td>51.0</td>\n",
       "      <td>NaN</td>\n",
       "      <td>1992-02-10 00:00:00</td>\n",
       "      <td>W</td>\n",
       "    </tr>\n",
       "    <tr>\n",
       "      <th>2</th>\n",
       "      <td>4C</td>\n",
       "      <td>4.0</td>\n",
       "      <td>24.0</td>\n",
       "      <td>D19_UNBEKANNT</td>\n",
       "      <td>1992-02-12 00:00:00</td>\n",
       "      <td>W</td>\n",
       "    </tr>\n",
       "    <tr>\n",
       "      <th>3</th>\n",
       "      <td>2A</td>\n",
       "      <td>2.0</td>\n",
       "      <td>12.0</td>\n",
       "      <td>D19_UNBEKANNT</td>\n",
       "      <td>1997-04-21 00:00:00</td>\n",
       "      <td>W</td>\n",
       "    </tr>\n",
       "    <tr>\n",
       "      <th>4</th>\n",
       "      <td>6B</td>\n",
       "      <td>6.0</td>\n",
       "      <td>43.0</td>\n",
       "      <td>D19_SCHUHE</td>\n",
       "      <td>1992-02-12 00:00:00</td>\n",
       "      <td>W</td>\n",
       "    </tr>\n",
       "    <tr>\n",
       "      <th>...</th>\n",
       "      <td>...</td>\n",
       "      <td>...</td>\n",
       "      <td>...</td>\n",
       "      <td>...</td>\n",
       "      <td>...</td>\n",
       "      <td>...</td>\n",
       "    </tr>\n",
       "    <tr>\n",
       "      <th>391216</th>\n",
       "      <td>7A</td>\n",
       "      <td>7.0</td>\n",
       "      <td>41.0</td>\n",
       "      <td>D19_HAUS_DEKO</td>\n",
       "      <td>1992-02-10 00:00:00</td>\n",
       "      <td>W</td>\n",
       "    </tr>\n",
       "    <tr>\n",
       "      <th>391217</th>\n",
       "      <td>9D</td>\n",
       "      <td>9.0</td>\n",
       "      <td>51.0</td>\n",
       "      <td>D19_UNBEKANNT</td>\n",
       "      <td>1992-02-10 00:00:00</td>\n",
       "      <td>W</td>\n",
       "    </tr>\n",
       "    <tr>\n",
       "      <th>391218</th>\n",
       "      <td>4C</td>\n",
       "      <td>4.0</td>\n",
       "      <td>24.0</td>\n",
       "      <td>D19_BEKLEIDUNG_GEH</td>\n",
       "      <td>1992-02-10 00:00:00</td>\n",
       "      <td>W</td>\n",
       "    </tr>\n",
       "    <tr>\n",
       "      <th>391219</th>\n",
       "      <td>9D</td>\n",
       "      <td>9.0</td>\n",
       "      <td>51.0</td>\n",
       "      <td>D19_UNBEKANNT</td>\n",
       "      <td>1992-02-12 00:00:00</td>\n",
       "      <td>W</td>\n",
       "    </tr>\n",
       "    <tr>\n",
       "      <th>391220</th>\n",
       "      <td>6B</td>\n",
       "      <td>6.0</td>\n",
       "      <td>43.0</td>\n",
       "      <td>NaN</td>\n",
       "      <td>1992-02-10 00:00:00</td>\n",
       "      <td>W</td>\n",
       "    </tr>\n",
       "  </tbody>\n",
       "</table>\n",
       "<p>891221 rows × 6 columns</p>\n",
       "</div>"
      ],
      "text/plain": [
       "       CAMEO_DEU_2015 CAMEO_DEUG_2015 CAMEO_INTL_2015  \\\n",
       "0                 NaN             NaN             NaN   \n",
       "1                  8A             8.0            51.0   \n",
       "2                  4C             4.0            24.0   \n",
       "3                  2A             2.0            12.0   \n",
       "4                  6B             6.0            43.0   \n",
       "...               ...             ...             ...   \n",
       "391216             7A             7.0            41.0   \n",
       "391217             9D             9.0            51.0   \n",
       "391218             4C             4.0            24.0   \n",
       "391219             9D             9.0            51.0   \n",
       "391220             6B             6.0            43.0   \n",
       "\n",
       "       D19_LETZTER_KAUF_BRANCHE        EINGEFUEGT_AM OST_WEST_KZ  \n",
       "0                           NaN                  NaN         NaN  \n",
       "1                           NaN  1992-02-10 00:00:00           W  \n",
       "2                 D19_UNBEKANNT  1992-02-12 00:00:00           W  \n",
       "3                 D19_UNBEKANNT  1997-04-21 00:00:00           W  \n",
       "4                    D19_SCHUHE  1992-02-12 00:00:00           W  \n",
       "...                         ...                  ...         ...  \n",
       "391216            D19_HAUS_DEKO  1992-02-10 00:00:00           W  \n",
       "391217            D19_UNBEKANNT  1992-02-10 00:00:00           W  \n",
       "391218       D19_BEKLEIDUNG_GEH  1992-02-10 00:00:00           W  \n",
       "391219            D19_UNBEKANNT  1992-02-12 00:00:00           W  \n",
       "391220                      NaN  1992-02-10 00:00:00           W  \n",
       "\n",
       "[891221 rows x 6 columns]"
      ]
     },
     "execution_count": 86,
     "metadata": {},
     "output_type": "execute_result"
    }
   ],
   "source": [
    "azdias.select_dtypes(include=['object'])"
   ]
  },
  {
   "cell_type": "markdown",
   "metadata": {},
   "source": [
    "**Reviewing the non-numeric features**\n",
    "  * CAMEO_DEU_2015 and CAMEO_DEUG_2015 are categorical features that can be handled with replaced with dummy variables (standard `get_dummy()` techniques).\n",
    "  * CAMEO_INTL_2015 is a two-level variable that will be transformed below before the \"dummy\" treatment.\n",
    "  * EINGEFUEGT_AM is a time stamp, of which the year will be extracted as an integer.\n",
    "  * D19_LETZTER_KAUF_BRANCHE is an oddball, with values as descrptive  strings instead of codes. We could dummy it as is, but the results (column headings ) are messy. Instead, we will convert the categories to numbers and keep the keys in a dictionary.\n",
    "  "
   ]
  },
  {
   "cell_type": "code",
   "execution_count": null,
   "metadata": {},
   "outputs": [],
   "source": []
  },
  {
   "cell_type": "code",
   "execution_count": 87,
   "metadata": {},
   "outputs": [
    {
     "name": "stdout",
     "output_type": "stream",
     "text": [
      "35\n",
      "[nan 'D19_UNBEKANNT' 'D19_SCHUHE' 'D19_ENERGIE' 'D19_KOSMETIK'\n",
      " 'D19_VOLLSORTIMENT' 'D19_SONSTIGE' 'D19_BANKEN_GROSS'\n",
      " 'D19_DROGERIEARTIKEL' 'D19_HANDWERK' 'D19_BUCH_CD' 'D19_VERSICHERUNGEN'\n",
      " 'D19_VERSAND_REST' 'D19_TELKO_REST' 'D19_BANKEN_DIREKT' 'D19_BANKEN_REST'\n",
      " 'D19_FREIZEIT' 'D19_LEBENSMITTEL' 'D19_HAUS_DEKO' 'D19_BEKLEIDUNG_REST'\n",
      " 'D19_SAMMELARTIKEL' 'D19_TELKO_MOBILE' 'D19_REISEN' 'D19_BEKLEIDUNG_GEH'\n",
      " 'D19_TECHNIK' 'D19_NAHRUNGSERGAENZUNG' 'D19_DIGIT_SERV' 'D19_LOTTO'\n",
      " 'D19_RATGEBER' 'D19_TIERARTIKEL' 'D19_KINDERARTIKEL' 'D19_BIO_OEKO'\n",
      " 'D19_WEIN_FEINKOST' 'D19_GARTEN' 'D19_BILDUNG' 'D19_BANKEN_LOKAL']\n"
     ]
    }
   ],
   "source": [
    "# Dealing with D19_LETZTER_KAUF_BRANCHE'\n",
    "print(azdias['D19_LETZTER_KAUF_BRANCHE'].nunique())\n",
    "codes = azdias['D19_LETZTER_KAUF_BRANCHE'].unique()\n",
    "print(codes)"
   ]
  },
  {
   "cell_type": "code",
   "execution_count": 88,
   "metadata": {},
   "outputs": [],
   "source": [
    "# Replace strings with numbers and keep the conversion in a dictionary\n",
    "LETZTER_KB_codes = list(codes[1:])\n",
    "LETZTER_KB_dict = {}\n",
    "i = 0\n",
    "for item in LETZTER_KB_codes:\n",
    "    LETZTER_KB_dict[item] = i\n",
    "    i +=1\n",
    "LETZTER_KB_dict['D19_UNBEKANNT'] = np.NaN # by definition"
   ]
  },
  {
   "cell_type": "code",
   "execution_count": 89,
   "metadata": {},
   "outputs": [
    {
     "name": "stdout",
     "output_type": "stream",
     "text": [
      "['D19_UNBEKANNT', 'D19_SCHUHE', 'D19_ENERGIE', 'D19_KOSMETIK', 'D19_VOLLSORTIMENT', 'D19_SONSTIGE', 'D19_BANKEN_GROSS', 'D19_DROGERIEARTIKEL', 'D19_HANDWERK', 'D19_BUCH_CD', 'D19_VERSICHERUNGEN', 'D19_VERSAND_REST', 'D19_TELKO_REST', 'D19_BANKEN_DIREKT', 'D19_BANKEN_REST', 'D19_FREIZEIT', 'D19_LEBENSMITTEL', 'D19_HAUS_DEKO', 'D19_BEKLEIDUNG_REST', 'D19_SAMMELARTIKEL', 'D19_TELKO_MOBILE', 'D19_REISEN', 'D19_BEKLEIDUNG_GEH', 'D19_TECHNIK', 'D19_NAHRUNGSERGAENZUNG', 'D19_DIGIT_SERV', 'D19_LOTTO', 'D19_RATGEBER', 'D19_TIERARTIKEL', 'D19_KINDERARTIKEL', 'D19_BIO_OEKO', 'D19_WEIN_FEINKOST', 'D19_GARTEN', 'D19_BILDUNG', 'D19_BANKEN_LOKAL']\n"
     ]
    }
   ],
   "source": [
    "print(list(LETZTER_KB_dict.keys()))"
   ]
  },
  {
   "cell_type": "code",
   "execution_count": 90,
   "metadata": {},
   "outputs": [
    {
     "name": "stdout",
     "output_type": "stream",
     "text": [
      "0          NaN\n",
      "1          NaN\n",
      "2          NaN\n",
      "3          NaN\n",
      "4          1.0\n",
      "          ... \n",
      "391216    17.0\n",
      "391217     NaN\n",
      "391218    22.0\n",
      "391219     NaN\n",
      "391220     NaN\n",
      "Name: D19_LETZTER_KAUF_BRANCHE, Length: 891221, dtype: float64\n"
     ]
    }
   ],
   "source": [
    "# update the D19_LETZTER_KAUF_BRANCHE' column\n",
    "for key in LETZTER_KB_dict.keys():\n",
    "     azdias['D19_LETZTER_KAUF_BRANCHE'] = azdias['D19_LETZTER_KAUF_BRANCHE'].replace(key, LETZTER_KB_dict[key])\n",
    "#check    \n",
    "print(azdias['D19_LETZTER_KAUF_BRANCHE'])                          "
   ]
  },
  {
   "cell_type": "code",
   "execution_count": 91,
   "metadata": {},
   "outputs": [
    {
     "name": "stdout",
     "output_type": "stream",
     "text": [
      "0            NaN\n",
      "1         1992.0\n",
      "2         1992.0\n",
      "3         1997.0\n",
      "4         1992.0\n",
      "           ...  \n",
      "391216    1992.0\n",
      "391217    1992.0\n",
      "391218    1992.0\n",
      "391219    1992.0\n",
      "391220    1992.0\n",
      "Name: EINGEFUEGT_AM, Length: 891221, dtype: float64\n"
     ]
    }
   ],
   "source": [
    "# pick the year in 'EINGEFUEGT_AM'.\n",
    "temp = azdias['EINGEFUEGT_AM'].str.split('-')\n",
    "temp_np = np.array(temp)\n",
    "year = []\n",
    "for item in temp_np:\n",
    "    try:\n",
    "        year.append(int(item[0]))\n",
    "    except:\n",
    "        year.append(np.NaN)\n",
    "azdias['EINGEFUEGT_AM'] = year\n",
    "#check\n",
    "print(azdias.loc[:,'EINGEFUEGT_AM'])"
   ]
  },
  {
   "cell_type": "code",
   "execution_count": 92,
   "metadata": {},
   "outputs": [
    {
     "name": "stdout",
     "output_type": "stream",
     "text": [
      "Feature                      Missing data   Percent\n",
      "AKT_DAT_KL                         73499    8.2\n",
      "ALTER_HH                           73499    8.2\n",
      "ALTER_KIND1                       810163    90.9\n",
      "ALTER_KIND2                       861722    96.7\n",
      "ALTER_KIND3                       885051    99.3\n",
      "ALTER_KIND4                       890016    99.9\n",
      "ALTERSKATEGORIE_FEIN              262947    29.5\n",
      "ANZ_HAUSHALTE_AKTIV                93148    10.5\n",
      "ANZ_HH_TITEL                       97008    10.9\n",
      "ANZ_KINDER                         73499    8.2\n",
      "ANZ_PERSONEN                       73499    8.2\n",
      "ANZ_STATISTISCHE_HAUSHALTE         93148    10.5\n",
      "ANZ_TITEL                          73499    8.2\n",
      "ARBEIT                             97216    10.9\n",
      "BALLRAUM                           93740    10.5\n",
      "CAMEO_DEU_2015                     98979    11.1\n",
      "CAMEO_DEUG_2015                    98979    11.1\n",
      "CAMEO_INTL_2015                    98979    11.1\n",
      "CJT_GESAMTTYP                       4854    0.5\n",
      "CJT_KATALOGNUTZER                   4854    0.5\n",
      "CJT_TYP_1                           4854    0.5\n",
      "CJT_TYP_2                           4854    0.5\n",
      "CJT_TYP_3                           4854    0.5\n",
      "CJT_TYP_4                           4854    0.5\n",
      "CJT_TYP_5                           4854    0.5\n",
      "CJT_TYP_6                           4854    0.5\n",
      "D19_BANKEN_ONLINE_QUOTE_12        257113    28.8\n",
      "D19_GESAMT_ONLINE_QUOTE_12        257113    28.8\n",
      "D19_KONSUMTYP                     257113    28.8\n",
      "D19_LETZTER_KAUF_BRANCHE          452451    50.8\n",
      "D19_LOTTO                         257113    28.8\n",
      "D19_SOZIALES                      257113    28.8\n",
      "D19_TELKO_ONLINE_QUOTE_12         257113    28.8\n",
      "D19_VERSAND_ONLINE_QUOTE_12       257113    28.8\n",
      "D19_VERSI_ONLINE_QUOTE_12         257113    28.8\n",
      "DSL_FLAG                           93148    10.5\n",
      "EINGEFUEGT_AM                      93148    10.5\n",
      "EINGEZOGENAM_HH_JAHR               73499    8.2\n",
      "EWDICHTE                           93740    10.5\n",
      "EXTSEL992                         654153    73.4\n",
      "FIRMENDICHTE                       93155    10.5\n",
      "GEBAEUDETYP                        93148    10.5\n",
      "GEBAEUDETYP_RASTER                 93155    10.5\n",
      "GEMEINDETYP                        97274    10.9\n",
      "GFK_URLAUBERTYP                     4854    0.5\n",
      "HH_DELTA_FLAG                     107602    12.1\n",
      "HH_EINKOMMEN_SCORE                 18348    2.1\n",
      "INNENSTADT                         93740    10.5\n",
      "KBA05_ALTER1                      133324    15.0\n",
      "KBA05_ALTER2                      133324    15.0\n",
      "KBA05_ALTER3                      133324    15.0\n",
      "KBA05_ALTER4                      133324    15.0\n",
      "KBA05_ANHANG                      133324    15.0\n",
      "KBA05_ANTG1                       133324    15.0\n",
      "KBA05_ANTG2                       133324    15.0\n",
      "KBA05_ANTG3                       133324    15.0\n",
      "KBA05_ANTG4                       133324    15.0\n",
      "KBA05_AUTOQUOT                    133324    15.0\n",
      "KBA05_BAUMAX                      133324    15.0\n",
      "KBA05_CCM1                        133324    15.0\n",
      "KBA05_CCM2                        133324    15.0\n",
      "KBA05_CCM3                        133324    15.0\n",
      "KBA05_CCM4                        133324    15.0\n",
      "KBA05_DIESEL                      133324    15.0\n",
      "KBA05_FRAU                        133324    15.0\n",
      "KBA05_GBZ                         133324    15.0\n",
      "KBA05_HERST1                      133324    15.0\n",
      "KBA05_HERST2                      133324    15.0\n",
      "KBA05_HERST3                      133324    15.0\n",
      "KBA05_HERST4                      133324    15.0\n",
      "KBA05_HERST5                      133324    15.0\n",
      "KBA05_HERSTTEMP                    93148    10.5\n",
      "KBA05_KRSAQUOT                    133324    15.0\n",
      "KBA05_KRSHERST1                   133324    15.0\n",
      "KBA05_KRSHERST2                   133324    15.0\n",
      "KBA05_KRSHERST3                   133324    15.0\n",
      "KBA05_KRSKLEIN                    133324    15.0\n",
      "KBA05_KRSOBER                     133324    15.0\n",
      "KBA05_KRSVAN                      133324    15.0\n",
      "KBA05_KRSZUL                      133324    15.0\n",
      "KBA05_KW1                         133324    15.0\n",
      "KBA05_KW2                         133324    15.0\n",
      "KBA05_KW3                         133324    15.0\n",
      "KBA05_MAXAH                       133324    15.0\n",
      "KBA05_MAXBJ                       133324    15.0\n",
      "KBA05_MAXHERST                    133324    15.0\n",
      "KBA05_MAXSEG                      133324    15.0\n",
      "KBA05_MAXVORB                     133324    15.0\n",
      "KBA05_MOD1                        133324    15.0\n",
      "KBA05_MOD2                        133324    15.0\n",
      "KBA05_MOD3                        133324    15.0\n",
      "KBA05_MOD4                        133324    15.0\n",
      "KBA05_MOD8                        133324    15.0\n",
      "KBA05_MODTEMP                      93148    10.5\n",
      "KBA05_MOTOR                       133324    15.0\n",
      "KBA05_MOTRAD                      133324    15.0\n",
      "KBA05_SEG1                        133324    15.0\n",
      "KBA05_SEG10                       133324    15.0\n",
      "KBA05_SEG2                        133324    15.0\n",
      "KBA05_SEG3                        133324    15.0\n",
      "KBA05_SEG4                        133324    15.0\n",
      "KBA05_SEG5                        133324    15.0\n",
      "KBA05_SEG6                        133324    15.0\n",
      "KBA05_SEG7                        133324    15.0\n",
      "KBA05_SEG8                        133324    15.0\n",
      "KBA05_SEG9                        133324    15.0\n",
      "KBA05_VORB0                       133324    15.0\n",
      "KBA05_VORB1                       133324    15.0\n",
      "KBA05_VORB2                       133324    15.0\n",
      "KBA05_ZUL1                        133324    15.0\n",
      "KBA05_ZUL2                        133324    15.0\n",
      "KBA05_ZUL3                        133324    15.0\n",
      "KBA05_ZUL4                        133324    15.0\n",
      "KBA13_ALTERHALTER_30              105800    11.9\n",
      "KBA13_ALTERHALTER_45              105800    11.9\n",
      "KBA13_ALTERHALTER_60              105800    11.9\n",
      "KBA13_ALTERHALTER_61              105800    11.9\n",
      "KBA13_ANTG1                       105800    11.9\n",
      "KBA13_ANTG2                       105800    11.9\n",
      "KBA13_ANTG3                       105800    11.9\n",
      "KBA13_ANTG4                       105800    11.9\n",
      "KBA13_ANZAHL_PKW                  105800    11.9\n",
      "KBA13_AUDI                        105800    11.9\n",
      "KBA13_AUTOQUOTE                   105800    11.9\n",
      "KBA13_BAUMAX                      105800    11.9\n",
      "KBA13_BJ_1999                     105800    11.9\n",
      "KBA13_BJ_2000                     105800    11.9\n",
      "KBA13_BJ_2004                     105800    11.9\n",
      "KBA13_BJ_2006                     105800    11.9\n",
      "KBA13_BJ_2008                     105800    11.9\n",
      "KBA13_BJ_2009                     105800    11.9\n",
      "KBA13_BMW                         105800    11.9\n",
      "KBA13_CCM_0_1400                  105800    11.9\n",
      "KBA13_CCM_1000                    105800    11.9\n",
      "KBA13_CCM_1200                    105800    11.9\n",
      "KBA13_CCM_1400                    105800    11.9\n",
      "KBA13_CCM_1401_2500               105800    11.9\n",
      "KBA13_CCM_1500                    105800    11.9\n",
      "KBA13_CCM_1600                    105800    11.9\n",
      "KBA13_CCM_1800                    105800    11.9\n",
      "KBA13_CCM_2000                    105800    11.9\n",
      "KBA13_CCM_2500                    105800    11.9\n",
      "KBA13_CCM_2501                    105800    11.9\n",
      "KBA13_CCM_3000                    105800    11.9\n",
      "KBA13_CCM_3001                    105800    11.9\n",
      "KBA13_FAB_ASIEN                   105800    11.9\n",
      "KBA13_FAB_SONSTIGE                105800    11.9\n",
      "KBA13_FIAT                        105800    11.9\n",
      "KBA13_FORD                        105800    11.9\n",
      "KBA13_GBZ                         105800    11.9\n",
      "KBA13_HALTER_20                   105800    11.9\n",
      "KBA13_HALTER_25                   105800    11.9\n",
      "KBA13_HALTER_30                   105800    11.9\n",
      "KBA13_HALTER_35                   105800    11.9\n",
      "KBA13_HALTER_40                   105800    11.9\n",
      "KBA13_HALTER_45                   105800    11.9\n",
      "KBA13_HALTER_50                   105800    11.9\n",
      "KBA13_HALTER_55                   105800    11.9\n",
      "KBA13_HALTER_60                   105800    11.9\n",
      "KBA13_HALTER_65                   105800    11.9\n",
      "KBA13_HALTER_66                   105800    11.9\n",
      "KBA13_HERST_ASIEN                 105800    11.9\n",
      "KBA13_HERST_AUDI_VW               105800    11.9\n",
      "KBA13_HERST_BMW_BENZ              105800    11.9\n",
      "KBA13_HERST_EUROPA                105800    11.9\n",
      "KBA13_HERST_FORD_OPEL             105800    11.9\n",
      "KBA13_HERST_SONST                 105800    11.9\n",
      "KBA13_HHZ                         105800    11.9\n",
      "KBA13_KMH_0_140                   105800    11.9\n",
      "KBA13_KMH_110                     105800    11.9\n",
      "KBA13_KMH_140                     105800    11.9\n",
      "KBA13_KMH_140_210                 105800    11.9\n",
      "KBA13_KMH_180                     105800    11.9\n",
      "KBA13_KMH_210                     105800    11.9\n",
      "KBA13_KMH_211                     105800    11.9\n",
      "KBA13_KMH_250                     105800    11.9\n",
      "KBA13_KMH_251                     105800    11.9\n",
      "KBA13_KRSAQUOT                    105800    11.9\n",
      "KBA13_KRSHERST_AUDI_VW            105800    11.9\n",
      "KBA13_KRSHERST_BMW_BENZ           105800    11.9\n",
      "KBA13_KRSHERST_FORD_OPEL          105800    11.9\n",
      "KBA13_KRSSEG_KLEIN                105800    11.9\n",
      "KBA13_KRSSEG_OBER                 105800    11.9\n",
      "KBA13_KRSSEG_VAN                  105800    11.9\n",
      "KBA13_KRSZUL_NEU                  105800    11.9\n",
      "KBA13_KW_0_60                     105800    11.9\n",
      "KBA13_KW_110                      105800    11.9\n",
      "KBA13_KW_120                      105800    11.9\n",
      "KBA13_KW_121                      105800    11.9\n",
      "KBA13_KW_30                       105800    11.9\n",
      "KBA13_KW_40                       105800    11.9\n",
      "KBA13_KW_50                       105800    11.9\n",
      "KBA13_KW_60                       105800    11.9\n",
      "KBA13_KW_61_120                   105800    11.9\n",
      "KBA13_KW_70                       105800    11.9\n",
      "KBA13_KW_80                       105800    11.9\n",
      "KBA13_KW_90                       105800    11.9\n"
     ]
    },
    {
     "name": "stdout",
     "output_type": "stream",
     "text": [
      "KBA13_MAZDA                       105800    11.9\n",
      "KBA13_MERCEDES                    105800    11.9\n",
      "KBA13_MOTOR                       105800    11.9\n",
      "KBA13_NISSAN                      105800    11.9\n",
      "KBA13_OPEL                        105800    11.9\n",
      "KBA13_PEUGEOT                     105800    11.9\n",
      "KBA13_RENAULT                     105800    11.9\n",
      "KBA13_SEG_GELAENDEWAGEN           105800    11.9\n",
      "KBA13_SEG_GROSSRAUMVANS           105800    11.9\n",
      "KBA13_SEG_KLEINST                 105800    11.9\n",
      "KBA13_SEG_KLEINWAGEN              105800    11.9\n",
      "KBA13_SEG_KOMPAKTKLASSE           105800    11.9\n",
      "KBA13_SEG_MINIVANS                105800    11.9\n",
      "KBA13_SEG_MINIWAGEN               105800    11.9\n",
      "KBA13_SEG_MITTELKLASSE            105800    11.9\n",
      "KBA13_SEG_OBEREMITTELKLASSE       105800    11.9\n",
      "KBA13_SEG_OBERKLASSE              105800    11.9\n",
      "KBA13_SEG_SONSTIGE                105800    11.9\n",
      "KBA13_SEG_SPORTWAGEN              105800    11.9\n",
      "KBA13_SEG_UTILITIES               105800    11.9\n",
      "KBA13_SEG_VAN                     105800    11.9\n",
      "KBA13_SEG_WOHNMOBILE              105800    11.9\n",
      "KBA13_SITZE_4                     105800    11.9\n",
      "KBA13_SITZE_5                     105800    11.9\n",
      "KBA13_SITZE_6                     105800    11.9\n",
      "KBA13_TOYOTA                      105800    11.9\n",
      "KBA13_VORB_0                      105800    11.9\n",
      "KBA13_VORB_1                      105800    11.9\n",
      "KBA13_VORB_1_2                    105800    11.9\n",
      "KBA13_VORB_2                      105800    11.9\n",
      "KBA13_VORB_3                      105800    11.9\n",
      "KBA13_VW                          105800    11.9\n",
      "KK_KUNDENTYP                      584612    65.6\n",
      "KKK                               121196    13.6\n",
      "KONSUMNAEHE                        73969    8.3\n",
      "KONSUMZELLE                        93155    10.5\n",
      "LP_FAMILIE_FEIN                     4854    0.5\n",
      "LP_FAMILIE_GROB                     4854    0.5\n",
      "LP_LEBENSPHASE_FEIN                 4854    0.5\n",
      "LP_LEBENSPHASE_GROB                 4854    0.5\n",
      "LP_STATUS_FEIN                      4854    0.5\n",
      "LP_STATUS_GROB                      4854    0.5\n",
      "MIN_GEBAEUDEJAHR                   93148    10.5\n",
      "MOBI_RASTER                        93148    10.5\n",
      "MOBI_REGIO                        133324    15.0\n",
      "ONLINE_AFFINITAET                   4854    0.5\n",
      "ORTSGR_KLS9                        97216    10.9\n",
      "OST_WEST_KZ                        93148    10.5\n",
      "PLZ8_ANTG1                        116515    13.1\n",
      "PLZ8_ANTG2                        116515    13.1\n",
      "PLZ8_ANTG3                        116515    13.1\n",
      "PLZ8_ANTG4                        116515    13.1\n",
      "PLZ8_BAUMAX                       116515    13.1\n",
      "PLZ8_GBZ                          116515    13.1\n",
      "PLZ8_HHZ                          116515    13.1\n",
      "REGIOTYP                          121196    13.6\n",
      "RELAT_AB                           97216    10.9\n",
      "RETOURTYP_BK_S                      4854    0.5\n",
      "RT_KEIN_ANREIZ                      4854    0.5\n",
      "RT_SCHNAEPPCHEN                     4854    0.5\n",
      "RT_UEBERGROESSE                    51226    5.7\n",
      "SOHO_KZ                            73499    8.2\n",
      "STRUKTURTYP                        97274    10.9\n",
      "TITEL_KZ                           73499    8.2\n",
      "UMFELD_ALT                         97786    11.0\n",
      "UMFELD_JUNG                        97786    11.0\n",
      "UNGLEICHENN_FLAG                   73499    8.2\n",
      "VERDICHTUNGSRAUM                   97274    10.9\n",
      "VHA                                73499    8.2\n",
      "VHN                               121196    13.6\n",
      "VK_DHT4A                           75917    8.5\n",
      "VK_DISTANZ                         75917    8.5\n",
      "VK_ZG11                            75917    8.5\n",
      "W_KEIT_KIND_HH                    107602    12.1\n",
      "WOHNDAUER_2008                     73499    8.2\n",
      "WOHNLAGE                           93148    10.5\n",
      "\n",
      "Number of features with missing values:  273\n"
     ]
    }
   ],
   "source": [
    "# assess missing values\n",
    "n_records = azdias.shape[0]\n",
    "n_features = azdias.shape[1]\n",
    "missing_count = 0\n",
    "\n",
    "print('Feature', 20*(' '), 'Missing data   Percent')\n",
    "for n in range (0, n_features):\n",
    "    col = azdias.columns[n]\n",
    "    ms = azdias.iloc[:, n].isnull().sum()\n",
    "    if ms !=0:\n",
    "        missing_count +=1\n",
    "        print('{:30s}  {:8d}    {:.1f}'.format(azdias.columns[n], ms, ms/n_records*100))\n",
    "        \n",
    "print('\\nNumber of features with missing values: ', missing_count)"
   ]
  },
  {
   "cell_type": "code",
   "execution_count": null,
   "metadata": {},
   "outputs": [],
   "source": []
  },
  {
   "cell_type": "code",
   "execution_count": 93,
   "metadata": {},
   "outputs": [],
   "source": [
    "def show_missing_data(df, cutoff):\n",
    "    '''\n",
    "    This function displays the percent amount of missing data in df\n",
    "    INPUT:\n",
    "    df - a dataframe\n",
    "    cutoff - reference level for missing data e.g., 25.0 (float)\n",
    "    \n",
    "    OUTPUT:\n",
    "    missing_df - dataframe with index = df.columns exceeding cutoff, and value = % amount missing data\n",
    "    '''\n",
    "    n_rows = df.shape[0]\n",
    "    missing_cols = df.isna().sum()[df.isna().sum() > 0]\n",
    "    missing_dict = {'missing_pct': np.round(missing_cols/n_rows*100)}\n",
    "\n",
    "    missing_df = pd.DataFrame(data=missing_dict, index=missing_cols.index)\n",
    "    missing_df.sort_values(by='missing_pct', ascending=False, inplace=True)\n",
    "       \n",
    "    return missing_df[missing_df['missing_pct'] > cutoff]                                                      "
   ]
  },
  {
   "cell_type": "code",
   "execution_count": 94,
   "metadata": {},
   "outputs": [
    {
     "name": "stdout",
     "output_type": "stream",
     "text": [
      "Top 10 features with more than 25% missing data (descending)\n"
     ]
    },
    {
     "data": {
      "text/html": [
       "<div>\n",
       "<style scoped>\n",
       "    .dataframe tbody tr th:only-of-type {\n",
       "        vertical-align: middle;\n",
       "    }\n",
       "\n",
       "    .dataframe tbody tr th {\n",
       "        vertical-align: top;\n",
       "    }\n",
       "\n",
       "    .dataframe thead th {\n",
       "        text-align: right;\n",
       "    }\n",
       "</style>\n",
       "<table border=\"1\" class=\"dataframe\">\n",
       "  <thead>\n",
       "    <tr style=\"text-align: right;\">\n",
       "      <th></th>\n",
       "      <th>missing_pct</th>\n",
       "    </tr>\n",
       "  </thead>\n",
       "  <tbody>\n",
       "    <tr>\n",
       "      <th>ALTER_KIND4</th>\n",
       "      <td>100.0</td>\n",
       "    </tr>\n",
       "    <tr>\n",
       "      <th>ALTER_KIND3</th>\n",
       "      <td>99.0</td>\n",
       "    </tr>\n",
       "    <tr>\n",
       "      <th>ALTER_KIND2</th>\n",
       "      <td>97.0</td>\n",
       "    </tr>\n",
       "    <tr>\n",
       "      <th>ALTER_KIND1</th>\n",
       "      <td>91.0</td>\n",
       "    </tr>\n",
       "    <tr>\n",
       "      <th>EXTSEL992</th>\n",
       "      <td>73.0</td>\n",
       "    </tr>\n",
       "    <tr>\n",
       "      <th>KK_KUNDENTYP</th>\n",
       "      <td>66.0</td>\n",
       "    </tr>\n",
       "    <tr>\n",
       "      <th>D19_LETZTER_KAUF_BRANCHE</th>\n",
       "      <td>51.0</td>\n",
       "    </tr>\n",
       "    <tr>\n",
       "      <th>ALTERSKATEGORIE_FEIN</th>\n",
       "      <td>30.0</td>\n",
       "    </tr>\n",
       "    <tr>\n",
       "      <th>D19_SOZIALES</th>\n",
       "      <td>29.0</td>\n",
       "    </tr>\n",
       "    <tr>\n",
       "      <th>D19_LOTTO</th>\n",
       "      <td>29.0</td>\n",
       "    </tr>\n",
       "  </tbody>\n",
       "</table>\n",
       "</div>"
      ],
      "text/plain": [
       "                          missing_pct\n",
       "ALTER_KIND4                     100.0\n",
       "ALTER_KIND3                      99.0\n",
       "ALTER_KIND2                      97.0\n",
       "ALTER_KIND1                      91.0\n",
       "EXTSEL992                        73.0\n",
       "KK_KUNDENTYP                     66.0\n",
       "D19_LETZTER_KAUF_BRANCHE         51.0\n",
       "ALTERSKATEGORIE_FEIN             30.0\n",
       "D19_SOZIALES                     29.0\n",
       "D19_LOTTO                        29.0"
      ]
     },
     "execution_count": 94,
     "metadata": {},
     "output_type": "execute_result"
    }
   ],
   "source": [
    "# look for features above the 25% cutoff\n",
    "nas_25 = show_missing_data(azdias, 25)\n",
    "print('Top 10 features with more than 25% missing data (descending)')\n",
    "nas_25.head(10)"
   ]
  },
  {
   "cell_type": "code",
   "execution_count": 95,
   "metadata": {},
   "outputs": [
    {
     "name": "stdout",
     "output_type": "stream",
     "text": [
      "Top 10 features with more than 5% missing data (ascending)\n"
     ]
    },
    {
     "data": {
      "text/html": [
       "<div>\n",
       "<style scoped>\n",
       "    .dataframe tbody tr th:only-of-type {\n",
       "        vertical-align: middle;\n",
       "    }\n",
       "\n",
       "    .dataframe tbody tr th {\n",
       "        vertical-align: top;\n",
       "    }\n",
       "\n",
       "    .dataframe thead th {\n",
       "        text-align: right;\n",
       "    }\n",
       "</style>\n",
       "<table border=\"1\" class=\"dataframe\">\n",
       "  <thead>\n",
       "    <tr style=\"text-align: right;\">\n",
       "      <th></th>\n",
       "      <th>missing_pct</th>\n",
       "    </tr>\n",
       "  </thead>\n",
       "  <tbody>\n",
       "    <tr>\n",
       "      <th>ANZ_PERSONEN</th>\n",
       "      <td>8.0</td>\n",
       "    </tr>\n",
       "    <tr>\n",
       "      <th>UNGLEICHENN_FLAG</th>\n",
       "      <td>8.0</td>\n",
       "    </tr>\n",
       "    <tr>\n",
       "      <th>VHA</th>\n",
       "      <td>8.0</td>\n",
       "    </tr>\n",
       "    <tr>\n",
       "      <th>ANZ_KINDER</th>\n",
       "      <td>8.0</td>\n",
       "    </tr>\n",
       "    <tr>\n",
       "      <th>WOHNDAUER_2008</th>\n",
       "      <td>8.0</td>\n",
       "    </tr>\n",
       "    <tr>\n",
       "      <th>SOHO_KZ</th>\n",
       "      <td>8.0</td>\n",
       "    </tr>\n",
       "    <tr>\n",
       "      <th>AKT_DAT_KL</th>\n",
       "      <td>8.0</td>\n",
       "    </tr>\n",
       "    <tr>\n",
       "      <th>EINGEZOGENAM_HH_JAHR</th>\n",
       "      <td>8.0</td>\n",
       "    </tr>\n",
       "    <tr>\n",
       "      <th>KONSUMNAEHE</th>\n",
       "      <td>8.0</td>\n",
       "    </tr>\n",
       "    <tr>\n",
       "      <th>RT_UEBERGROESSE</th>\n",
       "      <td>6.0</td>\n",
       "    </tr>\n",
       "  </tbody>\n",
       "</table>\n",
       "</div>"
      ],
      "text/plain": [
       "                      missing_pct\n",
       "ANZ_PERSONEN                  8.0\n",
       "UNGLEICHENN_FLAG              8.0\n",
       "VHA                           8.0\n",
       "ANZ_KINDER                    8.0\n",
       "WOHNDAUER_2008                8.0\n",
       "SOHO_KZ                       8.0\n",
       "AKT_DAT_KL                    8.0\n",
       "EINGEZOGENAM_HH_JAHR          8.0\n",
       "KONSUMNAEHE                   8.0\n",
       "RT_UEBERGROESSE               6.0"
      ]
     },
     "execution_count": 95,
     "metadata": {},
     "output_type": "execute_result"
    }
   ],
   "source": [
    "# For use subsequently\n",
    "# record columns with few nans\n",
    "nas_5 = show_missing_data(azdias, 5)\n",
    "print('Top 10 features with more than 5% missing data (ascending)')\n",
    "nas_5.tail(10)"
   ]
  },
  {
   "cell_type": "code",
   "execution_count": 96,
   "metadata": {},
   "outputs": [
    {
     "name": "stdout",
     "output_type": "stream",
     "text": [
      "['ALTER_KIND4', 'ALTER_KIND3', 'ALTER_KIND2', 'ALTER_KIND1', 'EXTSEL992', 'KK_KUNDENTYP']\n"
     ]
    }
   ],
   "source": [
    "# drop the outliers.  \n",
    "# As a first pass, drop the six features with the most missing data\n",
    "outliers = list(nas_25.iloc[:6,:].index)\n",
    "print(outliers)"
   ]
  },
  {
   "cell_type": "code",
   "execution_count": 97,
   "metadata": {},
   "outputs": [
    {
     "name": "stdout",
     "output_type": "stream",
     "text": [
      "(891221, 360)\n"
     ]
    }
   ],
   "source": [
    "azdias_sub = azdias.drop(outliers, axis=1)\n",
    "print(azdias_sub.shape)"
   ]
  },
  {
   "cell_type": "markdown",
   "metadata": {},
   "source": [
    "**We will now explore the missing data in rows**\n",
    "\n",
    "In particular, we will examine/contrast the distribution of null values in rows for the features having the most NaNs and the distribution of null values in rows for the features having the least NaNs. "
   ]
  },
  {
   "cell_type": "code",
   "execution_count": 98,
   "metadata": {},
   "outputs": [
    {
     "name": "stdout",
     "output_type": "stream",
     "text": [
      "mean of missing data in each row: 37.8\n",
      "max of missing data in each row: 259.0\n"
     ]
    }
   ],
   "source": [
    "nan_rows = azdias.isna().sum(axis=1)\n",
    "print('mean of missing data in each row: {:.1f}'.format(nan_rows.mean()))\n",
    "print('max of missing data in each row: {:.1f}'.format(nan_rows.max()))\n"
   ]
  },
  {
   "cell_type": "code",
   "execution_count": 99,
   "metadata": {},
   "outputs": [],
   "source": [
    "# segment the rows in two parts, above and below a given % of NaNs\n",
    "def nan_in_rows (df, k):\n",
    "    df_more = df.loc[df.isna().sum(axis=1) >= k, :]\n",
    "    print('Number of rows with at least {} % missing values : {} '.format(k, df_more.shape[0]))\n",
    "    \n",
    "    df_less = df.loc[df.isna().sum(axis=1) < k, :]\n",
    "    print('Number of rows with fewer than {} % missing values : {} '.format(k, df_less.shape[0]))\n",
    "    \n",
    "    return df_more, df_less"
   ]
  },
  {
   "cell_type": "code",
   "execution_count": 100,
   "metadata": {},
   "outputs": [
    {
     "name": "stdout",
     "output_type": "stream",
     "text": [
      "Number of rows with at least 10.0 % missing values : 247144 \n",
      "Number of rows with fewer than 10.0 % missing values : 644077 \n"
     ]
    }
   ],
   "source": [
    "azdias_more, azdias_less = nan_in_rows(azdias_sub, 10.0)"
   ]
  },
  {
   "cell_type": "code",
   "execution_count": 101,
   "metadata": {},
   "outputs": [
    {
     "name": "stdout",
     "output_type": "stream",
     "text": [
      "['D19_LETZTER_KAUF_BRANCHE', 'ALTERSKATEGORIE_FEIN', 'D19_SOZIALES', 'D19_LOTTO', 'D19_BANKEN_ONLINE_QUOTE_12', 'D19_GESAMT_ONLINE_QUOTE_12', 'D19_KONSUMTYP', 'D19_TELKO_ONLINE_QUOTE_12', 'D19_VERSAND_ONLINE_QUOTE_12', 'D19_VERSI_ONLINE_QUOTE_12']\n"
     ]
    }
   ],
   "source": [
    "# Define as 'high_nans' the 10 features with null values right below the outliers (29-30% missing)\n",
    "high_nans = list(nas_25.iloc[6:,:].index)\n",
    "print(high_nans)"
   ]
  },
  {
   "cell_type": "code",
   "execution_count": 102,
   "metadata": {},
   "outputs": [],
   "source": [
    "# how are the 'high_nans' contributing to the nans in rows?\n",
    "def compare_nan_in_rows(feat, c1, c2):\n",
    "    \n",
    "    plt.figure(figsize=(30, 5))\n",
    "    plt.subplot(121)\n",
    "    sns.countplot(y=feat, data=azdias_more, color=c1)\n",
    "    \n",
    "    plt.subplot(122)\n",
    "    sns.countplot(y=feat, data=azdias_less, color=c2)\n",
    "    plt.show()\n",
    "    "
   ]
  },
  {
   "cell_type": "code",
   "execution_count": 103,
   "metadata": {},
   "outputs": [
    {
     "data": {
      "image/png": "[encoded data removed]",
      "text/plain": [
       "<Figure size 2160x360 with 2 Axes>"
      ]
     },
     "metadata": {
      "needs_background": "light"
     },
     "output_type": "display_data"
    },
    {
     "data": {
      "image/png": "[encoded data removed]",
      "text/plain": [
       "<Figure size 2160x360 with 2 Axes>"
      ]
     },
     "metadata": {
      "needs_background": "light"
     },
     "output_type": "display_data"
    },
    {
     "data": {
      "image/png": "[encoded data removed]",
      "text/plain": [
       "<Figure size 2160x360 with 2 Axes>"
      ]
     },
     "metadata": {
      "needs_background": "light"
     },
     "output_type": "display_data"
    },
    {
     "data": {
      "image/png": "[encoded data removed]",
      "text/plain": [
       "<Figure size 2160x360 with 2 Axes>"
      ]
     },
     "metadata": {
      "needs_background": "light"
     },
     "output_type": "display_data"
    },
    {
     "data": {
      "image/png": "[encoded data removed]",
      "text/plain": [
       "<Figure size 2160x360 with 2 Axes>"
      ]
     },
     "metadata": {
      "needs_background": "light"
     },
     "output_type": "display_data"
    },
    {
     "data": {
      "image/png": "[encoded data removed]",
      "text/plain": [
       "<Figure size 2160x360 with 2 Axes>"
      ]
     },
     "metadata": {
      "needs_background": "light"
     },
     "output_type": "display_data"
    },
    {
     "data": {
      "image/png": "[encoded data removed]",
      "text/plain": [
       "<Figure size 2160x360 with 2 Axes>"
      ]
     },
     "metadata": {
      "needs_background": "light"
     },
     "output_type": "display_data"
    },
    {
     "data": {
      "image/png": "[encoded data removed]",
      "text/plain": [
       "<Figure size 2160x360 with 2 Axes>"
      ]
     },
     "metadata": {
      "needs_background": "light"
     },
     "output_type": "display_data"
    },
    {
     "data": {
      "image/png": "[encoded data removed]",
      "text/plain": [
       "<Figure size 2160x360 with 2 Axes>"
      ]
     },
     "metadata": {
      "needs_background": "light"
     },
     "output_type": "display_data"
    },
    {
     "data": {
      "image/png": "[encoded data removed]",
      "text/plain": [
       "<Figure size 2160x360 with 2 Axes>"
      ]
     },
     "metadata": {
      "needs_background": "light"
     },
     "output_type": "display_data"
    }
   ],
   "source": [
    "\n",
    "for high_nan in high_nans:\n",
    "    compare_nan_in_rows(high_nan, 'orange', 'grey')"
   ]
  },
  {
   "cell_type": "code",
   "execution_count": null,
   "metadata": {},
   "outputs": [],
   "source": [
    "\n"
   ]
  },
  {
   "cell_type": "code",
   "execution_count": 104,
   "metadata": {},
   "outputs": [
    {
     "name": "stdout",
     "output_type": "stream",
     "text": [
      "['UNGLEICHENN_FLAG', 'VHA', 'ANZ_KINDER', 'WOHNDAUER_2008', 'SOHO_KZ', 'AKT_DAT_KL', 'EINGEZOGENAM_HH_JAHR', 'KONSUMNAEHE', 'RT_UEBERGROESSE']\n"
     ]
    }
   ],
   "source": [
    "# define as 'low_nans' the 10 features above the 5% cutoff and compare the nan distributions in rows\n",
    "low_nans = list(nas_5.iloc[-9:,:].index)\n",
    "print(low_nans)"
   ]
  },
  {
   "cell_type": "code",
   "execution_count": 105,
   "metadata": {},
   "outputs": [
    {
     "data": {
      "image/png": "[encoded data removed]",
      "text/plain": [
       "<Figure size 2160x360 with 2 Axes>"
      ]
     },
     "metadata": {
      "needs_background": "light"
     },
     "output_type": "display_data"
    },
    {
     "data": {
      "image/png": "[encoded data removed]",
      "text/plain": [
       "<Figure size 2160x360 with 2 Axes>"
      ]
     },
     "metadata": {
      "needs_background": "light"
     },
     "output_type": "display_data"
    },
    {
     "data": {
      "image/png": "[encoded data removed]",
      "text/plain": [
       "<Figure size 2160x360 with 2 Axes>"
      ]
     },
     "metadata": {
      "needs_background": "light"
     },
     "output_type": "display_data"
    },
    {
     "data": {
      "image/png": "[encoded data removed]",
      "text/plain": [
       "<Figure size 2160x360 with 2 Axes>"
      ]
     },
     "metadata": {
      "needs_background": "light"
     },
     "output_type": "display_data"
    },
    {
     "data": {
      "image/png": "[encoded data removed]",
      "text/plain": [
       "<Figure size 2160x360 with 2 Axes>"
      ]
     },
     "metadata": {
      "needs_background": "light"
     },
     "output_type": "display_data"
    },
    {
     "data": {
      "image/png": "[encoded data removed]",
      "text/plain": [
       "<Figure size 2160x360 with 2 Axes>"
      ]
     },
     "metadata": {
      "needs_background": "light"
     },
     "output_type": "display_data"
    },
    {
     "data": {
      "image/png": "[encoded data removed]",
      "text/plain": [
       "<Figure size 2160x360 with 2 Axes>"
      ]
     },
     "metadata": {
      "needs_background": "light"
     },
     "output_type": "display_data"
    },
    {
     "data": {
      "image/png": "[encoded data removed]",
      "text/plain": [
       "<Figure size 2160x360 with 2 Axes>"
      ]
     },
     "metadata": {
      "needs_background": "light"
     },
     "output_type": "display_data"
    },
    {
     "data": {
      "image/png": "[encoded data removed]",
      "text/plain": [
       "<Figure size 2160x360 with 2 Axes>"
      ]
     },
     "metadata": {
      "needs_background": "light"
     },
     "output_type": "display_data"
    }
   ],
   "source": [
    "# compare the distributions in rows\n",
    "for low_nan in low_nans:\n",
    "    compare_nan_in_rows(low_nan, 'cyan', 'blue')"
   ]
  },
  {
   "cell_type": "markdown",
   "metadata": {},
   "source": [
    "**Discussion**\n",
    "\n",
    "This visual comparison of the data in the subset of rows containing 10% or more missing values with those of the subset of rows with fewer than 10% missing values shows that the distributions are similar.  Therefore, we conclude that dropping those rows from the analysis is justified, i.e., the final results should not be affected.  "
   ]
  },
  {
   "cell_type": "code",
   "execution_count": 106,
   "metadata": {},
   "outputs": [
    {
     "name": "stdout",
     "output_type": "stream",
     "text": [
      "(891221, 360)\n",
      "(644077, 360)\n",
      "(644077, 360)\n"
     ]
    }
   ],
   "source": [
    "#set azdias_sub to include only rows with fewer than 10% missing values\n",
    "print(azdias_sub.shape)\n",
    "print(azdias_less.shape)\n",
    "azdias_sub = azdias_less\n",
    "print(azdias_sub.shape)"
   ]
  },
  {
   "cell_type": "markdown",
   "metadata": {},
   "source": [
    "**Dealing with 'Unknown/missing' codes**\n",
    "\n",
    "We have a file specifying the feature types (e.g, categorical, numerical) and codes for \n",
    "missing or unknown data.  The data were inferred from the spreadsheets provided:\n",
    "DIAS Attributes - Values 2017 and DIAS Information Levels - Attributes 2017."
   ]
  },
  {
   "cell_type": "code",
   "execution_count": 107,
   "metadata": {},
   "outputs": [
    {
     "name": "stdout",
     "output_type": "stream",
     "text": [
      "(313, 4)\n"
     ]
    },
    {
     "data": {
      "text/html": [
       "<div>\n",
       "<style scoped>\n",
       "    .dataframe tbody tr th:only-of-type {\n",
       "        vertical-align: middle;\n",
       "    }\n",
       "\n",
       "    .dataframe tbody tr th {\n",
       "        vertical-align: top;\n",
       "    }\n",
       "\n",
       "    .dataframe thead th {\n",
       "        text-align: right;\n",
       "    }\n",
       "</style>\n",
       "<table border=\"1\" class=\"dataframe\">\n",
       "  <thead>\n",
       "    <tr style=\"text-align: right;\">\n",
       "      <th></th>\n",
       "      <th>Attribute</th>\n",
       "      <th>Description</th>\n",
       "      <th>Type</th>\n",
       "      <th>missing_or_unknown</th>\n",
       "    </tr>\n",
       "  </thead>\n",
       "  <tbody>\n",
       "    <tr>\n",
       "      <th>0</th>\n",
       "      <td>AGER_TYP</td>\n",
       "      <td>best-ager typology</td>\n",
       "      <td>categorical</td>\n",
       "      <td>[-1]</td>\n",
       "    </tr>\n",
       "    <tr>\n",
       "      <th>1</th>\n",
       "      <td>ALTERSKATEGORIE_GROB</td>\n",
       "      <td>age through prename analysis</td>\n",
       "      <td>ordinal</td>\n",
       "      <td>[-1,0]</td>\n",
       "    </tr>\n",
       "    <tr>\n",
       "      <th>2</th>\n",
       "      <td>ANREDE_KZ</td>\n",
       "      <td>gender</td>\n",
       "      <td>categorical</td>\n",
       "      <td>[-1,0]</td>\n",
       "    </tr>\n",
       "    <tr>\n",
       "      <th>3</th>\n",
       "      <td>CJT_GESAMTTYP</td>\n",
       "      <td>Customer-Journey-Typology relating to the pref...</td>\n",
       "      <td>categorical</td>\n",
       "      <td>[0]</td>\n",
       "    </tr>\n",
       "    <tr>\n",
       "      <th>4</th>\n",
       "      <td>FINANZ_MINIMALIST</td>\n",
       "      <td>financial typology: low financial interest</td>\n",
       "      <td>ordinal</td>\n",
       "      <td>[-1]</td>\n",
       "    </tr>\n",
       "  </tbody>\n",
       "</table>\n",
       "</div>"
      ],
      "text/plain": [
       "              Attribute                                        Description  \\\n",
       "0              AGER_TYP                                 best-ager typology   \n",
       "1  ALTERSKATEGORIE_GROB                      age through prename analysis    \n",
       "2             ANREDE_KZ                                             gender   \n",
       "3         CJT_GESAMTTYP  Customer-Journey-Typology relating to the pref...   \n",
       "4     FINANZ_MINIMALIST         financial typology: low financial interest   \n",
       "\n",
       "          Type missing_or_unknown  \n",
       "0  categorical               [-1]  \n",
       "1      ordinal             [-1,0]  \n",
       "2  categorical             [-1,0]  \n",
       "3  categorical                [0]  \n",
       "4      ordinal               [-1]  "
      ]
     },
     "execution_count": 107,
     "metadata": {},
     "output_type": "execute_result"
    }
   ],
   "source": [
    "# read variable_info.csv.\n",
    "\n",
    "df_info = pd.read_csv('variable_info.csv')\n",
    "print(df_info.shape)\n",
    "df_info.head()"
   ]
  },
  {
   "cell_type": "code",
   "execution_count": 108,
   "metadata": {},
   "outputs": [
    {
     "name": "stdout",
     "output_type": "stream",
     "text": [
      "Number of numeric features: 7\n",
      "Number of ordinal features: 272\n",
      "Number of mixed features: 8\n",
      "Number of categorical features: 26\n"
     ]
    }
   ],
   "source": [
    "# Summarize feature types\n",
    "def find_variable_types(type):\n",
    "    var = df_info.loc[df_info['Type'] == type, 'Attribute'].values\n",
    "    print(\"Number of {} features: {}\".format(type, var.shape[0]))\n",
    "    return var\n",
    "num_types = find_variable_types('numeric')\n",
    "ord_types = find_variable_types('ordinal')\n",
    "mix_types = find_variable_types('mixed')\n",
    "cat_types = find_variable_types('categorical')\n"
   ]
  },
  {
   "cell_type": "markdown",
   "metadata": {},
   "source": [
    "**Note**\n",
    "\n",
    "`df_info` provides type information for some, but not all the features included in `azdias`.  It also provides information on some features not included in `azdias`.  In other words, a subset of the indices of `df_info` matches a subset of the columns of `azdias`--the \"common\" features. The `df_info` indices not included in \"common\" are unique to `df_info`, while the `azdias` columns not included in \"common\" are unique to `azdias`. The former can be removed as they are not germane to the analysis.  The latter have to be investigated further.\n"
   ]
  },
  {
   "cell_type": "code",
   "execution_count": 109,
   "metadata": {},
   "outputs": [
    {
     "name": "stdout",
     "output_type": "stream",
     "text": [
      "common part 264\n",
      "delta1:  49\n",
      "delta2:  96\n"
     ]
    }
   ],
   "source": [
    "# identify the overlap between df_info and azdias_sub\n",
    "common = np.intersect1d(list(df_info['Attribute']), list(azdias_sub.columns))\n",
    "\n",
    "# identify the features unique to df_info\n",
    "delta1 = np.setdiff1d(list(df_info['Attribute']), list(azdias_sub.columns), assume_unique=True)\n",
    "\n",
    "# identify the features unique to azdias_sub\n",
    "delta2 = np.setdiff1d(list(azdias_sub.columns), list(df_info['Attribute']), assume_unique=True)\n",
    "\n",
    "print(\"common part\", len(common))\n",
    "print(\"delta1: \", len(delta1))\n",
    "print(\"delta2: \", len(delta2))\n"
   ]
  },
  {
   "cell_type": "markdown",
   "metadata": {},
   "source": [
    "In the following, we will review the 89 features for which we were not explicitly provided type information, retain those we understand, and discard the rest."
   ]
  },
  {
   "cell_type": "code",
   "execution_count": 110,
   "metadata": {},
   "outputs": [
    {
     "name": "stdout",
     "output_type": "stream",
     "text": [
      "(264, 4)\n"
     ]
    }
   ],
   "source": [
    "# remove the df_info rows not needed\n",
    "common_idxs = df_info.index[df_info['Attribute'].isin(azdias_sub.columns)]\n",
    "df_info = df_info.loc[common_idxs,:]\n",
    "print(df_info.shape)"
   ]
  },
  {
   "cell_type": "code",
   "execution_count": 111,
   "metadata": {},
   "outputs": [
    {
     "name": "stdout",
     "output_type": "stream",
     "text": [
      "(644077, 96)\n"
     ]
    },
    {
     "data": {
      "text/plain": [
       "Index(['LNR', 'AKT_DAT_KL', 'ALTERSKATEGORIE_FEIN', 'ANZ_KINDER',\n",
       "       'ANZ_STATISTISCHE_HAUSHALTE', 'CAMEO_INTL_2015', 'CJT_KATALOGNUTZER',\n",
       "       'CJT_TYP_1', 'CJT_TYP_2', 'CJT_TYP_3', 'CJT_TYP_4', 'CJT_TYP_5',\n",
       "       'CJT_TYP_6', 'D19_BANKEN_ANZ_12', 'D19_BANKEN_ANZ_24',\n",
       "       'D19_BANKEN_DIREKT', 'D19_BANKEN_GROSS', 'D19_BANKEN_LOKAL',\n",
       "       'D19_BANKEN_REST', 'D19_BEKLEIDUNG_GEH', 'D19_BEKLEIDUNG_REST',\n",
       "       'D19_BILDUNG', 'D19_BIO_OEKO', 'D19_BUCH_CD', 'D19_DIGIT_SERV',\n",
       "       'D19_DROGERIEARTIKEL', 'D19_ENERGIE', 'D19_FREIZEIT', 'D19_GARTEN',\n",
       "       'D19_GESAMT_ANZ_12', 'D19_GESAMT_ANZ_24', 'D19_HANDWERK',\n",
       "       'D19_HAUS_DEKO', 'D19_KINDERARTIKEL', 'D19_KONSUMTYP_MAX',\n",
       "       'D19_KOSMETIK', 'D19_LEBENSMITTEL', 'D19_LETZTER_KAUF_BRANCHE',\n",
       "       'D19_LOTTO', 'D19_NAHRUNGSERGAENZUNG', 'D19_RATGEBER', 'D19_REISEN',\n",
       "       'D19_SAMMELARTIKEL', 'D19_SCHUHE', 'D19_SONSTIGE', 'D19_SOZIALES',\n",
       "       'D19_TECHNIK', 'D19_TELKO_ANZ_12', 'D19_TELKO_ANZ_24',\n",
       "       'D19_TELKO_MOBILE', 'D19_TELKO_ONLINE_QUOTE_12', 'D19_TELKO_REST',\n",
       "       'D19_TIERARTIKEL', 'D19_VERSAND_ANZ_12', 'D19_VERSAND_ANZ_24',\n",
       "       'D19_VERSAND_REST', 'D19_VERSI_ANZ_12', 'D19_VERSI_ANZ_24',\n",
       "       'D19_VERSI_ONLINE_QUOTE_12', 'D19_VERSICHERUNGEN', 'D19_VOLLSORTIMENT',\n",
       "       'D19_WEIN_FEINKOST', 'DSL_FLAG', 'EINGEFUEGT_AM',\n",
       "       'EINGEZOGENAM_HH_JAHR', 'FIRMENDICHTE', 'GEMEINDETYP', 'HH_DELTA_FLAG',\n",
       "       'KBA13_ANTG1', 'KBA13_ANTG2', 'KBA13_ANTG3', 'KBA13_ANTG4',\n",
       "       'KBA13_BAUMAX', 'KBA13_CCM_1401_2500', 'KBA13_CCM_3000',\n",
       "       'KBA13_CCM_3001', 'KBA13_GBZ', 'KBA13_HHZ', 'KBA13_KMH_210',\n",
       "       'KOMBIALTER', 'KONSUMZELLE', 'MOBI_RASTER', 'RT_KEIN_ANREIZ',\n",
       "       'RT_SCHNAEPPCHEN', 'RT_UEBERGROESSE', 'SOHO_KZ', 'STRUKTURTYP',\n",
       "       'UMFELD_ALT', 'UMFELD_JUNG', 'UNGLEICHENN_FLAG', 'VERDICHTUNGSRAUM',\n",
       "       'VHA', 'VHN', 'VK_DHT4A', 'VK_DISTANZ', 'VK_ZG11'],\n",
       "      dtype='object')"
      ]
     },
     "execution_count": 111,
     "metadata": {},
     "output_type": "execute_result"
    }
   ],
   "source": [
    "# create a \"to-do list\" of the features to be investigatd\n",
    "# remove the features from the list incrementally\n",
    "\n",
    "tbd_cols = azdias_sub.drop(common, axis=1)\n",
    "print(tbd_cols.shape)\n",
    "tbd_cols.columns"
   ]
  },
  {
   "cell_type": "code",
   "execution_count": 112,
   "metadata": {},
   "outputs": [],
   "source": [
    "# features with DA19_ and KBA13 prefix in df_info were of the ordinal type, \n",
    "#so we can assume this is true for the cols above.\n",
    "# drop these columns from further investigation.\n",
    "\n",
    "temp = ['D19_BANKEN_ANZ_12', 'D19_BANKEN_ANZ_24',\n",
    "       'D19_BANKEN_DIREKT', 'D19_BANKEN_GROSS', 'D19_BANKEN_LOKAL',\n",
    "       'D19_BANKEN_REST', 'D19_BEKLEIDUNG_GEH', 'D19_BEKLEIDUNG_REST',\n",
    "       'D19_BILDUNG', 'D19_BIO_OEKO', 'D19_BUCH_CD', 'D19_DIGIT_SERV',\n",
    "       'D19_DROGERIEARTIKEL', 'D19_ENERGIE', 'D19_FREIZEIT', 'D19_GARTEN',\n",
    "       'D19_GESAMT_ANZ_12', 'D19_GESAMT_ANZ_24', 'D19_HANDWERK',\n",
    "       'D19_HAUS_DEKO', 'D19_KINDERARTIKEL', 'D19_KONSUMTYP_MAX',\n",
    "       'D19_KOSMETIK', 'D19_LEBENSMITTEL', 'D19_LETZTER_KAUF_BRANCHE',\n",
    "       'D19_LOTTO', 'D19_NAHRUNGSERGAENZUNG', 'D19_RATGEBER', 'D19_REISEN',\n",
    "       'D19_SAMMELARTIKEL', 'D19_SCHUHE', 'D19_SONSTIGE', 'D19_SOZIALES',\n",
    "       'D19_TECHNIK', 'D19_TELKO_ANZ_12', 'D19_TELKO_ANZ_24',\n",
    "       'D19_TELKO_MOBILE', 'D19_TELKO_ONLINE_QUOTE_12', 'D19_TELKO_REST',\n",
    "       'D19_TIERARTIKEL', 'D19_VERSAND_ANZ_12', 'D19_VERSAND_ANZ_24',\n",
    "       'D19_VERSAND_REST', 'D19_VERSI_ANZ_12', 'D19_VERSI_ANZ_24',\n",
    "       'D19_VERSI_ONLINE_QUOTE_12', 'D19_VERSICHERUNGEN', 'D19_VOLLSORTIMENT',\n",
    "       'D19_WEIN_FEINKOST',]\n",
    "\n",
    "tbd_cols.drop(temp, axis=1, inplace=True)"
   ]
  },
  {
   "cell_type": "code",
   "execution_count": 113,
   "metadata": {},
   "outputs": [],
   "source": [
    "temp = ['KBA13_ANTG1','KBA13_ANTG2', 'KBA13_ANTG3', 'KBA13_ANTG4', 'KBA13_BAUMAX',\n",
    "       'KBA13_CCM_1401_2500', 'KBA13_CCM_3000', 'KBA13_CCM_3001', 'KBA13_GBZ',\n",
    "       'KBA13_HHZ', 'KBA13_KMH_210',]\n",
    "\n",
    "tbd_cols.drop(temp, axis=1, inplace=True)"
   ]
  },
  {
   "cell_type": "code",
   "execution_count": 114,
   "metadata": {},
   "outputs": [],
   "source": [
    "# The 'FLAG' features are binary, so they need no further treatment\n",
    "tbd_cols.drop(['DSL_FLAG','HH_DELTA_FLAG', 'UNGLEICHENN_FLAG'], axis=1, inplace=True)\n"
   ]
  },
  {
   "cell_type": "code",
   "execution_count": 115,
   "metadata": {},
   "outputs": [],
   "source": [
    "# by inspection, we see that the CJT_* features are ordinal, so they can stay as is.\n",
    "tbd_cols.drop(['CJT_KATALOGNUTZER','CJT_TYP_1', 'CJT_TYP_2', 'CJT_TYP_3', 'CJT_TYP_4', \n",
    "               'CJT_TYP_5','CJT_TYP_6', ], axis=1, inplace=True)\n"
   ]
  },
  {
   "cell_type": "code",
   "execution_count": 116,
   "metadata": {},
   "outputs": [],
   "source": [
    "# other ordinal- or binary-type features: AKT_DAT_KL, FIRMENDICHTE, KOMBIALTER, KONSUMZELLE, MOBI_RASTER,\n",
    "# RT_KEIN_ANREIZ, RT_SCHNAEPPCHEN, RT_UEBERGROESSE, SOHO_KZ, STRUKTURTYP, UMFELD_ALT,\n",
    "# VHA, VHN, VK_DHT4A\n",
    "tbd_cols.drop([ 'AKT_DAT_KL', 'ANZ_KINDER', 'FIRMENDICHTE', 'KOMBIALTER', 'KONSUMZELLE', 'MOBI_RASTER',\n",
    "    'RT_KEIN_ANREIZ', 'RT_SCHNAEPPCHEN', 'RT_UEBERGROESSE', 'SOHO_KZ', 'STRUKTURTYP', \n",
    "    'UMFELD_ALT','UMFELD_JUNG', 'VHA', 'VHN', 'VK_DHT4A'], axis=1, inplace=True)"
   ]
  },
  {
   "cell_type": "code",
   "execution_count": 117,
   "metadata": {},
   "outputs": [
    {
     "data": {
      "text/html": [
       "<div>\n",
       "<style scoped>\n",
       "    .dataframe tbody tr th:only-of-type {\n",
       "        vertical-align: middle;\n",
       "    }\n",
       "\n",
       "    .dataframe tbody tr th {\n",
       "        vertical-align: top;\n",
       "    }\n",
       "\n",
       "    .dataframe thead th {\n",
       "        text-align: right;\n",
       "    }\n",
       "</style>\n",
       "<table border=\"1\" class=\"dataframe\">\n",
       "  <thead>\n",
       "    <tr style=\"text-align: right;\">\n",
       "      <th></th>\n",
       "      <th>LNR</th>\n",
       "      <th>ALTERSKATEGORIE_FEIN</th>\n",
       "      <th>ANZ_STATISTISCHE_HAUSHALTE</th>\n",
       "      <th>CAMEO_INTL_2015</th>\n",
       "      <th>EINGEFUEGT_AM</th>\n",
       "      <th>EINGEZOGENAM_HH_JAHR</th>\n",
       "      <th>GEMEINDETYP</th>\n",
       "      <th>VERDICHTUNGSRAUM</th>\n",
       "      <th>VK_DISTANZ</th>\n",
       "      <th>VK_ZG11</th>\n",
       "    </tr>\n",
       "  </thead>\n",
       "  <tbody>\n",
       "    <tr>\n",
       "      <th>1</th>\n",
       "      <td>910220</td>\n",
       "      <td>21.0</td>\n",
       "      <td>12.0</td>\n",
       "      <td>51.0</td>\n",
       "      <td>1992.0</td>\n",
       "      <td>2004.0</td>\n",
       "      <td>22.0</td>\n",
       "      <td>0.0</td>\n",
       "      <td>11.0</td>\n",
       "      <td>10.0</td>\n",
       "    </tr>\n",
       "    <tr>\n",
       "      <th>2</th>\n",
       "      <td>910225</td>\n",
       "      <td>17.0</td>\n",
       "      <td>7.0</td>\n",
       "      <td>24.0</td>\n",
       "      <td>1992.0</td>\n",
       "      <td>2000.0</td>\n",
       "      <td>22.0</td>\n",
       "      <td>1.0</td>\n",
       "      <td>9.0</td>\n",
       "      <td>6.0</td>\n",
       "    </tr>\n",
       "    <tr>\n",
       "      <th>3</th>\n",
       "      <td>910226</td>\n",
       "      <td>13.0</td>\n",
       "      <td>2.0</td>\n",
       "      <td>12.0</td>\n",
       "      <td>1997.0</td>\n",
       "      <td>1998.0</td>\n",
       "      <td>40.0</td>\n",
       "      <td>0.0</td>\n",
       "      <td>10.0</td>\n",
       "      <td>11.0</td>\n",
       "    </tr>\n",
       "    <tr>\n",
       "      <th>4</th>\n",
       "      <td>910241</td>\n",
       "      <td>14.0</td>\n",
       "      <td>3.0</td>\n",
       "      <td>43.0</td>\n",
       "      <td>1992.0</td>\n",
       "      <td>2004.0</td>\n",
       "      <td>21.0</td>\n",
       "      <td>1.0</td>\n",
       "      <td>5.0</td>\n",
       "      <td>4.0</td>\n",
       "    </tr>\n",
       "    <tr>\n",
       "      <th>5</th>\n",
       "      <td>910244</td>\n",
       "      <td>10.0</td>\n",
       "      <td>2.0</td>\n",
       "      <td>54.0</td>\n",
       "      <td>1992.0</td>\n",
       "      <td>1994.0</td>\n",
       "      <td>40.0</td>\n",
       "      <td>0.0</td>\n",
       "      <td>7.0</td>\n",
       "      <td>4.0</td>\n",
       "    </tr>\n",
       "  </tbody>\n",
       "</table>\n",
       "</div>"
      ],
      "text/plain": [
       "      LNR  ALTERSKATEGORIE_FEIN  ANZ_STATISTISCHE_HAUSHALTE CAMEO_INTL_2015  \\\n",
       "1  910220                  21.0                        12.0            51.0   \n",
       "2  910225                  17.0                         7.0            24.0   \n",
       "3  910226                  13.0                         2.0            12.0   \n",
       "4  910241                  14.0                         3.0            43.0   \n",
       "5  910244                  10.0                         2.0            54.0   \n",
       "\n",
       "   EINGEFUEGT_AM  EINGEZOGENAM_HH_JAHR  GEMEINDETYP  VERDICHTUNGSRAUM  \\\n",
       "1         1992.0                2004.0         22.0               0.0   \n",
       "2         1992.0                2000.0         22.0               1.0   \n",
       "3         1997.0                1998.0         40.0               0.0   \n",
       "4         1992.0                2004.0         21.0               1.0   \n",
       "5         1992.0                1994.0         40.0               0.0   \n",
       "\n",
       "   VK_DISTANZ  VK_ZG11  \n",
       "1        11.0     10.0  \n",
       "2         9.0      6.0  \n",
       "3        10.0     11.0  \n",
       "4         5.0      4.0  \n",
       "5         7.0      4.0  "
      ]
     },
     "execution_count": 117,
     "metadata": {},
     "output_type": "execute_result"
    }
   ],
   "source": [
    "# what is left is tbd_cols\n",
    "tbd_cols.head()"
   ]
  },
  {
   "cell_type": "markdown",
   "metadata": {},
   "source": [
    " In short:  \n",
    "  * Retaining all obvious ordinal or binary categorical\n",
    "  * dropping GEMEINDETYP, VERDICHTUNGSRAUM because the variable type is unclear.  For example, GEMEINDETYP may describe the type of community, which would be categorical.  But the high numerical values hint at a multi-level variable, which we cannot handle without more information.\n",
    "  * also dropping VK_DISTANZ and VK_ZG11 for similar reasons.\n",
    "  * the timestamp in EINGEFUEGT_AM will be dealt with later.\n",
    "  * 'CAMEO_INTL_2015' also will have to be handled separately\n",
    "  * LNR is a customer id: remove from azdias_sub\n",
    "  * Not sure of the type of ALTERSKATEGORIE_FEIN\tANZ_STATISTISCHE_HAUSHALTE: remove from the analysis\n",
    "  "
   ]
  },
  {
   "cell_type": "code",
   "execution_count": 118,
   "metadata": {},
   "outputs": [],
   "source": [
    "\n",
    "cats_to_drop = ['LNR', 'ALTERSKATEGORIE_FEIN', 'ANZ_STATISTISCHE_HAUSHALTE', \n",
    "                 'GEMEINDETYP','VERDICHTUNGSRAUM','VK_DISTANZ','VK_ZG11' ]\n",
    "\n",
    "azdias_sub.drop(cats_to_drop, axis=1, inplace=True)"
   ]
  },
  {
   "cell_type": "markdown",
   "metadata": {},
   "source": [
    "**Now dealing with categorical features**"
   ]
  },
  {
   "cell_type": "code",
   "execution_count": 119,
   "metadata": {},
   "outputs": [
    {
     "name": "stdout",
     "output_type": "stream",
     "text": [
      "21\n",
      "['AGER_TYP', 'ANREDE_KZ', 'CAMEO_DEUG_2015', 'CAMEO_DEU_2015', 'CJT_GESAMTTYP', 'D19_KONSUMTYP', 'FINANZTYP', 'GEBAEUDETYP', 'GFK_URLAUBERTYP', 'GREEN_AVANTGARDE', 'LP_FAMILIE_FEIN', 'LP_FAMILIE_GROB', 'LP_STATUS_FEIN', 'LP_STATUS_GROB', 'NATIONALITAET_KZ', 'OST_WEST_KZ', 'SHOPPER_TYP', 'TITEL_KZ', 'VERS_TYP', 'ZABEOTYP', 'CAMEO_INTL_2015']\n"
     ]
    }
   ],
   "source": [
    "# Update the list of categorical features, cat_types, based on above work\n",
    "\n",
    "cat_types = list(np.intersect1d(cat_types, azdias_sub.columns))\n",
    "cat_types.append('CAMEO_INTL_2015')\n",
    "print(len(cat_types))\n",
    "print(cat_types)"
   ]
  },
  {
   "cell_type": "markdown",
   "metadata": {},
   "source": [
    "  * Of the 21 features above, 4 are binary: ANREDE_KZ, GREEN_AVANTGARDE, OST_WEST_KZ, and VERS_TYP. We need to change letters to numbers in OST_WEST_KZ; otherwise, no further treatment is needed.\n",
    "  * The remaining 18 features are categorical.  The corresponding columns in azdias will be expanded to represent the various categories, after taking care of the special situations noted below.\n",
    "  * LP_FAMILIE_GROB and LP_STATUS_GROB use 3 values for the same indicator.  For example, 'single parent' is coded 3, 4, or 5. There is no degree of being a single parent, so these distinctions are meaningless; these codes need to be combined.\n",
    "  * The two levels in CAMEO_INTL_2015 will be extracted before expansion.\n"
   ]
  },
  {
   "cell_type": "code",
   "execution_count": 120,
   "metadata": {},
   "outputs": [],
   "source": [
    "# OST_WEST_KZ\n",
    "azdias_sub['OST_WEST_KZ'] = azdias_sub['OST_WEST_KZ'].replace(['O', 'W'], [0, 1])"
   ]
  },
  {
   "cell_type": "code",
   "execution_count": 121,
   "metadata": {},
   "outputs": [],
   "source": [
    "# 'LP_FAMILIE_GROB' 'LP_STATUS_GROB'.  \n",
    "#No reason why the same characteristic should have different codes\n",
    "azdias_sub['LP_FAMILIE_GROB'] = azdias_sub['LP_FAMILIE_GROB'].replace([3, 5], 4)\n",
    "azdias_sub['LP_FAMILIE_GROB'] = azdias_sub['LP_FAMILIE_GROB'].replace([6, 8], 7)\n",
    "azdias_sub['LP_FAMILIE_GROB'] = azdias_sub['LP_FAMILIE_GROB'].replace([9, 11], 4)"
   ]
  },
  {
   "cell_type": "code",
   "execution_count": 122,
   "metadata": {},
   "outputs": [],
   "source": [
    "azdias_sub['LP_STATUS_GROB'] = azdias_sub['LP_STATUS_GROB'].replace([2, 7, 9], [1, 6, 8])\n",
    "azdias_sub['LP_STATUS_GROB'] = azdias_sub['LP_STATUS_GROB'].replace([3, 5], 4)"
   ]
  },
  {
   "cell_type": "code",
   "execution_count": 123,
   "metadata": {},
   "outputs": [],
   "source": [
    "# Before expanding the categorical columns, replace missing/unkown codes with NaN\n",
    "def replace_unk_with_nan(df, df_info):\n",
    "    for index in df_info.index:\n",
    "\n",
    "        s = df_info.loc[index,'missing_or_unknown']\n",
    "        for item in s:\n",
    "            try:\n",
    "                df_info.loc[index,'missing_or_unknown'][item] = int(df_info.loc[index,'missing_or_unknown'][item])\n",
    "            except:\n",
    "                continue\n",
    "        try:    \n",
    "            df.loc[:,(df_info.loc[index, 'Attribute'])].replace(df_info.loc[index,'missing_or_unknown'], np.NaN, inplace=True)\n",
    "        except:\n",
    "            continue\n",
    "            \n",
    "    return df"
   ]
  },
  {
   "cell_type": "code",
   "execution_count": 124,
   "metadata": {},
   "outputs": [],
   "source": [
    "# Find and remove the XX as unkown indicators (they are problematic)\n",
    "def remove_XX(df):\n",
    "    for col in df.columns:\n",
    "        findXX = df[col].isin(['XX', 'X']).sum()\n",
    "        if findXX > 0:\n",
    "            print(col, findXX)\n",
    "            df[col] = df[col].replace(['XX', 'X'], np.NaN)\n",
    "            # check\n",
    "            findXX = df[col].isin(['XX', 'X']).sum()\n",
    "            print(col, findXX)\n",
    "    return df\n",
    "            "
   ]
  },
  {
   "cell_type": "code",
   "execution_count": 125,
   "metadata": {},
   "outputs": [
    {
     "name": "stdout",
     "output_type": "stream",
     "text": [
      "CAMEO_DEU_2015 262\n",
      "CAMEO_DEU_2015 0\n",
      "CAMEO_DEUG_2015 262\n",
      "CAMEO_DEUG_2015 0\n",
      "CAMEO_INTL_2015 262\n",
      "CAMEO_INTL_2015 0\n",
      "Replaced missing or unknowns in azdias_sub \n"
     ]
    }
   ],
   "source": [
    "azdias_sub = remove_XX(azdias_sub)\n",
    "azdias_sub = replace_unk_with_nan(azdias_sub, df_info)\n",
    "print(\"Replaced missing or unknowns in azdias_sub \")\n",
    "\n",
    "# for features not included in df_info, assume -1 always represents a missing or unknown\n",
    "azdias_sub = azdias_sub.replace([-1, '-1'], np.NaN )"
   ]
  },
  {
   "cell_type": "code",
   "execution_count": 126,
   "metadata": {},
   "outputs": [
    {
     "name": "stdout",
     "output_type": "stream",
     "text": [
      "Dummied  16  multi-value categorical variables.\n",
      "Removed redundant columns  (644077, 488)\n"
     ]
    }
   ],
   "source": [
    "# Now we use get_dummies to add columns representing the various categories\n",
    "azdias_go = azdias_sub\n",
    "\n",
    "# re-encode the categorical variables (21 - 4 (binary) - CAMEO_INTL_2015 (later)):\n",
    "cats_to_dummy = ['AGER_TYP', 'CAMEO_DEUG_2015', 'CAMEO_DEU_2015', 'CJT_GESAMTTYP', \n",
    "                 'D19_KONSUMTYP', 'FINANZTYP', 'GEBAEUDETYP', 'GFK_URLAUBERTYP', \n",
    "                 'LP_FAMILIE_FEIN', 'LP_FAMILIE_GROB','LP_STATUS_FEIN', 'LP_STATUS_GROB',\n",
    "                 'NATIONALITAET_KZ', 'SHOPPER_TYP', 'TITEL_KZ', 'ZABEOTYP']\n",
    "\n",
    "def transform_multi_values_cat(feat):\n",
    "    cols = pd.get_dummies(azdias_go[feat], prefix=feat)\n",
    "    return cols\n",
    "\n",
    "# add new column to the data frame\n",
    "for item in cats_to_dummy:\n",
    "    new_cols = transform_multi_values_cat(item)\n",
    "    azdias_go = pd.concat([azdias_go, new_cols], axis=1)\n",
    "\n",
    "print(\"Dummied \", len(cats_to_dummy), \" multi-value categorical variables.\")   \n",
    "\n",
    "azdias_go.drop(cats_to_dummy, axis=1, inplace=True)\n",
    "\n",
    "print(\"Removed redundant columns \",azdias_go.shape)"
   ]
  },
  {
   "cell_type": "markdown",
   "metadata": {},
   "source": [
    "**About CAMEO_INTL_2015**\n",
    "\n",
    "There are five levels for wealth (the first digit) and five levels for the life stage (the second digit), namely:\n",
    "  * Wealthy: 11-15\n",
    "  * Prosperous: 21-25\n",
    "  * Comfortable: 31-35\n",
    "  * Less affluent: 41-45\n",
    "  * Poorer: 51-55\n",
    "\n",
    "\n",
    "  * Pre-Family Couples & Singles (11, 21, 31, 41, 51)\n",
    "  * Young Couples With Children (12, 22, 32, 42, 52)\n",
    "  * Families With School Age Children (13, 23, 33, 43, 53)\n",
    "  * Older Families & Mature Couples (14, 24, 34, 44, 54)\n",
    "  * Elders In Retirement (15, 25, 35, 45, 55)\n",
    "\n",
    "**Step 1:**\n",
    "  - Copy \"CAMEO_INTL_2015\" to a new column: \"CAMEO_wealth\"\n",
    "  - Replace (11-55) with the appropriate weath indicator (a number between 1 and 5 (1=poorer, 5=wealthy)\n",
    "  - Copy \"CAMEO_INTL_2015\" to a new column \"CAMEO_life\"\n",
    "  - Replace (11-55) with the appropriate life-stage indicator (a number between 1 and 5 (1=younger, 5=older)\n",
    "\n",
    "\n",
    "**Step 2:**\n",
    "  - Append \"CAMEO_wealth\" column to capture the wealth level\n",
    "  - Append \"CAMDEO_life\" column to capture life stage\n",
    "\n",
    "\n",
    "**Step 3:**\n",
    "Remove \"CAMEO_INTL_2015\""
   ]
  },
  {
   "cell_type": "code",
   "execution_count": 127,
   "metadata": {},
   "outputs": [
    {
     "name": "stdout",
     "output_type": "stream",
     "text": [
      "Replaced 'CAMEO_INTL_2015' with two new variables:  (644077, 490)\n",
      "Dropped 'CAMEO_INTL_2015':  (644077, 489)\n",
      "\n",
      " Index(['AKT_DAT_KL', 'ALTER_HH', 'ANZ_HAUSHALTE_AKTIV', 'ANZ_HH_TITEL',\n",
      "       'ANZ_KINDER', 'ANZ_PERSONEN', 'ANZ_TITEL', 'ARBEIT', 'BALLRAUM',\n",
      "       'CJT_KATALOGNUTZER',\n",
      "       ...\n",
      "       'TITEL_KZ_4.0', 'TITEL_KZ_5.0', 'ZABEOTYP_1', 'ZABEOTYP_2',\n",
      "       'ZABEOTYP_3', 'ZABEOTYP_4', 'ZABEOTYP_5', 'ZABEOTYP_6', 'CAMEO_wealth',\n",
      "       'CAMEO_life'],\n",
      "      dtype='object', length=489)\n"
     ]
    }
   ],
   "source": [
    "# create two new columns\n",
    "CAMEO_wealth = pd.Series(azdias_go['CAMEO_INTL_2015'], name= 'CAMEO_wealth')\n",
    "CAMEO_life = pd.Series(azdias_go['CAMEO_INTL_2015'], name= 'CAMEO_life')\n",
    "\n",
    "# replace codes\n",
    "wealth = [['11', '12', '13', '14', '15'], \n",
    "          ['21', '22', '23', '24', '25'],\n",
    "          ['31', '32', '33', '34', '35'], \n",
    "          ['41', '42', '43', '44', '45'],\n",
    "          ['51', '52', '53', '54', '55']] \n",
    "\n",
    "life = [['11', '21', '31', '41', '51'],\n",
    "       ['12', '22', '32', '42', '52'], \n",
    "       ['13', '23', '33', '43', '53'],\n",
    "       ['14', '24', '34', '44', '54'],\n",
    "       ['15', '25', '35', '45', '55']]\n",
    "\n",
    "def replace_codes(s,item, k):\n",
    "    s = s.replace(item, k)\n",
    "    return s\n",
    "\n",
    "k = 5\n",
    "for item in wealth:\n",
    "    CAMEO_wealth = replace_codes(CAMEO_wealth, item, k)\n",
    "    k = k - 1\n",
    "\n",
    "k = 1\n",
    "for item in life:\n",
    "    CAMEO_life = replace_codes(CAMEO_life, item, k)\n",
    "    k +=1\n",
    "\n",
    "azdias_go = pd.concat([azdias_go, CAMEO_wealth, CAMEO_life], axis = 1)\n",
    "print(\"Replaced 'CAMEO_INTL_2015' with two new variables: \", azdias_go.shape)          \n",
    "\n",
    "#drop \"CAMEO_INTL_2015\"\n",
    "azdias_go = azdias_go.drop(\"CAMEO_INTL_2015\", axis=1) \n",
    "print(\"Dropped 'CAMEO_INTL_2015': \", azdias_go.shape)\n",
    "print(\"\\n\", azdias_go.columns)"
   ]
  },
  {
   "cell_type": "code",
   "execution_count": 128,
   "metadata": {},
   "outputs": [],
   "source": [
    "# make all int in the CAMEO_wealth and CAMEO_type\n",
    "azdias_go['CAMEO_wealth'] = azdias_go['CAMEO_wealth'].replace(' ', np.NaN)\n",
    "azdias_go['CAMEO_life'] = azdias_go['CAMEO_life'].replace(' ', np.NaN)"
   ]
  },
  {
   "cell_type": "markdown",
   "metadata": {},
   "source": [
    "**About PRAEGENDE_JUGENDJAHRE**\n",
    "\n",
    "The \"Mainstream\" label corresoponds to codes (1, 3, 5, 8, 10, 12, 14).\n",
    "\n",
    "The \"Avant-Garde\" label corresponds to codes (2, 4, 6, 7, 9, 11, 13, 15).\n",
    "\n",
    "\n",
    "**Step 1:**\n",
    "  * Copy \"PRAEGENDE_JUGENDJAHRE\" to a new column: \"PR_J_mvt\"\n",
    "  * Replace (1, 3, 5, 8, 10, 12, 14) with (0) i.e., mainstream indicator\n",
    "  * Replace ((2, 4, 6, 7, 9, 11, 13, 15) with (1) i.e., avant-garde indicator\n",
    "  * Copy \"PRAEGENDE_JUGENDJAHRE\" to a new column \"PR_J_gen\"\n",
    "  * Replace each group of two successsive codes with a single age indicator, e.g., :\n",
    "    * (1, 2) --> 1, 1\n",
    "    * (3, 4) --> 2, 2\n",
    "\n",
    "**Step 2:**\n",
    "  * Append 'PR_J_Movement\" column to capture Mainstream vs. Avant-Garde\n",
    "  * Append \"PR_J_Gen\" column to capture decade\n",
    "  \n",
    "**Step 3:**\n",
    "\n",
    "Remove \"PRAEGENDE_JUGENDJAHRE\"\n"
   ]
  },
  {
   "cell_type": "code",
   "execution_count": 129,
   "metadata": {},
   "outputs": [
    {
     "name": "stdout",
     "output_type": "stream",
     "text": [
      "Replaced 'PRAEGENDE_JUGENDJAHRE' with two new variables:  (644077, 491)\n",
      "Dropped 'PRAEGENDE_JUGENDJAHRE':  (644077, 490)\n",
      "\n",
      " Index(['AKT_DAT_KL', 'ALTER_HH', 'ANZ_HAUSHALTE_AKTIV', 'ANZ_HH_TITEL',\n",
      "       'ANZ_KINDER', 'ANZ_PERSONEN', 'ANZ_TITEL', 'ARBEIT', 'BALLRAUM',\n",
      "       'CJT_KATALOGNUTZER',\n",
      "       ...\n",
      "       'ZABEOTYP_1', 'ZABEOTYP_2', 'ZABEOTYP_3', 'ZABEOTYP_4', 'ZABEOTYP_5',\n",
      "       'ZABEOTYP_6', 'CAMEO_wealth', 'CAMEO_life', 'PR_J_mvt', 'PR_J_gen'],\n",
      "      dtype='object', length=490)\n"
     ]
    }
   ],
   "source": [
    "# Similarly for \"PRAEGENDE_JUGENDJAHRE\"\n",
    "\n",
    "# create two new columns\n",
    "PR_J_mvt = pd.Series(azdias_go['PRAEGENDE_JUGENDJAHRE'], name='PR_J_mvt')\n",
    "PR_J_gen = pd.Series(azdias_go['PRAEGENDE_JUGENDJAHRE'], name='PR_J_gen')\n",
    "\n",
    "# replace codes\n",
    "PR_J_mvt = PR_J_mvt.replace([1, 3, 5, 8, 10, 12, 14], 0)\n",
    "PR_J_mvt = PR_J_mvt.replace ([2, 4, 6, 7, 9, 11, 13, 15], 1)\n",
    "\n",
    "PR_J_gen = PR_J_gen.replace([1, 2, 3, 4, 5, 6, 7, 8, 9, 10, 11, 12, 13, 14, 15], \n",
    "                 [1, 1, 2, 2, 3, 3, 3, 4, 4, 6, 6, 6, 6, 7, 7])\n",
    "\n",
    "azdias_go = pd.concat([azdias_go, PR_J_mvt, PR_J_gen ], axis = 1)\n",
    "print(\"Replaced 'PRAEGENDE_JUGENDJAHRE' with two new variables: \", azdias_go.shape)\n",
    "          \n",
    "#drop \"PRAEGENDE_JUGENDJAHRE\n",
    "azdias_go = azdias_go.drop(\"PRAEGENDE_JUGENDJAHRE\", axis=1)\n",
    "print(\"Dropped 'PRAEGENDE_JUGENDJAHRE': \", azdias_go.shape)\n",
    "print(\"\\n\", azdias_go.columns)"
   ]
  },
  {
   "cell_type": "code",
   "execution_count": 130,
   "metadata": {},
   "outputs": [
    {
     "name": "stdout",
     "output_type": "stream",
     "text": [
      "['AGER_TYP', 'CAMEO_DEUG_2015', 'CAMEO_DEU_2015', 'CJT_GESAMTTYP', 'D19_KONSUMTYP', 'FINANZTYP', 'GEBAEUDETYP', 'GFK_URLAUBERTYP', 'LP_FAMILIE_FEIN', 'LP_FAMILIE_GROB', 'LP_STATUS_FEIN', 'LP_STATUS_GROB', 'NATIONALITAET_KZ', 'SHOPPER_TYP', 'TITEL_KZ', 'ZABEOTYP']\n"
     ]
    }
   ],
   "source": [
    "# for reference\n",
    "print(cats_to_dummy)"
   ]
  },
  {
   "cell_type": "markdown",
   "metadata": {},
   "source": [
    "**Finally*\n",
    "\n",
    "Create a function to apply to the customer and mailout data the same cleaning operations applied to the demographic data (azdias)."
   ]
  },
  {
   "cell_type": "code",
   "execution_count": 131,
   "metadata": {},
   "outputs": [],
   "source": [
    "def clean_data(df, outliers, cats_to_dummy, cats_to_drop, wealth, life):\n",
    "    \"\"\"\n",
    "    Perform feature trimming, re-encoding, and engineering for demographics\n",
    "    data\n",
    "    INPUT: \n",
    "    df - Customers DataFrame\n",
    "    outliers - columns to remove (list)\n",
    "    cats_to_dummy - categorical features to dummy (list)\n",
    "    cats_to_drop - categorical features to drop (list)\n",
    "    wealth, life - lists to convert multi-level variables\n",
    "    \n",
    "    OUTPUT: Trimmed and cleaned DataFrame\n",
    "    \"\"\"\n",
    "    \n",
    "    # Convert missing codes to NaNs:\n",
    "    df = remove_XX(df)\n",
    "    df = replace_unk_with_nan(df, df_info)\n",
    "    # replace possible -1 with NaN\n",
    "    df = df.replace([-1, '-1', 'X', 'XX'], np.NaN)\n",
    "    \n",
    "    ## Remove the outlier columns\n",
    "    df.drop(outliers, axis='columns', inplace=True)\n",
    "    print(\"Outliers dropped: \", df.shape)\n",
    "\n",
    "    ## Check NaNs in columns:\n",
    "    na_in_cols = df.isnull().sum().hist(bins=20)\n",
    "    plt.show()\n",
    "    \n",
    "    ## Check NaNs in rows:\n",
    "    na_in_rows = df.isnull().sum(axis=1).hist(bins=20)\n",
    "    plt.show()\n",
    "    \n",
    "    # update the D19_LETZTER_KAUF_BRANCHE' column\n",
    "    for key in LETZTER_KB_dict.keys():\n",
    "         df['D19_LETZTER_KAUF_BRANCHE'] = df['D19_LETZTER_KAUF_BRANCHE'].replace(key, LETZTER_KB_dict[key])\n",
    "       \n",
    "    # pick the year in 'EINGEFUEGT_AM'\n",
    "    temp = df['EINGEFUEGT_AM'].str.split('-')\n",
    "    temp_np = np.array(temp)\n",
    "    year = []\n",
    "    for item in temp_np:\n",
    "        try:  \n",
    "            year.append(int(item[0]))\n",
    "        except:\n",
    "            year.append(np.NaN)\n",
    "    df['EINGEFUEGT_AM'] = year\n",
    "       \n",
    "    # select, re-encode, and engineer column values.\n",
    "    # re-incode 'OST_WEST_KZ' (binary with non-numeric values)\n",
    "    df['OST_WEST_KZ'] = pd.get_dummies(df['OST_WEST_KZ'])\n",
    "    \n",
    "    print(\"Dummied 'OST_WEST_KZ': \", df.shape)\n",
    "    \n",
    "    # same with 'CUSTOMER_GROUP' (not included in the general pop data)\n",
    "    try:\n",
    "        df['CUSTOMER_GROUP']= df['CUSTOMER_GROUP'].replace(['MULTI_BUYER', 'SINGLE_BUYER'], [2, 1])\n",
    "        df['CUSTOMER_GROUP'] = pd.get_dummies(df['CUSTOMER_GROUP'])\n",
    "    \n",
    "        print(\"Dummied 'CUSTOMER_GROUP': \", df.shape)\n",
    "    except:\n",
    "        pass\n",
    "    \n",
    "    # combine codes in 'LP_FAMILIE_GROB' 'LP_STATUS_GROB'.  \n",
    "    df['LP_FAMILIE_GROB'] = df['LP_FAMILIE_GROB'].replace([3, 5], 4)\n",
    "    df['LP_FAMILIE_GROB'] = df['LP_FAMILIE_GROB'].replace([6, 8], 7)\n",
    "    df['LP_FAMILIE_GROB'] = df['LP_FAMILIE_GROB'].replace([9, 11], 4)\n",
    "    df['LP_STATUS_GROB'] = df['LP_STATUS_GROB'].replace([2, 7, 9], [1, 6, 8])\n",
    "    df['LP_STATUS_GROB'] = df['LP_STATUS_GROB'].replace([3, 5], 4)\n",
    "        \n",
    "    # add new column to the data frame\n",
    "    for item in cats_to_dummy:\n",
    "        new_cols = pd.get_dummies(df[item], prefix=item)\n",
    "        df = pd.concat([df, new_cols], axis=1)\n",
    "\n",
    "    print(\"Dummied \", len(cats_to_dummy), \"multi-value categorial variables: \", df.shape)   \n",
    "    # drop the old categorical columns\n",
    "    df.drop(cats_to_dummy, axis=1, inplace=True)\n",
    "    df.drop(cats_to_drop, axis=1, inplace=True)\n",
    "    print(\"Removed redundant and dropped columns: \", df.shape)\n",
    "       \n",
    "    # engineer two new variables for \"CAMEO_INTL_2015\"\n",
    "    CAMEO_wealth = pd.Series(df['CAMEO_INTL_2015'], name= 'CAMEO_wealth')\n",
    "    CAMEO_life = pd.Series(df['CAMEO_INTL_2015'], name= 'CAMEO_life')\n",
    "\n",
    "    # replace codes\n",
    "    k = 5\n",
    "    for item in wealth:\n",
    "        CAMEO_wealth = replace_codes(CAMEO_wealth, item, k)\n",
    "        k = k - 1\n",
    "\n",
    "    k = 1\n",
    "    for item in life:\n",
    "        CAMEO_life = replace_codes(CAMEO_life, item, k)\n",
    "        k +=1\n",
    "\n",
    "    \n",
    "    df = pd.concat([df, CAMEO_wealth, CAMEO_life], axis = 1)\n",
    "    # make all int in the CAMEO_wealth and CAMEO_type\n",
    "    df['CAMEO_wealth'] = df['CAMEO_wealth'].replace(' ', np.NaN)\n",
    "    df['CAMEO_life'] = df['CAMEO_life'].replace(' ', np.NaN)\n",
    "          \n",
    "    #drop \"CAMEO_INTL_2015\"\n",
    "    df = df.drop(\"CAMEO_INTL_2015\", axis=1) \n",
    "    print(\"Replaced and dropped 'CAMEO_INTL_2015' : \", df.shape)\n",
    "    \n",
    "    # replace \"PRAEGENDE_JUGENDJAHRE\" wiith two new variables.\n",
    "    # create two new columns\n",
    "    PR_J_mvt = pd.Series(df['PRAEGENDE_JUGENDJAHRE'], name='PR_J_mvt')\n",
    "    PR_J_gen = pd.Series(df['PRAEGENDE_JUGENDJAHRE'], name='PR_J_gen')\n",
    "\n",
    "    # replace codes\n",
    "    PR_J_mvt = PR_J_mvt.replace([1, 3, 5, 8, 10, 12, 14], 0)\n",
    "    PR_J_mvt = PR_J_mvt.replace ([2, 4, 6, 7, 9, 11, 13, 15], 1)\n",
    "\n",
    "    PR_J_gen = PR_J_gen.replace([1, 2, 3, 4, 5, 6, 7, 8, 9, 10, 11, 12, 13, 14, 15], \n",
    "                 [1, 1, 2, 2, 3, 3, 3, 4, 4, 6, 6, 6, 6, 7, 7])\n",
    "\n",
    "    df = pd.concat([df, PR_J_mvt, PR_J_gen ], axis = 1)     \n",
    "    #drop \"PRAEGENDE_JUGENDJAHRE\n",
    "    df = df.drop(\"PRAEGENDE_JUGENDJAHRE\", axis=1)\n",
    "    print(\"Replaced and dropped 'PRAEGENDE_JUGENDJAHRE': \", df.shape)\n",
    "    \n",
    "    # Return the cleaned dataframe.\n",
    "    return df\n"
   ]
  },
  {
   "cell_type": "code",
   "execution_count": 132,
   "metadata": {},
   "outputs": [
    {
     "name": "stdout",
     "output_type": "stream",
     "text": [
      "['AGER_TYP', 'CAMEO_DEUG_2015', 'CAMEO_DEU_2015', 'CJT_GESAMTTYP', 'D19_KONSUMTYP', 'FINANZTYP', 'GEBAEUDETYP', 'GFK_URLAUBERTYP', 'LP_FAMILIE_FEIN', 'LP_FAMILIE_GROB', 'LP_STATUS_FEIN', 'LP_STATUS_GROB', 'NATIONALITAET_KZ', 'SHOPPER_TYP', 'TITEL_KZ', 'ZABEOTYP', 'PRODUCT_GROUP']\n"
     ]
    }
   ],
   "source": [
    "# Apply the cleaning operations to the customer dataset\n",
    "# add 'PRODUCT_GROUP'feature to cats_to_dummy\n",
    "\n",
    "customers['PRODUCT_GROUP'] = customers['PRODUCT_GROUP'].replace(['COSMETIC_AND_FOOD', 'FOOD', 'COSMETIC'], [3, 2, 1])\n",
    "cats_to_dummy.append('PRODUCT_GROUP')\n",
    "print(cats_to_dummy)"
   ]
  },
  {
   "cell_type": "code",
   "execution_count": 133,
   "metadata": {},
   "outputs": [],
   "source": [
    "# keep customer ids \n",
    "cust_ids = customers['LNR'].to_csv('customers_ids.csv')"
   ]
  },
  {
   "cell_type": "code",
   "execution_count": 134,
   "metadata": {},
   "outputs": [
    {
     "name": "stdout",
     "output_type": "stream",
     "text": [
      "CAMEO_DEU_2015 126\n",
      "CAMEO_DEU_2015 0\n",
      "CAMEO_DEUG_2015 126\n",
      "CAMEO_DEUG_2015 0\n",
      "CAMEO_INTL_2015 126\n",
      "CAMEO_INTL_2015 0\n",
      "Outliers dropped:  (191652, 363)\n"
     ]
    },
    {
     "data": {
      "image/png": "[encoded data removed]",
      "text/plain": [
       "<Figure size 432x288 with 1 Axes>"
      ]
     },
     "metadata": {
      "needs_background": "light"
     },
     "output_type": "display_data"
    },
    {
     "data": {
      "image/png": "[encoded data removed]",
      "text/plain": [
       "<Figure size 432x288 with 1 Axes>"
      ]
     },
     "metadata": {
      "needs_background": "light"
     },
     "output_type": "display_data"
    },
    {
     "name": "stdout",
     "output_type": "stream",
     "text": [
      "Dummied 'OST_WEST_KZ':  (191652, 363)\n",
      "Dummied 'CUSTOMER_GROUP':  (191652, 363)\n",
      "Dummied  17 multi-value categorial variables:  (191652, 516)\n",
      "Removed redundant and dropped columns:  (191652, 492)\n",
      "Replaced and dropped 'CAMEO_INTL_2015' :  (191652, 493)\n",
      "Replaced and dropped 'PRAEGENDE_JUGENDJAHRE':  (191652, 494)\n"
     ]
    }
   ],
   "source": [
    "customers_go = clean_data(customers, outliers, cats_to_dummy, cats_to_drop, wealth, life)"
   ]
  },
  {
   "cell_type": "code",
   "execution_count": 135,
   "metadata": {},
   "outputs": [
    {
     "data": {
      "text/plain": [
       "(191652, 494)"
      ]
     },
     "execution_count": 135,
     "metadata": {},
     "output_type": "execute_result"
    }
   ],
   "source": [
    "customers_go.shape"
   ]
  },
  {
   "cell_type": "code",
   "execution_count": 136,
   "metadata": {},
   "outputs": [],
   "source": [
    "# write cleaned datasets to file\n",
    "azdias_go.to_csv('azdias_go.csv')"
   ]
  },
  {
   "cell_type": "code",
   "execution_count": 137,
   "metadata": {},
   "outputs": [],
   "source": [
    "customers_go.to_csv('customers_go.csv')"
   ]
  },
  {
   "cell_type": "code",
   "execution_count": 138,
   "metadata": {},
   "outputs": [
    {
     "name": "stdout",
     "output_type": "stream",
     "text": [
      "(42962, 367)\n"
     ]
    }
   ],
   "source": [
    "# As explained in the next notebook, we use the same process to cleanout the mailout datasets\n",
    "mailout_train = pd.read_csv('project_mailout_train.csv', low_memory=False)\n",
    "print(mailout_train.shape)"
   ]
  },
  {
   "cell_type": "code",
   "execution_count": 139,
   "metadata": {},
   "outputs": [],
   "source": [
    "cats_to_dummy.remove('PRODUCT_GROUP')\n",
    "mailout_train_ids = mailout_train['LNR'].to_csv('mailout_train_ids.csv')"
   ]
  },
  {
   "cell_type": "code",
   "execution_count": 140,
   "metadata": {},
   "outputs": [
    {
     "name": "stdout",
     "output_type": "stream",
     "text": [
      "CAMEO_DEU_2015 11\n",
      "CAMEO_DEU_2015 0\n",
      "CAMEO_DEUG_2015 11\n",
      "CAMEO_DEUG_2015 0\n",
      "CAMEO_INTL_2015 11\n",
      "CAMEO_INTL_2015 0\n",
      "Outliers dropped:  (42962, 361)\n"
     ]
    },
    {
     "data": {
      "image/png": "[encoded data removed]",
      "text/plain": [
       "<Figure size 432x288 with 1 Axes>"
      ]
     },
     "metadata": {
      "needs_background": "light"
     },
     "output_type": "display_data"
    },
    {
     "data": {
      "image/png": "[encoded data removed]",
      "text/plain": [
       "<Figure size 432x288 with 1 Axes>"
      ]
     },
     "metadata": {
      "needs_background": "light"
     },
     "output_type": "display_data"
    },
    {
     "name": "stdout",
     "output_type": "stream",
     "text": [
      "Dummied 'OST_WEST_KZ':  (42962, 361)\n",
      "Dummied  16 multi-value categorial variables:  (42962, 511)\n",
      "Removed redundant and dropped columns:  (42962, 488)\n",
      "Replaced and dropped 'CAMEO_INTL_2015' :  (42962, 489)\n",
      "Replaced and dropped 'PRAEGENDE_JUGENDJAHRE':  (42962, 490)\n"
     ]
    }
   ],
   "source": [
    "mailout_train_go = clean_data(mailout_train, outliers, cats_to_dummy, cats_to_drop, wealth, life)"
   ]
  },
  {
   "cell_type": "code",
   "execution_count": 141,
   "metadata": {},
   "outputs": [],
   "source": [
    "mailout_train_go.to_csv('mailout_train_go.csv')"
   ]
  },
  {
   "cell_type": "code",
   "execution_count": 142,
   "metadata": {},
   "outputs": [
    {
     "name": "stdout",
     "output_type": "stream",
     "text": [
      "(42833, 366)\n",
      "CAMEO_DEU_2015 7\n",
      "CAMEO_DEU_2015 0\n",
      "CAMEO_DEUG_2015 7\n",
      "CAMEO_DEUG_2015 0\n",
      "CAMEO_INTL_2015 7\n",
      "CAMEO_INTL_2015 0\n",
      "Outliers dropped:  (42833, 360)\n"
     ]
    },
    {
     "data": {
      "image/png": "[encoded data removed]",
      "text/plain": [
       "<Figure size 432x288 with 1 Axes>"
      ]
     },
     "metadata": {
      "needs_background": "light"
     },
     "output_type": "display_data"
    },
    {
     "data": {
      "image/png": "[encoded data removed]",
      "text/plain": [
       "<Figure size 432x288 with 1 Axes>"
      ]
     },
     "metadata": {
      "needs_background": "light"
     },
     "output_type": "display_data"
    },
    {
     "name": "stdout",
     "output_type": "stream",
     "text": [
      "Dummied 'OST_WEST_KZ':  (42833, 360)\n",
      "Dummied  16 multi-value categorial variables:  (42833, 510)\n",
      "Removed redundant and dropped columns:  (42833, 487)\n",
      "Replaced and dropped 'CAMEO_INTL_2015' :  (42833, 488)\n",
      "Replaced and dropped 'PRAEGENDE_JUGENDJAHRE':  (42833, 489)\n"
     ]
    }
   ],
   "source": [
    "# repeat this process for mailout_test\n",
    "mailout_test = pd.read_csv('project_mailout_test.csv', low_memory=False)\n",
    "print(mailout_test.shape)\n",
    "\n",
    "mailout_test_ids = mailout_test['LNR'].to_csv('mailout_test_ids.csv')\n",
    "\n",
    "mailout_test_go = clean_data(mailout_test, outliers, cats_to_dummy, cats_to_drop, wealth, life)\n",
    "\n",
    "mailout_test_go.to_csv('mailout_test_go.csv')"
   ]
  },
  {
   "cell_type": "code",
   "execution_count": 143,
   "metadata": {},
   "outputs": [
    {
     "name": "stdout",
     "output_type": "stream",
     "text": [
      "(42962, 490)\n",
      "(42833, 489)\n"
     ]
    }
   ],
   "source": [
    "print(mailout_train_go.shape)\n",
    "print(mailout_test_go.shape)"
   ]
  },
  {
   "cell_type": "code",
   "execution_count": null,
   "metadata": {},
   "outputs": [],
   "source": []
  },
  {
   "cell_type": "code",
   "execution_count": null,
   "metadata": {},
   "outputs": [],
   "source": []
  },
  {
   "cell_type": "code",
   "execution_count": null,
   "metadata": {},
   "outputs": [],
   "source": []
  }
 ],
 "metadata": {
  "kernelspec": {
   "display_name": "Python 3",
   "language": "python",
   "name": "python3"
  },
  "language_info": {
   "codemirror_mode": {
    "name": "ipython",
    "version": 3
   },
   "file_extension": ".py",
   "mimetype": "text/x-python",
   "name": "python",
   "nbconvert_exporter": "python",
   "pygments_lexer": "ipython3",
   "version": "3.7.6"
  }
 },
 "nbformat": 4,
 "nbformat_minor": 2
}
